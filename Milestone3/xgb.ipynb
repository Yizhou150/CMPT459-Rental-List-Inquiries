{
 "cells": [
  {
   "cell_type": "code",
   "execution_count": 1,
   "metadata": {},
   "outputs": [],
   "source": [
    "import numpy as np\n",
    "import pandas as pd\n",
    "import matplotlib.pyplot as plt\n",
    "import seaborn as sns"
   ]
  },
  {
   "cell_type": "code",
   "execution_count": 2,
   "metadata": {},
   "outputs": [],
   "source": [
    "from sklearn.model_selection import train_test_split\n",
    "from sklearn.model_selection import cross_val_score\n",
    "from sklearn.model_selection import KFold\n",
    "from sklearn.model_selection import GridSearchCV"
   ]
  },
  {
   "cell_type": "code",
   "execution_count": 23,
   "metadata": {},
   "outputs": [],
   "source": [
    "from sklearn.preprocessing import StandardScaler\n",
    "from sklearn.preprocessing import MinMaxScaler\n",
    "from sklearn.preprocessing import OneHotEncoder\n",
    "from sklearn.preprocessing import LabelEncoder\n",
    "from sklearn.decomposition import PCA\n",
    "from sklearn.pipeline import make_pipeline"
   ]
  },
  {
   "cell_type": "code",
   "execution_count": 4,
   "metadata": {},
   "outputs": [],
   "source": [
    "import xgboost as xgb\n",
    "from xgboost.sklearn import XGBClassifier"
   ]
  },
  {
   "cell_type": "code",
   "execution_count": 5,
   "metadata": {},
   "outputs": [],
   "source": [
    "from sklearn.linear_model import LogisticRegression"
   ]
  },
  {
   "cell_type": "code",
   "execution_count": 6,
   "metadata": {},
   "outputs": [],
   "source": [
    "from sklearn.feature_selection import SelectKBest\n",
    "from sklearn.feature_selection import chi2,f_classif,mutual_info_classif\n",
    "from sklearn.feature_selection import SelectFromModel"
   ]
  },
  {
   "cell_type": "code",
   "execution_count": 7,
   "metadata": {},
   "outputs": [],
   "source": [
    "from scipy.sparse import hstack"
   ]
  },
  {
   "cell_type": "code",
   "execution_count": 8,
   "metadata": {},
   "outputs": [],
   "source": [
    "train = pd.read_json('data/new_modified_train.json').reset_index().drop(columns={'index'})"
   ]
  },
  {
   "cell_type": "code",
   "execution_count": 9,
   "metadata": {},
   "outputs": [],
   "source": [
    "test = pd.read_json('data/new_modified_test.json').reset_index().drop(columns={'index'})"
   ]
  },
  {
   "cell_type": "code",
   "execution_count": 10,
   "metadata": {},
   "outputs": [],
   "source": [
    "train_ = train.drop(columns = {'diff_rooms', 'created','rec_id','features','clean_feat', 'description','display_address','manager_id','features','photos','street_address','building_id'})"
   ]
  },
  {
   "cell_type": "code",
   "execution_count": 11,
   "metadata": {},
   "outputs": [],
   "source": [
    "test_ = test.drop(columns = {'created','rec_id','features','clean_feat', 'description','display_address','manager_id','features','photos','street_address','building_id'})"
   ]
  },
  {
   "cell_type": "code",
   "execution_count": 12,
   "metadata": {},
   "outputs": [],
   "source": [
    "train_['price_per_bdr'] = train_['price']*1.0 / (train_['bedrooms']+1)\n",
    "train_['price_per_btr'] = train_['price']*1.0 / (train_['bathrooms']+1)\n",
    "test_['price_per_bdr'] = test_['price']*1.0 / (test_['bedrooms']+1)\n",
    "test_['price_per_btr'] = test_['price']*1.0 / (test_['bathrooms']+1)"
   ]
  },
  {
   "cell_type": "markdown",
   "metadata": {},
   "source": [
    "# Feature Selection"
   ]
  },
  {
   "cell_type": "markdown",
   "metadata": {},
   "source": [
    "## 1. Extra-Trees "
   ]
  },
  {
   "cell_type": "code",
   "execution_count": 13,
   "metadata": {},
   "outputs": [],
   "source": [
    "from sklearn.ensemble import ExtraTreesClassifier"
   ]
  },
  {
   "cell_type": "code",
   "execution_count": 14,
   "metadata": {},
   "outputs": [],
   "source": [
    "def extra_tree(X, X_test, y, k):\n",
    "    model = ExtraTreesClassifier() #设置ExtraTrees\n",
    "    model.fit(X, y)\n",
    "    temp = np.array(model.feature_importances_)\n",
    "    temp_index = np.argpartition(temp, -k)[-k:]\n",
    "    X_new = X.iloc[:,temp_index]\n",
    "    X_test_new = X_test.iloc[:,temp_index]\n",
    "    return X_new, X_test_new"
   ]
  },
  {
   "cell_type": "markdown",
   "metadata": {},
   "source": [
    "## 2. KBest F-score"
   ]
  },
  {
   "cell_type": "code",
   "execution_count": 15,
   "metadata": {},
   "outputs": [],
   "source": [
    "def f_score(X,X_test,y,k):\n",
    "    tempindex = SelectKBest(f_classif,k=k).fit(X,y).get_support(indices = True)\n",
    "    X_new = X.iloc[:,tempindex]\n",
    "    X_test_new = X_test.iloc[:,tempindex]\n",
    "    return X_new,X_test_new"
   ]
  },
  {
   "cell_type": "markdown",
   "metadata": {},
   "source": [
    "## 3. KBest Mutual Information "
   ]
  },
  {
   "cell_type": "code",
   "execution_count": 16,
   "metadata": {},
   "outputs": [],
   "source": [
    "def MI(X,X_test,y,k):              # best\n",
    "    tempindex = SelectKBest(mutual_info_classif, k=k).fit(X,y).get_support(indices=True)\n",
    "    X_new = X.iloc[:,tempindex]\n",
    "    X_test_new = X_test.iloc[:, tempindex]\n",
    "    return X_new, X_test_new"
   ]
  },
  {
   "cell_type": "code",
   "execution_count": 17,
   "metadata": {},
   "outputs": [],
   "source": [
    "X = train_.drop(columns={'interest_level'})\n",
    "y = train_['interest_level']"
   ]
  },
  {
   "cell_type": "code",
   "execution_count": 18,
   "metadata": {},
   "outputs": [
    {
     "name": "stderr",
     "output_type": "stream",
     "text": [
      "/Users/chenyizhou/anaconda3/lib/python3.7/site-packages/sklearn/ensemble/forest.py:245: FutureWarning: The default value of n_estimators will change from 10 in version 0.20 to 100 in 0.22.\n",
      "  \"10 in version 0.20 to 100 in 0.22.\", FutureWarning)\n"
     ]
    }
   ],
   "source": [
    "X_k, test_k = extra_tree(X, test_, y, 100)"
   ]
  },
  {
   "cell_type": "markdown",
   "metadata": {},
   "source": [
    "# Scaler & Label"
   ]
  },
  {
   "cell_type": "code",
   "execution_count": 19,
   "metadata": {},
   "outputs": [],
   "source": [
    "Scaler = StandardScaler().fit(X_k)\n",
    "X_sc = Scaler.transform(X_k)\n",
    "test_sc = Scaler.transform(test_k)"
   ]
  },
  {
   "cell_type": "code",
   "execution_count": 24,
   "metadata": {},
   "outputs": [],
   "source": [
    "label_encoder = LabelEncoder()\n",
    "label_encoder = label_encoder.fit(y)\n",
    "y_label = label_encoder.transform(y)"
   ]
  },
  {
   "cell_type": "code",
   "execution_count": 25,
   "metadata": {},
   "outputs": [],
   "source": [
    "dtrain = xgb.DMatrix(X_sc, y_label)\n",
    "dtest = xgb.DMatrix(test_sc)"
   ]
  },
  {
   "cell_type": "markdown",
   "metadata": {},
   "source": [
    "# XGBoosting"
   ]
  },
  {
   "cell_type": "code",
   "execution_count": 26,
   "metadata": {},
   "outputs": [],
   "source": [
    "def modelfit(alg, dtrain, X_train, y, X_test, useCV=True, cv_fold=5, stop_r=50):\n",
    "    if useCV:\n",
    "        xgb_param = alg.get_xgb_params()\n",
    "        xgb_train = xgb.DMatrix(X_train, y)\n",
    "        num_ite = xgb_param['n_estimators']\n",
    "        cv_res = xgb.cv(xgb_param, xgb_train, num_boost_round=num_ite, nfold=cv_fold, metrics='mlogloss', early_stopping_rounds=stop_r)\n",
    "        alg.set_params(n_estimators=cv_res.shape[0])\n",
    "        \n",
    "    alg.fit(X_train, y, eval_metric='mlogloss')\n",
    "    \n",
    "    dtest_predictions = alg.predict(X_test)\n",
    "    dtest_predprob = alg.predict_proba(X_test)\n",
    "    \n",
    "    return alg, dtest_predprob"
   ]
  },
  {
   "cell_type": "code",
   "execution_count": 27,
   "metadata": {},
   "outputs": [],
   "source": [
    "params = {\n",
    "    'booster': 'gbtree',\n",
    "    'objective': 'multi:softmax',\n",
    "    'num_class': 3,\n",
    "    'gama': 0.1,\n",
    "    'max_depth': 12,\n",
    "    'lambda': 2,\n",
    "    'subsample': 0.8,\n",
    "    'colsample_bytree': 0.8,\n",
    "    'silent': 0,\n",
    "    'eta': 0.01,\n",
    "    'seed': 100,\n",
    "    'nthread': 2\n",
    "}\n",
    "plst = params.items()"
   ]
  },
  {
   "cell_type": "code",
   "execution_count": 27,
   "metadata": {},
   "outputs": [
    {
     "name": "stdout",
     "output_type": "stream",
     "text": [
      "     train-mlogloss-mean  train-mlogloss-std  test-mlogloss-mean  \\\n",
      "0               1.091271            0.000031            1.092196   \n",
      "1               1.083734            0.000138            1.085700   \n",
      "2               1.076574            0.000261            1.079569   \n",
      "3               1.069450            0.000397            1.073374   \n",
      "4               1.062591            0.000371            1.067460   \n",
      "5               1.055794            0.000429            1.061596   \n",
      "6               1.049393            0.000617            1.055993   \n",
      "7               1.042802            0.000828            1.050346   \n",
      "8               1.036299            0.000976            1.044738   \n",
      "9               1.029901            0.001064            1.039215   \n",
      "10              1.023300            0.001084            1.033626   \n",
      "11              1.017000            0.001133            1.028221   \n",
      "12              1.010716            0.001077            1.022828   \n",
      "13              1.004646            0.001259            1.017603   \n",
      "14              0.998656            0.001150            1.012499   \n",
      "15              0.992645            0.001094            1.007413   \n",
      "16              0.986814            0.001006            1.002416   \n",
      "17              0.981093            0.000822            0.997529   \n",
      "18              0.975434            0.000946            0.992808   \n",
      "19              0.969703            0.001018            0.987939   \n",
      "20              0.963854            0.000970            0.983111   \n",
      "21              0.958479            0.000979            0.978602   \n",
      "22              0.953090            0.000871            0.974044   \n",
      "23              0.947713            0.000847            0.969491   \n",
      "24              0.942549            0.000808            0.965137   \n",
      "25              0.937266            0.000745            0.960766   \n",
      "26              0.932234            0.000672            0.956542   \n",
      "27              0.927039            0.000673            0.952285   \n",
      "28              0.921878            0.000837            0.948103   \n",
      "29              0.916931            0.000938            0.943972   \n",
      "..                   ...                 ...                 ...   \n",
      "470             0.346095            0.001181            0.593526   \n",
      "471             0.345784            0.001198            0.593474   \n",
      "472             0.345434            0.001264            0.593425   \n",
      "473             0.345089            0.001287            0.593380   \n",
      "474             0.344746            0.001298            0.593339   \n",
      "475             0.344391            0.001304            0.593295   \n",
      "476             0.344078            0.001275            0.593241   \n",
      "477             0.343705            0.001317            0.593191   \n",
      "478             0.343348            0.001296            0.593132   \n",
      "479             0.342977            0.001270            0.593079   \n",
      "480             0.342577            0.001283            0.593034   \n",
      "481             0.342184            0.001207            0.592984   \n",
      "482             0.341855            0.001234            0.592942   \n",
      "483             0.341529            0.001207            0.592902   \n",
      "484             0.341143            0.001216            0.592853   \n",
      "485             0.340751            0.001160            0.592805   \n",
      "486             0.340410            0.001171            0.592756   \n",
      "487             0.340022            0.001123            0.592714   \n",
      "488             0.339693            0.001144            0.592684   \n",
      "489             0.339350            0.001211            0.592634   \n",
      "490             0.338989            0.001220            0.592593   \n",
      "491             0.338588            0.001242            0.592535   \n",
      "492             0.338241            0.001178            0.592491   \n",
      "493             0.337865            0.001165            0.592446   \n",
      "494             0.337478            0.001169            0.592405   \n",
      "495             0.337120            0.001154            0.592361   \n",
      "496             0.336767            0.001164            0.592321   \n",
      "497             0.336438            0.001184            0.592282   \n",
      "498             0.336097            0.001253            0.592252   \n",
      "499             0.335764            0.001239            0.592206   \n",
      "\n",
      "     test-mlogloss-std  \n",
      "0             0.000050  \n",
      "1             0.000064  \n",
      "2             0.000323  \n",
      "3             0.000495  \n",
      "4             0.000574  \n",
      "5             0.000585  \n",
      "6             0.000654  \n",
      "7             0.000838  \n",
      "8             0.001014  \n",
      "9             0.001044  \n",
      "10            0.001082  \n",
      "11            0.001145  \n",
      "12            0.001133  \n",
      "13            0.001300  \n",
      "14            0.001212  \n",
      "15            0.001211  \n",
      "16            0.001215  \n",
      "17            0.001142  \n",
      "18            0.001216  \n",
      "19            0.001294  \n",
      "20            0.001321  \n",
      "21            0.001332  \n",
      "22            0.001267  \n",
      "23            0.001270  \n",
      "24            0.001216  \n",
      "25            0.001207  \n",
      "26            0.001164  \n",
      "27            0.001123  \n",
      "28            0.001212  \n",
      "29            0.001257  \n",
      "..                 ...  \n",
      "470           0.004500  \n",
      "471           0.004492  \n",
      "472           0.004486  \n",
      "473           0.004478  \n",
      "474           0.004476  \n",
      "475           0.004481  \n",
      "476           0.004488  \n",
      "477           0.004487  \n",
      "478           0.004492  \n",
      "479           0.004491  \n",
      "480           0.004488  \n",
      "481           0.004492  \n",
      "482           0.004497  \n",
      "483           0.004500  \n",
      "484           0.004495  \n",
      "485           0.004504  \n",
      "486           0.004500  \n",
      "487           0.004492  \n",
      "488           0.004505  \n",
      "489           0.004501  \n",
      "490           0.004488  \n",
      "491           0.004489  \n",
      "492           0.004497  \n",
      "493           0.004504  \n",
      "494           0.004495  \n",
      "495           0.004496  \n",
      "496           0.004506  \n",
      "497           0.004517  \n",
      "498           0.004521  \n",
      "499           0.004520  \n",
      "\n",
      "[500 rows x 4 columns]\n"
     ]
    }
   ],
   "source": [
    "cv_res= xgb.cv(params, dtrain, num_boost_round=500, early_stopping_rounds=30, nfold=5, metrics='mlogloss',show_stdv=True)\n",
    "print(cv_res)"
   ]
  },
  {
   "cell_type": "code",
   "execution_count": 68,
   "metadata": {},
   "outputs": [],
   "source": [
    "xgb0 = XGBClassifier(\n",
    "    booster='gbtree',\n",
    "    objective= 'multi:softprob',\n",
    "    num_class=3,\n",
    "    learning_rate =0.1,\n",
    "    n_estimators=500,\n",
    "    max_depth=8,\n",
    "    min_child_weight=1,\n",
    "    gamma=0,\n",
    "    subsample=0.8,\n",
    "    colsample_bytree=0.8,\n",
    "    scale_pos_weight=1,\n",
    "    seed=27)"
   ]
  },
  {
   "cell_type": "markdown",
   "metadata": {},
   "source": [
    "### Tune max_depth and min_child_weight"
   ]
  },
  {
   "cell_type": "code",
   "execution_count": 38,
   "metadata": {},
   "outputs": [],
   "source": [
    "xgb1 = XGBClassifier(\n",
    "    booster='gbtree',\n",
    "    objective= 'multi:softprob',\n",
    "    num_class=3,\n",
    "    learning_rate =0.1,\n",
    "    n_estimators=140,\n",
    "    max_depth=5,\n",
    "    min_child_weight=1,\n",
    "    gamma=0,\n",
    "    subsample=0.8,\n",
    "    colsample_bytree=0.8,\n",
    "    scale_pos_weight=1,\n",
    "    seed=27)\n",
    "\n",
    "param_test1 = {\n",
    "    'max_depth':range(8,11,1),\n",
    "    'min_child_weight':range(4,7,1)\n",
    "}"
   ]
  },
  {
   "cell_type": "code",
   "execution_count": 39,
   "metadata": {},
   "outputs": [
    {
     "data": {
      "text/plain": [
       "({'max_depth': 9, 'min_child_weight': 6}, -0.603283114321033)"
      ]
     },
     "execution_count": 39,
     "metadata": {},
     "output_type": "execute_result"
    }
   ],
   "source": [
    "gsearch1 = GridSearchCV(estimator = xgb1, param_grid = param_test1, scoring='neg_log_loss', iid=False, cv=2)\n",
    "gsearch1.fit(X_sc, y)\n",
    "gsearch1.best_params_, gsearch1.best_score_"
   ]
  },
  {
   "cell_type": "code",
   "execution_count": 36,
   "metadata": {},
   "outputs": [
    {
     "data": {
      "text/plain": [
       "({'max_depth': 9, 'min_child_weight': 5}, -0.5869967920717263)"
      ]
     },
     "execution_count": 36,
     "metadata": {},
     "output_type": "execute_result"
    }
   ],
   "source": [
    "gsearch1.best_params_, gsearch1.best_score_"
   ]
  },
  {
   "cell_type": "markdown",
   "metadata": {},
   "source": [
    "### Tune gamma"
   ]
  },
  {
   "cell_type": "code",
   "execution_count": 53,
   "metadata": {},
   "outputs": [],
   "source": [
    "xgb2 = XGBClassifier(\n",
    "    booster='gbtree',\n",
    "    objective= 'multi:softprob',\n",
    "    num_class=3,\n",
    "    learning_rate =0.1,\n",
    "    n_estimators=120,\n",
    "    max_depth=9,\n",
    "    min_child_weight=6,\n",
    "    gamma=0,\n",
    "    subsample=0.8,\n",
    "    colsample_bytree=0.8,\n",
    "    scale_pos_weight=1,\n",
    "    seed=27)\n",
    "\n",
    "param_test2 = {\n",
    " 'gamma': [i/10.0 for i in range(0,5)]\n",
    "}"
   ]
  },
  {
   "cell_type": "code",
   "execution_count": 43,
   "metadata": {},
   "outputs": [
    {
     "data": {
      "text/plain": [
       "({'gamma': 0.1}, -0.5956729354124367)"
      ]
     },
     "execution_count": 43,
     "metadata": {},
     "output_type": "execute_result"
    }
   ],
   "source": [
    "gsearch2 = GridSearchCV(estimator = xgb2, param_grid = param_test2, scoring='neg_log_loss', n_jobs=4, iid=False, cv=3)\n",
    "gsearch2.fit(X_sc, y)\n",
    "gsearch2.best_params_, gsearch2.best_score_"
   ]
  },
  {
   "cell_type": "markdown",
   "metadata": {},
   "source": [
    "### Tune subsample and colsample "
   ]
  },
  {
   "cell_type": "code",
   "execution_count": 60,
   "metadata": {},
   "outputs": [],
   "source": [
    "xgb3 = XGBClassifier(\n",
    "    booster='gbtree',\n",
    "    objective= 'multi:softprob',\n",
    "    num_class=3,\n",
    "    learning_rate =0.1,\n",
    "    n_estimators=100,\n",
    "    max_depth=9,\n",
    "    min_child_weight=6,\n",
    "    gamma=0.1,\n",
    "    subsample=0.8,\n",
    "    colsample_bytree=0.8,\n",
    "    scale_pos_weight=1,\n",
    "    seed=27)\n",
    "\n",
    "param_test3 = {\n",
    "    'subsample':[i/100.0 for i in range(80,95,5)],\n",
    "    'colsample_bytree':[i/100.0 for i in range(65,80,5)]\n",
    "}"
   ]
  },
  {
   "cell_type": "code",
   "execution_count": 61,
   "metadata": {},
   "outputs": [
    {
     "data": {
      "text/plain": [
       "({'colsample_bytree': 0.7, 'subsample': 0.9}, -0.6029574997074298)"
      ]
     },
     "execution_count": 61,
     "metadata": {},
     "output_type": "execute_result"
    }
   ],
   "source": [
    "gsearch3 = GridSearchCV(estimator = xgb3, param_grid = param_test3, scoring='neg_log_loss', n_jobs=4, iid=False, cv=2)\n",
    "gsearch3.fit(X_sc, y)\n",
    "gsearch3.best_params_, gsearch3.best_score_"
   ]
  },
  {
   "cell_type": "code",
   "execution_count": 56,
   "metadata": {},
   "outputs": [
    {
     "data": {
      "text/plain": [
       "({'colsample_bytree': 0.7, 'subsample': 0.9}, -0.6029574997074298)"
      ]
     },
     "execution_count": 56,
     "metadata": {},
     "output_type": "execute_result"
    }
   ],
   "source": [
    "gsearch3.best_params_, gsearch3.best_score_"
   ]
  },
  {
   "cell_type": "code",
   "execution_count": 28,
   "metadata": {},
   "outputs": [],
   "source": [
    "final_xgb = XGBClassifier(\n",
    "    booster='gbtree',\n",
    "    objective= 'multi:softprob',\n",
    "    num_class=3,\n",
    "    learning_rate =0.1,\n",
    "    n_estimators=800,\n",
    "    max_depth=9,\n",
    "    min_child_weight=6,\n",
    "    gamma=0.1,\n",
    "    subsample=0.9,\n",
    "    colsample_bytree=0.7,\n",
    "    scale_pos_weight=1,\n",
    "    seed=27)"
   ]
  },
  {
   "cell_type": "code",
   "execution_count": 29,
   "metadata": {},
   "outputs": [],
   "source": [
    "final_xgb, pro = modelfit(final_xgb, dtrain, X_sc, y_label, test_sc)"
   ]
  },
  {
   "cell_type": "code",
   "execution_count": 36,
   "metadata": {},
   "outputs": [
    {
     "name": "stdout",
     "output_type": "stream",
     "text": [
      "0.9014542865859859 0.744940506457846\n",
      "0.9019627783992678 0.748601647513475\n",
      "0.9034628292484491 0.7319231160378318\n",
      "0.9037933489270823 0.7379233194345571\n",
      "0.9004881521407505 0.7396521915997153\n"
     ]
    }
   ],
   "source": [
    "kf = KFold(n_splits=5)\n",
    "for train_index, valid_index in kf.split(X_sc, y_label):\n",
    "    X_train = X_sc[train_index]\n",
    "    X_valid = X_sc[valid_index]\n",
    "    y_train = y.iloc[train_index]\n",
    "    y_valid = y.iloc[valid_index]\n",
    "    final_xgb.fit(X_train, y_train)\n",
    "    print(final_xgb.score(X_train, y_train), final_xgb.score(X_valid, y_valid))\n",
    "# print(\"scores on train and valid: \", np.mean(Scores_train), np.mean(Scores_valid))"
   ]
  },
  {
   "cell_type": "code",
   "execution_count": 40,
   "metadata": {},
   "outputs": [],
   "source": [
    "from sklearn.metrics import confusion_matrix"
   ]
  },
  {
   "cell_type": "code",
   "execution_count": 41,
   "metadata": {},
   "outputs": [],
   "source": [
    "def cm_plot(y_valid,y_pred):\n",
    "    cm = confusion_matrix(y_valid, y_pred, labels = ['high','low','medium'])\n",
    "    cm = pd.DataFrame(cm,columns=['high','low','medium'],index = ['high','low','medium'])\n",
    "    plt.title('Confusion Matrix',fontsize=18)\n",
    "    ax = sns.heatmap(cm,annot=True,cmap='Reds', fmt='.20g', linewidths = 0)\n",
    "    bottom, top = ax.get_ylim()\n",
    "    ax.set_ylim(bottom + 0.5, top - 0.5)\n",
    "    plt.xlabel('Predicted Label',fontsize=12)\n",
    "    plt.ylabel('True Label',fontsize=12)\n",
    "    plt.savefig('cm.png',dpi=800)"
   ]
  },
  {
   "cell_type": "code",
   "execution_count": 37,
   "metadata": {},
   "outputs": [],
   "source": [
    "y_pred = final_xgb.predict(X_valid)"
   ]
  },
  {
   "cell_type": "code",
   "execution_count": 42,
   "metadata": {},
   "outputs": [
    {
     "data": {
      "image/png": "[encoded data removed]",
      "text/plain": [
       "<Figure size 432x288 with 2 Axes>"
      ]
     },
     "metadata": {
      "needs_background": "light"
     },
     "output_type": "display_data"
    }
   ],
   "source": [
    "cm_plot(y_valid, y_pred)"
   ]
  },
  {
   "cell_type": "code",
   "execution_count": 43,
   "metadata": {},
   "outputs": [],
   "source": [
    "final_final_xgb = XGBClassifier(\n",
    "    booster='gbtree',\n",
    "    objective= 'multi:softmax',\n",
    "    num_class=3,\n",
    "    learning_rate =0.05,\n",
    "    n_estimators=800,\n",
    "    max_depth=8,\n",
    "    min_child_weight=6,\n",
    "    gamma=0.1,\n",
    "    subsample=0.9,\n",
    "    colsample_bytree=0.7,\n",
    "    scale_pos_weight=1,\n",
    "    seed=27)"
   ]
  },
  {
   "cell_type": "code",
   "execution_count": 44,
   "metadata": {},
   "outputs": [],
   "source": [
    "final_final_xgb, pro2 = modelfit(final_final_xgb, dtrain, X_sc, y_label, test_sc)"
   ]
  },
  {
   "cell_type": "code",
   "execution_count": 47,
   "metadata": {},
   "outputs": [],
   "source": [
    "final_3_xgb = XGBClassifier(\n",
    "    booster='gbtree',\n",
    "    objective= 'multi:softprob',\n",
    "    num_class=3,\n",
    "    learning_rate =0.1,\n",
    "    n_estimators=800,\n",
    "    max_depth=7,\n",
    "    min_child_weight=6,\n",
    "    gamma=0.1,\n",
    "    subsample=0.9,\n",
    "    colsample_bytree=0.7,\n",
    "    scale_pos_weight=1,\n",
    "    seed=27)"
   ]
  },
  {
   "cell_type": "code",
   "execution_count": 48,
   "metadata": {},
   "outputs": [],
   "source": [
    "final_3_xgb, pro3 = modelfit(final_3_xgb, dtrain, X_sc, y_label, test_sc)"
   ]
  },
  {
   "cell_type": "code",
   "execution_count": null,
   "metadata": {},
   "outputs": [],
   "source": [
    "kf = KFold(n_splits=5)\n",
    "for train_index, valid_index in kf.split(X_sc, y_label):\n",
    "    X_train = X_sc[train_index]\n",
    "    X_valid = X_sc[valid_index]\n",
    "    y_train = y.iloc[train_index]\n",
    "    y_valid = y.iloc[valid_index]\n",
    "    final_3_xgb.fit(X_train, y_train)\n",
    "    print(final_3_xgb.score(X_train, y_train), final_3_xgb.score(X_valid, y_valid))\n",
    "# print(\"scores on train and valid: \", np.mean(Scores_train), np.mean(Scores_valid))"
   ]
  },
  {
   "cell_type": "code",
   "execution_count": 196,
   "metadata": {},
   "outputs": [],
   "source": [
    "initial_xgb = XGBClassifier(\n",
    "    booster='gbtree',\n",
    "    objective= 'multi:softmax',\n",
    "    num_class=3,\n",
    "    learning_rate =0.1,\n",
    "    n_estimators=100,\n",
    "    max_depth=12,\n",
    "    min_child_weight=1,\n",
    "    gamma=0,\n",
    "    seed=27)"
   ]
  },
  {
   "cell_type": "code",
   "execution_count": 197,
   "metadata": {},
   "outputs": [
    {
     "data": {
      "text/plain": [
       "XGBClassifier(base_score=0.5, booster='gbtree', colsample_bylevel=1,\n",
       "              colsample_bynode=1, colsample_bytree=1, gamma=0,\n",
       "              learning_rate=0.1, max_delta_step=0, max_depth=12,\n",
       "              min_child_weight=1, missing=None, n_estimators=100, n_jobs=1,\n",
       "              nthread=None, num_class=3, objective='multi:softprob',\n",
       "              random_state=0, reg_alpha=0, reg_lambda=1, scale_pos_weight=1,\n",
       "              seed=27, silent=None, subsample=1, verbosity=1)"
      ]
     },
     "execution_count": 197,
     "metadata": {},
     "output_type": "execute_result"
    }
   ],
   "source": [
    "initial_xgb.fit(X_sc, y_label, eval_metric='mlogloss')"
   ]
  },
  {
   "cell_type": "code",
   "execution_count": 203,
   "metadata": {},
   "outputs": [
    {
     "name": "stdout",
     "output_type": "stream",
     "text": [
      "0.9625241533611308 0.7391436997864335\n",
      "0.9598545713414014 0.7393470965117461\n",
      "0.9588375877148377 0.7251093257398555\n",
      "0.9638208074849995 0.7351774636428353\n",
      "0.9555832401098342 0.7321265127631446\n"
     ]
    }
   ],
   "source": [
    "kf = KFold(n_splits=5)\n",
    "for train_index, valid_index in kf.split(X_sc, y_label):\n",
    "    X_train = X_sc[train_index]\n",
    "    X_valid = X_sc[valid_index]\n",
    "    y_train = y.iloc[train_index]\n",
    "    y_valid = y.iloc[valid_index]\n",
    "    initial_xgb.fit(X_train, y_train)\n",
    "    print(initial_xgb.score(X_train, y_train), initial_xgb.score(X_valid, y_valid))\n",
    "# print(\"scores on train and valid: \", np.mean(Scores_train), np.mean(Scores_valid))"
   ]
  },
  {
   "cell_type": "code",
   "execution_count": 198,
   "metadata": {},
   "outputs": [],
   "source": [
    "pro_init = initial_xgb.predict_proba(test_sc)"
   ]
  },
  {
   "cell_type": "markdown",
   "metadata": {},
   "source": [
    "# Fusion with LR"
   ]
  },
  {
   "cell_type": "code",
   "execution_count": 118,
   "metadata": {},
   "outputs": [],
   "source": [
    "X_train_leaves = final_xgb.apply(X_sc)"
   ]
  },
  {
   "cell_type": "code",
   "execution_count": 123,
   "metadata": {},
   "outputs": [
    {
     "data": {
      "text/plain": [
       "(49165, 483)"
      ]
     },
     "execution_count": 123,
     "metadata": {},
     "output_type": "execute_result"
    }
   ],
   "source": [
    "X_train_leaves.shape"
   ]
  },
  {
   "cell_type": "code",
   "execution_count": 119,
   "metadata": {},
   "outputs": [],
   "source": [
    "X_test_leaves = final_xgb.apply(test_sc)"
   ]
  },
  {
   "cell_type": "code",
   "execution_count": 124,
   "metadata": {},
   "outputs": [
    {
     "data": {
      "text/plain": [
       "(74659, 483)"
      ]
     },
     "execution_count": 124,
     "metadata": {},
     "output_type": "execute_result"
    }
   ],
   "source": [
    "X_test_leaves.shape"
   ]
  },
  {
   "cell_type": "code",
   "execution_count": 120,
   "metadata": {},
   "outputs": [],
   "source": [
    "X_leaves = np.concatenate((X_train_leaves, X_test_leaves), axis=0)"
   ]
  },
  {
   "cell_type": "code",
   "execution_count": 125,
   "metadata": {},
   "outputs": [
    {
     "data": {
      "text/plain": [
       "(123824, 483)"
      ]
     },
     "execution_count": 125,
     "metadata": {},
     "output_type": "execute_result"
    }
   ],
   "source": [
    "X_leaves.shape"
   ]
  },
  {
   "cell_type": "code",
   "execution_count": 129,
   "metadata": {},
   "outputs": [],
   "source": [
    "xgbenc = OneHotEncoder(categories='auto')\n",
    "X_trans = xgbenc.fit_transform(X_leaves)"
   ]
  },
  {
   "cell_type": "code",
   "execution_count": 150,
   "metadata": {},
   "outputs": [],
   "source": [
    "lr =  LogisticRegression(penalty='l2', C=10.0, solver='sag', multi_class='multinomial', max_iter=1000)"
   ]
  },
  {
   "cell_type": "code",
   "execution_count": 136,
   "metadata": {},
   "outputs": [],
   "source": [
    "train_rows = X_train_leaves.shape[0]\n",
    "test_rows = X_test_leaves.shape[0]"
   ]
  },
  {
   "cell_type": "code",
   "execution_count": 138,
   "metadata": {},
   "outputs": [],
   "source": [
    "X_train_ext = hstack([X_trans[:train_rows, : ], X_sc])\n",
    "X_test_ext = hstack([X_trans[train_rows:, : ], test_sc])"
   ]
  },
  {
   "cell_type": "code",
   "execution_count": 151,
   "metadata": {},
   "outputs": [
    {
     "data": {
      "text/plain": [
       "LogisticRegression(C=10.0, class_weight=None, dual=False, fit_intercept=True,\n",
       "                   intercept_scaling=1, l1_ratio=None, max_iter=1000,\n",
       "                   multi_class='multinomial', n_jobs=None, penalty='l2',\n",
       "                   random_state=None, solver='sag', tol=0.0001, verbose=0,\n",
       "                   warm_start=False)"
      ]
     },
     "execution_count": 151,
     "metadata": {},
     "output_type": "execute_result"
    }
   ],
   "source": [
    "lr.fit(X_train_ext, y_label)"
   ]
  },
  {
   "cell_type": "code",
   "execution_count": 152,
   "metadata": {},
   "outputs": [],
   "source": [
    "pro3 = lr.predict_proba(X_test_ext)"
   ]
  },
  {
   "cell_type": "markdown",
   "metadata": {},
   "source": [
    "# Stacking"
   ]
  },
  {
   "cell_type": "code",
   "execution_count": 173,
   "metadata": {},
   "outputs": [],
   "source": [
    "from mlxtend.classifier import StackingClassifier\n",
    "from sklearn.ensemble import RandomForestClassifier\n",
    "from sklearn.naive_bayes import GaussianNB"
   ]
  },
  {
   "cell_type": "code",
   "execution_count": 174,
   "metadata": {},
   "outputs": [],
   "source": [
    "rf = RandomForestClassifier(n_estimators=200, max_depth=20, oob_score=True, n_jobs=4)\n",
    "GNB = GaussianNB()"
   ]
  },
  {
   "cell_type": "code",
   "execution_count": 175,
   "metadata": {},
   "outputs": [],
   "source": [
    "Stacking = StackingClassifier(classifiers=[GNB, final_xgb], use_probas=True, average_probas=False, meta_classifier=lr)"
   ]
  },
  {
   "cell_type": "code",
   "execution_count": 176,
   "metadata": {},
   "outputs": [
    {
     "data": {
      "text/plain": [
       "StackingClassifier(average_probas=False,\n",
       "                   classifiers=[GaussianNB(priors=None, var_smoothing=1e-09),\n",
       "                                XGBClassifier(base_score=0.5, booster='gbtree',\n",
       "                                              colsample_bylevel=1,\n",
       "                                              colsample_bynode=1,\n",
       "                                              colsample_bytree=0.7, gamma=0.1,\n",
       "                                              learning_rate=0.1,\n",
       "                                              max_delta_step=0, max_depth=9,\n",
       "                                              min_child_weight=6, missing=None,\n",
       "                                              n_estimators=161, n_jobs=1,\n",
       "                                              nthread=None, num_class=3,\n",
       "                                              objecti...\n",
       "                   meta_classifier=LogisticRegression(C=10.0, class_weight=None,\n",
       "                                                      dual=False,\n",
       "                                                      fit_intercept=True,\n",
       "                                                      intercept_scaling=1,\n",
       "                                                      l1_ratio=None,\n",
       "                                                      max_iter=1000,\n",
       "                                                      multi_class='multinomial',\n",
       "                                                      n_jobs=None, penalty='l2',\n",
       "                                                      random_state=None,\n",
       "                                                      solver='sag', tol=0.0001,\n",
       "                                                      verbose=0,\n",
       "                                                      warm_start=False),\n",
       "                   store_train_meta_features=False, use_clones=True,\n",
       "                   use_features_in_secondary=False, use_probas=True, verbose=0)"
      ]
     },
     "execution_count": 176,
     "metadata": {},
     "output_type": "execute_result"
    }
   ],
   "source": [
    "Stacking.fit(X_sc, y_label)"
   ]
  },
  {
   "cell_type": "code",
   "execution_count": 177,
   "metadata": {},
   "outputs": [],
   "source": [
    "pro4 = Stacking.predict_proba(test_sc)"
   ]
  },
  {
   "cell_type": "code",
   "execution_count": 31,
   "metadata": {},
   "outputs": [],
   "source": [
    "def to_result_format(X,y):\n",
    "    res = pd.DataFrame(y,columns=['high', 'low', 'medium'])\n",
    "    temp = res['low']\n",
    "    res = res.drop(columns = {'low'})\n",
    "    res.insert(2,'low',temp)\n",
    "    res.insert\n",
    "    res.insert(0,'listing_id',X['listing_id'])\n",
    "    return res"
   ]
  },
  {
   "cell_type": "code",
   "execution_count": 32,
   "metadata": {},
   "outputs": [],
   "source": [
    "res = to_result_format(test,pro)"
   ]
  },
  {
   "cell_type": "code",
   "execution_count": 45,
   "metadata": {},
   "outputs": [],
   "source": [
    "res2 = to_result_format(test, pro2)"
   ]
  },
  {
   "cell_type": "code",
   "execution_count": 49,
   "metadata": {},
   "outputs": [],
   "source": [
    "res3 = to_result_format(test, pro3)"
   ]
  },
  {
   "cell_type": "code",
   "execution_count": 33,
   "metadata": {},
   "outputs": [],
   "source": [
    "res.to_csv('submission_final.csv',index = None)"
   ]
  },
  {
   "cell_type": "code",
   "execution_count": 46,
   "metadata": {},
   "outputs": [],
   "source": [
    "res2.to_csv('submission_final_final.csv',index = None)"
   ]
  },
  {
   "cell_type": "code",
   "execution_count": 50,
   "metadata": {},
   "outputs": [],
   "source": [
    "res3.to_csv('submission_final_3.csv',index = None)"
   ]
  },
  {
   "cell_type": "code",
   "execution_count": 34,
   "metadata": {},
   "outputs": [
    {
     "data": {
      "text/plain": [
       "{'base_score': 0.5,\n",
       " 'booster': 'gbtree',\n",
       " 'colsample_bylevel': 1,\n",
       " 'colsample_bynode': 1,\n",
       " 'colsample_bytree': 0.7,\n",
       " 'gamma': 0.1,\n",
       " 'learning_rate': 0.1,\n",
       " 'max_delta_step': 0,\n",
       " 'max_depth': 9,\n",
       " 'min_child_weight': 6,\n",
       " 'missing': None,\n",
       " 'n_estimators': 175,\n",
       " 'nthread': 1,\n",
       " 'objective': 'multi:softprob',\n",
       " 'reg_alpha': 0,\n",
       " 'reg_lambda': 1,\n",
       " 'scale_pos_weight': 1,\n",
       " 'seed': 27,\n",
       " 'subsample': 0.9,\n",
       " 'verbosity': 1,\n",
       " 'num_class': 3}"
      ]
     },
     "execution_count": 34,
     "metadata": {},
     "output_type": "execute_result"
    }
   ],
   "source": [
    "final_xgb.get_xgb_params()"
   ]
  },
  {
   "cell_type": "code",
   "execution_count": null,
   "metadata": {},
   "outputs": [],
   "source": []
  }
 ],
 "metadata": {
  "kernelspec": {
   "display_name": "Python 3",
   "language": "python",
   "name": "python3"
  },
  "language_info": {
   "codemirror_mode": {
    "name": "ipython",
    "version": 3
   },
   "file_extension": ".py",
   "mimetype": "text/x-python",
   "name": "python",
   "nbconvert_exporter": "python",
   "pygments_lexer": "ipython3",
   "version": "3.7.3"
  }
 },
 "nbformat": 4,
 "nbformat_minor": 2
}
