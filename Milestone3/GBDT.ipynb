{
 "cells": [
  {
   "cell_type": "markdown",
   "metadata": {},
   "source": [
    "# 1. Data Preprocessing"
   ]
  },
  {
   "cell_type": "code",
   "execution_count": 1,
   "metadata": {},
   "outputs": [],
   "source": [
    "import pandas as pd\n",
    "import numpy as np\n",
    "from sklearn.model_selection import KFold\n",
    "from sklearn.preprocessing import MinMaxScaler\n",
    "from sklearn.model_selection import KFold\n",
    "from sklearn.decomposition import PCA\n",
    "from sklearn.model_selection import cross_val_score\n",
    "import statsmodels.api as sm\n",
    "from sklearn.feature_extraction.text import  TfidfVectorizer, CountVectorizer\n",
    "import re\n",
    "from sklearn.ensemble import GradientBoostingClassifier\n",
    "from sklearn.model_selection import GridSearchCV\n",
    "from sklearn.model_selection import StratifiedShuffleSplit"
   ]
  },
  {
   "cell_type": "markdown",
   "metadata": {},
   "source": [
    "### 1.1 add text features"
   ]
  },
  {
   "cell_type": "code",
   "execution_count": 2,
   "metadata": {},
   "outputs": [],
   "source": [
    "def word_to_phrase(flist):\n",
    "    plist = []\n",
    "    if len(flist) > 0:\n",
    "        for feature in flist:\n",
    "            feature = re.sub('[_]',' ',feature)\n",
    "            feature = feature.strip()\n",
    "            feature_p = ''.join(feature.split(' '))\n",
    "            plist.append(feature_p)\n",
    "    return plist\n",
    "\n",
    "def list_to_string(flist):\n",
    "    string = ' '.join(flist)\n",
    "    return string"
   ]
  },
  {
   "cell_type": "code",
   "execution_count": 78,
   "metadata": {},
   "outputs": [],
   "source": [
    "ori_train = pd.read_json('train.json.zip', orient='columns', convert_dates=['created'], compression='zip')\n",
    "ori_train = ori_train.reset_index()\n",
    "ori_train.rename(columns={'index':'rec_id'}, inplace=True) \n",
    "train = ori_train\n",
    "test =  pd.read_json('test.json.zip', orient='columns', convert_dates=['created'], compression='zip')\n",
    "test = test.reset_index()\n",
    "test.rename(columns={'index':'rec_id'}, inplace=True)\n",
    "\n",
    "# remove outliers with ridiculously high prices\n",
    "train = train[train['price']<=20000]\n",
    "# remove outliers which the houses locate far away from most of the houses and missing values\n",
    "train = train[(train['latitude'] <= 41.5) & (train['latitude'] >= 40) & (train['longitude'] >= -80) & (train['longitude'] <= -70)]\n",
    "# remove outliers which have bathrooms more than bedrooms\n",
    "train['diff_rooms'] = train['bedrooms'] - train['bathrooms']\n",
    "train = train[train['diff_rooms']>=-1.5]\n",
    "\n",
    "train_text = train[['description', 'features']]\n",
    "test_text = test[['description', 'features']]\n",
    "data_text = pd.concat([train_text, test_text], axis=0)\n",
    "\n",
    "# tfidf\n",
    "desc_tfidf = TfidfVectorizer(min_df=20, max_features=20, strip_accents='unicode',lowercase =True,\n",
    "                        analyzer='word', token_pattern=r'\\w{5,}', ngram_range=(1, 3),  sublinear_tf=True, stop_words = 'english')  \n",
    "desc_tfidf_fit =desc_tfidf.fit_transform(data_text['description'])\n",
    "desc_name = [x for x in desc_tfidf.get_feature_names()]\n",
    "# standardize \"feature\"\n",
    "data_text['features_phr'] = data_text['features'].apply(word_to_phrase)\n",
    "data_text['features_phr_str'] = data_text['features_phr'].apply(list_to_string)\n",
    "# tfidf 'feature'\n",
    "phr_tfidf = TfidfVectorizer(min_df=2, max_features=20, strip_accents='unicode', lowercase=True, token_pattern=r'\\w{3,}', stop_words='english')  \n",
    "phr_tfidf_fit =phr_tfidf.fit_transform(data_text['features_phr_str'])\n",
    "phr_names = [x for x in phr_tfidf.get_feature_names()]\n",
    "data_text['features_phr_vec'] = pd.Series(phr_tfidf_fit.toarray().tolist())"
   ]
  },
  {
   "cell_type": "code",
   "execution_count": 79,
   "metadata": {},
   "outputs": [],
   "source": [
    "phr_list = phr_tfidf_fit.toarray().tolist()\n",
    "p_array=np.asarray(phr_list).reshape(123824, 20)\n",
    "phr = pd.DataFrame(p_array, columns=[\"p_%d\" % i for i in range(0, 20)])\n",
    "\n",
    "desc_list = desc_tfidf_fit.toarray().tolist()\n",
    "d_array=np.asarray(desc_list).reshape(123824, 20)\n",
    "desc = pd.DataFrame(d_array, columns=[\"d_%d\" % i for i in range(0, 20)])"
   ]
  },
  {
   "cell_type": "code",
   "execution_count": 80,
   "metadata": {},
   "outputs": [
    {
     "data": {
      "text/html": [
       "<div>\n",
       "<style scoped>\n",
       "    .dataframe tbody tr th:only-of-type {\n",
       "        vertical-align: middle;\n",
       "    }\n",
       "\n",
       "    .dataframe tbody tr th {\n",
       "        vertical-align: top;\n",
       "    }\n",
       "\n",
       "    .dataframe thead th {\n",
       "        text-align: right;\n",
       "    }\n",
       "</style>\n",
       "<table border=\"1\" class=\"dataframe\">\n",
       "  <thead>\n",
       "    <tr style=\"text-align: right;\">\n",
       "      <th></th>\n",
       "      <th>p_0</th>\n",
       "      <th>p_1</th>\n",
       "      <th>p_2</th>\n",
       "      <th>p_3</th>\n",
       "      <th>p_4</th>\n",
       "      <th>p_5</th>\n",
       "      <th>p_6</th>\n",
       "      <th>p_7</th>\n",
       "      <th>p_8</th>\n",
       "      <th>p_9</th>\n",
       "      <th>...</th>\n",
       "      <th>d_10</th>\n",
       "      <th>d_11</th>\n",
       "      <th>d_12</th>\n",
       "      <th>d_13</th>\n",
       "      <th>d_14</th>\n",
       "      <th>d_15</th>\n",
       "      <th>d_16</th>\n",
       "      <th>d_17</th>\n",
       "      <th>d_18</th>\n",
       "      <th>d_19</th>\n",
       "    </tr>\n",
       "  </thead>\n",
       "  <tbody>\n",
       "    <tr>\n",
       "      <th>0</th>\n",
       "      <td>0.0</td>\n",
       "      <td>0.269246</td>\n",
       "      <td>0.505923</td>\n",
       "      <td>0.288970</td>\n",
       "      <td>0.280043</td>\n",
       "      <td>0.000000</td>\n",
       "      <td>0.000000</td>\n",
       "      <td>0.000000</td>\n",
       "      <td>0.269265</td>\n",
       "      <td>0.0</td>\n",
       "      <td>...</td>\n",
       "      <td>0.205196</td>\n",
       "      <td>0.000000</td>\n",
       "      <td>0.000000</td>\n",
       "      <td>0.472793</td>\n",
       "      <td>0.266112</td>\n",
       "      <td>0.281430</td>\n",
       "      <td>0.000000</td>\n",
       "      <td>0.000000</td>\n",
       "      <td>0.000000</td>\n",
       "      <td>0.190534</td>\n",
       "    </tr>\n",
       "    <tr>\n",
       "      <th>1</th>\n",
       "      <td>0.0</td>\n",
       "      <td>0.000000</td>\n",
       "      <td>0.000000</td>\n",
       "      <td>0.411748</td>\n",
       "      <td>0.000000</td>\n",
       "      <td>0.410219</td>\n",
       "      <td>0.360214</td>\n",
       "      <td>0.000000</td>\n",
       "      <td>0.383669</td>\n",
       "      <td>0.0</td>\n",
       "      <td>...</td>\n",
       "      <td>0.000000</td>\n",
       "      <td>0.000000</td>\n",
       "      <td>0.000000</td>\n",
       "      <td>0.754272</td>\n",
       "      <td>0.000000</td>\n",
       "      <td>0.000000</td>\n",
       "      <td>0.000000</td>\n",
       "      <td>0.000000</td>\n",
       "      <td>0.000000</td>\n",
       "      <td>0.245240</td>\n",
       "    </tr>\n",
       "    <tr>\n",
       "      <th>2</th>\n",
       "      <td>0.0</td>\n",
       "      <td>0.000000</td>\n",
       "      <td>0.000000</td>\n",
       "      <td>0.383966</td>\n",
       "      <td>0.000000</td>\n",
       "      <td>0.382540</td>\n",
       "      <td>0.335909</td>\n",
       "      <td>0.000000</td>\n",
       "      <td>0.357782</td>\n",
       "      <td>0.0</td>\n",
       "      <td>...</td>\n",
       "      <td>0.159753</td>\n",
       "      <td>0.388263</td>\n",
       "      <td>0.218200</td>\n",
       "      <td>0.000000</td>\n",
       "      <td>0.000000</td>\n",
       "      <td>0.459813</td>\n",
       "      <td>0.209892</td>\n",
       "      <td>0.217943</td>\n",
       "      <td>0.215179</td>\n",
       "      <td>0.148338</td>\n",
       "    </tr>\n",
       "    <tr>\n",
       "      <th>3</th>\n",
       "      <td>0.0</td>\n",
       "      <td>0.000000</td>\n",
       "      <td>0.000000</td>\n",
       "      <td>0.000000</td>\n",
       "      <td>0.000000</td>\n",
       "      <td>0.000000</td>\n",
       "      <td>0.000000</td>\n",
       "      <td>0.000000</td>\n",
       "      <td>0.000000</td>\n",
       "      <td>0.0</td>\n",
       "      <td>...</td>\n",
       "      <td>0.259992</td>\n",
       "      <td>0.000000</td>\n",
       "      <td>0.000000</td>\n",
       "      <td>0.000000</td>\n",
       "      <td>0.000000</td>\n",
       "      <td>0.000000</td>\n",
       "      <td>0.000000</td>\n",
       "      <td>0.000000</td>\n",
       "      <td>0.350195</td>\n",
       "      <td>0.241414</td>\n",
       "    </tr>\n",
       "    <tr>\n",
       "      <th>4</th>\n",
       "      <td>0.0</td>\n",
       "      <td>0.000000</td>\n",
       "      <td>0.000000</td>\n",
       "      <td>0.000000</td>\n",
       "      <td>0.000000</td>\n",
       "      <td>0.474337</td>\n",
       "      <td>0.416516</td>\n",
       "      <td>0.589548</td>\n",
       "      <td>0.000000</td>\n",
       "      <td>0.0</td>\n",
       "      <td>...</td>\n",
       "      <td>0.000000</td>\n",
       "      <td>0.000000</td>\n",
       "      <td>0.000000</td>\n",
       "      <td>0.000000</td>\n",
       "      <td>0.533560</td>\n",
       "      <td>0.000000</td>\n",
       "      <td>0.000000</td>\n",
       "      <td>0.000000</td>\n",
       "      <td>0.000000</td>\n",
       "      <td>0.382024</td>\n",
       "    </tr>\n",
       "    <tr>\n",
       "      <th>...</th>\n",
       "      <td>...</td>\n",
       "      <td>...</td>\n",
       "      <td>...</td>\n",
       "      <td>...</td>\n",
       "      <td>...</td>\n",
       "      <td>...</td>\n",
       "      <td>...</td>\n",
       "      <td>...</td>\n",
       "      <td>...</td>\n",
       "      <td>...</td>\n",
       "      <td>...</td>\n",
       "      <td>...</td>\n",
       "      <td>...</td>\n",
       "      <td>...</td>\n",
       "      <td>...</td>\n",
       "      <td>...</td>\n",
       "      <td>...</td>\n",
       "      <td>...</td>\n",
       "      <td>...</td>\n",
       "      <td>...</td>\n",
       "      <td>...</td>\n",
       "    </tr>\n",
       "    <tr>\n",
       "      <th>123819</th>\n",
       "      <td>0.0</td>\n",
       "      <td>0.000000</td>\n",
       "      <td>0.000000</td>\n",
       "      <td>0.000000</td>\n",
       "      <td>0.000000</td>\n",
       "      <td>0.000000</td>\n",
       "      <td>0.000000</td>\n",
       "      <td>0.000000</td>\n",
       "      <td>0.000000</td>\n",
       "      <td>0.0</td>\n",
       "      <td>...</td>\n",
       "      <td>0.000000</td>\n",
       "      <td>0.000000</td>\n",
       "      <td>0.000000</td>\n",
       "      <td>0.000000</td>\n",
       "      <td>0.000000</td>\n",
       "      <td>0.000000</td>\n",
       "      <td>0.000000</td>\n",
       "      <td>0.000000</td>\n",
       "      <td>0.000000</td>\n",
       "      <td>0.000000</td>\n",
       "    </tr>\n",
       "    <tr>\n",
       "      <th>123820</th>\n",
       "      <td>0.0</td>\n",
       "      <td>0.335651</td>\n",
       "      <td>0.000000</td>\n",
       "      <td>0.360240</td>\n",
       "      <td>0.349111</td>\n",
       "      <td>0.358902</td>\n",
       "      <td>0.315153</td>\n",
       "      <td>0.000000</td>\n",
       "      <td>0.335674</td>\n",
       "      <td>0.0</td>\n",
       "      <td>...</td>\n",
       "      <td>0.249172</td>\n",
       "      <td>0.000000</td>\n",
       "      <td>0.340334</td>\n",
       "      <td>0.000000</td>\n",
       "      <td>0.323143</td>\n",
       "      <td>0.341743</td>\n",
       "      <td>0.000000</td>\n",
       "      <td>0.000000</td>\n",
       "      <td>0.000000</td>\n",
       "      <td>0.231367</td>\n",
       "    </tr>\n",
       "    <tr>\n",
       "      <th>123821</th>\n",
       "      <td>0.0</td>\n",
       "      <td>0.693074</td>\n",
       "      <td>0.000000</td>\n",
       "      <td>0.000000</td>\n",
       "      <td>0.720867</td>\n",
       "      <td>0.000000</td>\n",
       "      <td>0.000000</td>\n",
       "      <td>0.000000</td>\n",
       "      <td>0.000000</td>\n",
       "      <td>0.0</td>\n",
       "      <td>...</td>\n",
       "      <td>0.170358</td>\n",
       "      <td>0.000000</td>\n",
       "      <td>0.000000</td>\n",
       "      <td>0.486522</td>\n",
       "      <td>0.000000</td>\n",
       "      <td>0.233649</td>\n",
       "      <td>0.223826</td>\n",
       "      <td>0.232411</td>\n",
       "      <td>0.229463</td>\n",
       "      <td>0.000000</td>\n",
       "    </tr>\n",
       "    <tr>\n",
       "      <th>123822</th>\n",
       "      <td>0.0</td>\n",
       "      <td>0.493459</td>\n",
       "      <td>0.000000</td>\n",
       "      <td>0.000000</td>\n",
       "      <td>0.513247</td>\n",
       "      <td>0.527642</td>\n",
       "      <td>0.463324</td>\n",
       "      <td>0.000000</td>\n",
       "      <td>0.000000</td>\n",
       "      <td>0.0</td>\n",
       "      <td>...</td>\n",
       "      <td>0.000000</td>\n",
       "      <td>0.000000</td>\n",
       "      <td>0.000000</td>\n",
       "      <td>0.409033</td>\n",
       "      <td>0.389804</td>\n",
       "      <td>0.000000</td>\n",
       "      <td>0.000000</td>\n",
       "      <td>0.000000</td>\n",
       "      <td>0.000000</td>\n",
       "      <td>0.000000</td>\n",
       "    </tr>\n",
       "    <tr>\n",
       "      <th>123823</th>\n",
       "      <td>0.0</td>\n",
       "      <td>0.389856</td>\n",
       "      <td>0.000000</td>\n",
       "      <td>0.418415</td>\n",
       "      <td>0.405489</td>\n",
       "      <td>0.000000</td>\n",
       "      <td>0.000000</td>\n",
       "      <td>0.000000</td>\n",
       "      <td>0.389882</td>\n",
       "      <td>0.0</td>\n",
       "      <td>...</td>\n",
       "      <td>0.363888</td>\n",
       "      <td>0.000000</td>\n",
       "      <td>0.000000</td>\n",
       "      <td>0.495194</td>\n",
       "      <td>0.000000</td>\n",
       "      <td>0.000000</td>\n",
       "      <td>0.000000</td>\n",
       "      <td>0.000000</td>\n",
       "      <td>0.000000</td>\n",
       "      <td>0.337887</td>\n",
       "    </tr>\n",
       "  </tbody>\n",
       "</table>\n",
       "<p>123824 rows × 40 columns</p>\n",
       "</div>"
      ],
      "text/plain": [
       "        p_0       p_1       p_2       p_3       p_4       p_5       p_6  \\\n",
       "0       0.0  0.269246  0.505923  0.288970  0.280043  0.000000  0.000000   \n",
       "1       0.0  0.000000  0.000000  0.411748  0.000000  0.410219  0.360214   \n",
       "2       0.0  0.000000  0.000000  0.383966  0.000000  0.382540  0.335909   \n",
       "3       0.0  0.000000  0.000000  0.000000  0.000000  0.000000  0.000000   \n",
       "4       0.0  0.000000  0.000000  0.000000  0.000000  0.474337  0.416516   \n",
       "...     ...       ...       ...       ...       ...       ...       ...   \n",
       "123819  0.0  0.000000  0.000000  0.000000  0.000000  0.000000  0.000000   \n",
       "123820  0.0  0.335651  0.000000  0.360240  0.349111  0.358902  0.315153   \n",
       "123821  0.0  0.693074  0.000000  0.000000  0.720867  0.000000  0.000000   \n",
       "123822  0.0  0.493459  0.000000  0.000000  0.513247  0.527642  0.463324   \n",
       "123823  0.0  0.389856  0.000000  0.418415  0.405489  0.000000  0.000000   \n",
       "\n",
       "             p_7       p_8  p_9  ...      d_10      d_11      d_12      d_13  \\\n",
       "0       0.000000  0.269265  0.0  ...  0.205196  0.000000  0.000000  0.472793   \n",
       "1       0.000000  0.383669  0.0  ...  0.000000  0.000000  0.000000  0.754272   \n",
       "2       0.000000  0.357782  0.0  ...  0.159753  0.388263  0.218200  0.000000   \n",
       "3       0.000000  0.000000  0.0  ...  0.259992  0.000000  0.000000  0.000000   \n",
       "4       0.589548  0.000000  0.0  ...  0.000000  0.000000  0.000000  0.000000   \n",
       "...          ...       ...  ...  ...       ...       ...       ...       ...   \n",
       "123819  0.000000  0.000000  0.0  ...  0.000000  0.000000  0.000000  0.000000   \n",
       "123820  0.000000  0.335674  0.0  ...  0.249172  0.000000  0.340334  0.000000   \n",
       "123821  0.000000  0.000000  0.0  ...  0.170358  0.000000  0.000000  0.486522   \n",
       "123822  0.000000  0.000000  0.0  ...  0.000000  0.000000  0.000000  0.409033   \n",
       "123823  0.000000  0.389882  0.0  ...  0.363888  0.000000  0.000000  0.495194   \n",
       "\n",
       "            d_14      d_15      d_16      d_17      d_18      d_19  \n",
       "0       0.266112  0.281430  0.000000  0.000000  0.000000  0.190534  \n",
       "1       0.000000  0.000000  0.000000  0.000000  0.000000  0.245240  \n",
       "2       0.000000  0.459813  0.209892  0.217943  0.215179  0.148338  \n",
       "3       0.000000  0.000000  0.000000  0.000000  0.350195  0.241414  \n",
       "4       0.533560  0.000000  0.000000  0.000000  0.000000  0.382024  \n",
       "...          ...       ...       ...       ...       ...       ...  \n",
       "123819  0.000000  0.000000  0.000000  0.000000  0.000000  0.000000  \n",
       "123820  0.323143  0.341743  0.000000  0.000000  0.000000  0.231367  \n",
       "123821  0.000000  0.233649  0.223826  0.232411  0.229463  0.000000  \n",
       "123822  0.389804  0.000000  0.000000  0.000000  0.000000  0.000000  \n",
       "123823  0.000000  0.000000  0.000000  0.000000  0.000000  0.337887  \n",
       "\n",
       "[123824 rows x 40 columns]"
      ]
     },
     "execution_count": 80,
     "metadata": {},
     "output_type": "execute_result"
    }
   ],
   "source": [
    "text = phr.join([desc])\n",
    "text"
   ]
  },
  {
   "cell_type": "markdown",
   "metadata": {},
   "source": [
    "### 1.2 Remove correlated columns"
   ]
  },
  {
   "cell_type": "code",
   "execution_count": 81,
   "metadata": {},
   "outputs": [],
   "source": [
    "def remove_correlated_features(X):\n",
    "    corr_threshold = 0.9\n",
    "    corr = X.corr()\n",
    "    drop_columns = np.full(corr.shape[0], False, dtype=bool)\n",
    "    for i in range(corr.shape[0]):\n",
    "        for j in range(i + 1, corr.shape[0]):\n",
    "            if corr.iloc[i, j] >= corr_threshold:\n",
    "                drop_columns[j] = True\n",
    "    columns_dropped = X.columns[drop_columns]\n",
    "    X.drop(columns_dropped, axis=1, inplace=True)\n",
    "    return columns_dropped\n",
    "\n",
    "def remove_less_significant_features(X, Y):\n",
    "    sl = 0.05\n",
    "    regression_ols = None\n",
    "    columns_dropped = np.array([])\n",
    "    for itr in range(0, len(X.columns)):\n",
    "        regression_ols = sm.OLS(Y, X).fit()\n",
    "        max_col = regression_ols.pvalues.idxmax()\n",
    "        max_val = regression_ols.pvalues.max()\n",
    "        if max_val > sl:\n",
    "            X.drop(max_col, axis='columns', inplace=True)\n",
    "            columns_dropped = np.append(columns_dropped, [max_col])\n",
    "        else:\n",
    "            break\n",
    "    regression_ols.summary()\n",
    "    return columns_dropped"
   ]
  },
  {
   "cell_type": "code",
   "execution_count": 82,
   "metadata": {},
   "outputs": [
    {
     "data": {
      "text/plain": [
       "Index(['p_19', 'd_9', 'd_14', 'd_17', 'd_18'], dtype='object')"
      ]
     },
     "execution_count": 82,
     "metadata": {},
     "output_type": "execute_result"
    }
   ],
   "source": [
    "# drop correlated columns\n",
    "columns_dropped_corr = remove_correlated_features(text)\n",
    "columns_dropped_corr "
   ]
  },
  {
   "cell_type": "code",
   "execution_count": 83,
   "metadata": {},
   "outputs": [],
   "source": [
    "ori_train=pd.read_json(\"modified_data/modified_train.json\")\n",
    "ori_test = pd.read_json(\"modified_data/modified_test.json\")\n",
    "\n",
    "ori_train = ori_train.drop(columns=['rec_id', 'building_id','description','display_address','manager_id','features','photos','street_address','features_phr_vec','description_vec','text_vec'])\n",
    "ori_train = ori_train.reset_index()\n",
    "train = ori_train.join(text)\n",
    "\n",
    "ori_test = ori_test.drop(columns=['rec_id', 'building_id','description','display_address','manager_id','features','photos','street_address','features_phr_vec','description_vec','text_vec'])\n",
    "ori_test = ori_test.reset_index()\n",
    "test = ori_test.join(text)\n",
    "\n",
    "Listing_id_train = train['listing_id']\n",
    "y_train = train['interest_level']\n",
    "X_train = train.drop(columns=['index','listing_id', 'interest_level', 'diff_rooms'])\n",
    "\n",
    "Listing_id_test = test['listing_id']\n",
    "X_test = test.drop(columns=['index', 'listing_id'])\n",
    "\n",
    "y_train_map = {\"low\":0, \"medium\": 1, \"high\": 2}\n",
    "y_train = y_train.map(y_train_map)"
   ]
  },
  {
   "cell_type": "code",
   "execution_count": 84,
   "metadata": {},
   "outputs": [],
   "source": [
    "X = pd.concat([X_train, X_test])\n",
    "X_train = X[:49165]\n",
    "X_test = X[49165:]"
   ]
  },
  {
   "cell_type": "code",
   "execution_count": 85,
   "metadata": {},
   "outputs": [
    {
     "name": "stderr",
     "output_type": "stream",
     "text": [
      "<ipython-input-85-aa2eff42c96a>:3: SettingWithCopyWarning: \n",
      "A value is trying to be set on a copy of a slice from a DataFrame.\n",
      "Try using .loc[row_indexer,col_indexer] = value instead\n",
      "\n",
      "See the caveats in the documentation: https://pandas.pydata.org/pandas-docs/stable/user_guide/indexing.html#returning-a-view-versus-a-copy\n",
      "  X_train['price_per_bedroom'] = X_train['price']/(X_train['bedrooms']+1)\n",
      "<ipython-input-85-aa2eff42c96a>:4: SettingWithCopyWarning: \n",
      "A value is trying to be set on a copy of a slice from a DataFrame.\n",
      "Try using .loc[row_indexer,col_indexer] = value instead\n",
      "\n",
      "See the caveats in the documentation: https://pandas.pydata.org/pandas-docs/stable/user_guide/indexing.html#returning-a-view-versus-a-copy\n",
      "  X_train['price_per_bathroom'] = X_train['price']/(X_train['bathrooms']+1)\n",
      "<ipython-input-85-aa2eff42c96a>:5: SettingWithCopyWarning: \n",
      "A value is trying to be set on a copy of a slice from a DataFrame.\n",
      "Try using .loc[row_indexer,col_indexer] = value instead\n",
      "\n",
      "See the caveats in the documentation: https://pandas.pydata.org/pandas-docs/stable/user_guide/indexing.html#returning-a-view-versus-a-copy\n",
      "  X_test['price_per_bedroom'] = X_test['price']/(X_test['bedrooms']+1)\n",
      "<ipython-input-85-aa2eff42c96a>:6: SettingWithCopyWarning: \n",
      "A value is trying to be set on a copy of a slice from a DataFrame.\n",
      "Try using .loc[row_indexer,col_indexer] = value instead\n",
      "\n",
      "See the caveats in the documentation: https://pandas.pydata.org/pandas-docs/stable/user_guide/indexing.html#returning-a-view-versus-a-copy\n",
      "  X_test['price_per_bathroom'] = X_test['price']/(X_test['bathrooms']+1)\n",
      "<ipython-input-85-aa2eff42c96a>:7: SettingWithCopyWarning: \n",
      "A value is trying to be set on a copy of a slice from a DataFrame.\n",
      "Try using .loc[row_indexer,col_indexer] = value instead\n",
      "\n",
      "See the caveats in the documentation: https://pandas.pydata.org/pandas-docs/stable/user_guide/indexing.html#returning-a-view-versus-a-copy\n",
      "  X_train['distance_subway'] = subway_train.distance_subway\n",
      "<ipython-input-85-aa2eff42c96a>:8: SettingWithCopyWarning: \n",
      "A value is trying to be set on a copy of a slice from a DataFrame.\n",
      "Try using .loc[row_indexer,col_indexer] = value instead\n",
      "\n",
      "See the caveats in the documentation: https://pandas.pydata.org/pandas-docs/stable/user_guide/indexing.html#returning-a-view-versus-a-copy\n",
      "  X_test['distance_subway'] = subway_test.distance_subway\n"
     ]
    }
   ],
   "source": [
    "subway_test = pd.read_csv(\"subway_test.csv\")\n",
    "subway_train = pd.read_csv(\"subway_train.csv\")\n",
    "X_train['price_per_bedroom'] = X_train['price']/(X_train['bedrooms']+1)\n",
    "X_train['price_per_bathroom'] = X_train['price']/(X_train['bathrooms']+1)\n",
    "X_test['price_per_bedroom'] = X_test['price']/(X_test['bedrooms']+1)\n",
    "X_test['price_per_bathroom'] = X_test['price']/(X_test['bathrooms']+1)\n",
    "X_train['distance_subway'] = subway_train.distance_subway\n",
    "X_test['distance_subway'] = subway_test.distance_subway"
   ]
  },
  {
   "cell_type": "code",
   "execution_count": 86,
   "metadata": {
    "scrolled": true
   },
   "outputs": [
    {
     "data": {
      "text/html": [
       "<div>\n",
       "<style scoped>\n",
       "    .dataframe tbody tr th:only-of-type {\n",
       "        vertical-align: middle;\n",
       "    }\n",
       "\n",
       "    .dataframe tbody tr th {\n",
       "        vertical-align: top;\n",
       "    }\n",
       "\n",
       "    .dataframe thead th {\n",
       "        text-align: right;\n",
       "    }\n",
       "</style>\n",
       "<table border=\"1\" class=\"dataframe\">\n",
       "  <thead>\n",
       "    <tr style=\"text-align: right;\">\n",
       "      <th></th>\n",
       "      <th>bathrooms</th>\n",
       "      <th>bedrooms</th>\n",
       "      <th>created</th>\n",
       "      <th>latitude</th>\n",
       "      <th>longitude</th>\n",
       "      <th>price</th>\n",
       "      <th>manager_id_num</th>\n",
       "      <th>building_id_num</th>\n",
       "      <th>photo_num</th>\n",
       "      <th>p_0</th>\n",
       "      <th>...</th>\n",
       "      <th>d_10</th>\n",
       "      <th>d_11</th>\n",
       "      <th>d_12</th>\n",
       "      <th>d_13</th>\n",
       "      <th>d_15</th>\n",
       "      <th>d_16</th>\n",
       "      <th>d_19</th>\n",
       "      <th>price_per_bedroom</th>\n",
       "      <th>price_per_bathroom</th>\n",
       "      <th>distance_subway</th>\n",
       "    </tr>\n",
       "  </thead>\n",
       "  <tbody>\n",
       "    <tr>\n",
       "      <th>0</th>\n",
       "      <td>1.0</td>\n",
       "      <td>1</td>\n",
       "      <td>1465622981000</td>\n",
       "      <td>40.7185</td>\n",
       "      <td>-73.9865</td>\n",
       "      <td>2950</td>\n",
       "      <td>3071</td>\n",
       "      <td>5524</td>\n",
       "      <td>8</td>\n",
       "      <td>0.0</td>\n",
       "      <td>...</td>\n",
       "      <td>0.205196</td>\n",
       "      <td>0.000000</td>\n",
       "      <td>0.000000</td>\n",
       "      <td>0.472793</td>\n",
       "      <td>0.281430</td>\n",
       "      <td>0.000000</td>\n",
       "      <td>0.190534</td>\n",
       "      <td>1475.000000</td>\n",
       "      <td>1475.000000</td>\n",
       "      <td>81.603311</td>\n",
       "    </tr>\n",
       "    <tr>\n",
       "      <th>1</th>\n",
       "      <td>1.0</td>\n",
       "      <td>2</td>\n",
       "      <td>1466750194000</td>\n",
       "      <td>40.7278</td>\n",
       "      <td>-74.0000</td>\n",
       "      <td>2850</td>\n",
       "      <td>3587</td>\n",
       "      <td>0</td>\n",
       "      <td>3</td>\n",
       "      <td>0.0</td>\n",
       "      <td>...</td>\n",
       "      <td>0.000000</td>\n",
       "      <td>0.000000</td>\n",
       "      <td>0.000000</td>\n",
       "      <td>0.754272</td>\n",
       "      <td>0.000000</td>\n",
       "      <td>0.000000</td>\n",
       "      <td>0.245240</td>\n",
       "      <td>950.000000</td>\n",
       "      <td>1425.000000</td>\n",
       "      <td>360.366494</td>\n",
       "    </tr>\n",
       "    <tr>\n",
       "      <th>2</th>\n",
       "      <td>1.0</td>\n",
       "      <td>0</td>\n",
       "      <td>1466126619000</td>\n",
       "      <td>40.7260</td>\n",
       "      <td>-74.0026</td>\n",
       "      <td>2295</td>\n",
       "      <td>3952</td>\n",
       "      <td>0</td>\n",
       "      <td>1</td>\n",
       "      <td>0.0</td>\n",
       "      <td>...</td>\n",
       "      <td>0.159753</td>\n",
       "      <td>0.388263</td>\n",
       "      <td>0.218200</td>\n",
       "      <td>0.000000</td>\n",
       "      <td>0.459813</td>\n",
       "      <td>0.209892</td>\n",
       "      <td>0.148338</td>\n",
       "      <td>2295.000000</td>\n",
       "      <td>1147.500000</td>\n",
       "      <td>99.244353</td>\n",
       "    </tr>\n",
       "    <tr>\n",
       "      <th>3</th>\n",
       "      <td>1.0</td>\n",
       "      <td>2</td>\n",
       "      <td>1466485562000</td>\n",
       "      <td>40.7321</td>\n",
       "      <td>-74.0028</td>\n",
       "      <td>2900</td>\n",
       "      <td>1136</td>\n",
       "      <td>11318</td>\n",
       "      <td>4</td>\n",
       "      <td>0.0</td>\n",
       "      <td>...</td>\n",
       "      <td>0.259992</td>\n",
       "      <td>0.000000</td>\n",
       "      <td>0.000000</td>\n",
       "      <td>0.000000</td>\n",
       "      <td>0.000000</td>\n",
       "      <td>0.000000</td>\n",
       "      <td>0.241414</td>\n",
       "      <td>966.666667</td>\n",
       "      <td>1450.000000</td>\n",
       "      <td>147.270775</td>\n",
       "    </tr>\n",
       "    <tr>\n",
       "      <th>4</th>\n",
       "      <td>1.0</td>\n",
       "      <td>1</td>\n",
       "      <td>1466061867000</td>\n",
       "      <td>40.7054</td>\n",
       "      <td>-74.0095</td>\n",
       "      <td>3254</td>\n",
       "      <td>2871</td>\n",
       "      <td>5864</td>\n",
       "      <td>6</td>\n",
       "      <td>0.0</td>\n",
       "      <td>...</td>\n",
       "      <td>0.000000</td>\n",
       "      <td>0.000000</td>\n",
       "      <td>0.000000</td>\n",
       "      <td>0.000000</td>\n",
       "      <td>0.000000</td>\n",
       "      <td>0.000000</td>\n",
       "      <td>0.382024</td>\n",
       "      <td>1627.000000</td>\n",
       "      <td>1627.000000</td>\n",
       "      <td>161.565385</td>\n",
       "    </tr>\n",
       "    <tr>\n",
       "      <th>...</th>\n",
       "      <td>...</td>\n",
       "      <td>...</td>\n",
       "      <td>...</td>\n",
       "      <td>...</td>\n",
       "      <td>...</td>\n",
       "      <td>...</td>\n",
       "      <td>...</td>\n",
       "      <td>...</td>\n",
       "      <td>...</td>\n",
       "      <td>...</td>\n",
       "      <td>...</td>\n",
       "      <td>...</td>\n",
       "      <td>...</td>\n",
       "      <td>...</td>\n",
       "      <td>...</td>\n",
       "      <td>...</td>\n",
       "      <td>...</td>\n",
       "      <td>...</td>\n",
       "      <td>...</td>\n",
       "      <td>...</td>\n",
       "      <td>...</td>\n",
       "    </tr>\n",
       "    <tr>\n",
       "      <th>74654</th>\n",
       "      <td>1.0</td>\n",
       "      <td>1</td>\n",
       "      <td>1461686995000</td>\n",
       "      <td>40.7925</td>\n",
       "      <td>-73.9454</td>\n",
       "      <td>1700</td>\n",
       "      <td>1207</td>\n",
       "      <td>8607</td>\n",
       "      <td>10</td>\n",
       "      <td>0.0</td>\n",
       "      <td>...</td>\n",
       "      <td>0.183816</td>\n",
       "      <td>0.000000</td>\n",
       "      <td>0.251068</td>\n",
       "      <td>0.250145</td>\n",
       "      <td>0.252107</td>\n",
       "      <td>0.000000</td>\n",
       "      <td>0.170682</td>\n",
       "      <td>850.000000</td>\n",
       "      <td>850.000000</td>\n",
       "      <td>274.294950</td>\n",
       "    </tr>\n",
       "    <tr>\n",
       "      <th>74655</th>\n",
       "      <td>1.0</td>\n",
       "      <td>2</td>\n",
       "      <td>1461215179000</td>\n",
       "      <td>40.7456</td>\n",
       "      <td>-73.9797</td>\n",
       "      <td>4195</td>\n",
       "      <td>743</td>\n",
       "      <td>6588</td>\n",
       "      <td>4</td>\n",
       "      <td>0.0</td>\n",
       "      <td>...</td>\n",
       "      <td>0.000000</td>\n",
       "      <td>0.000000</td>\n",
       "      <td>0.000000</td>\n",
       "      <td>0.000000</td>\n",
       "      <td>0.000000</td>\n",
       "      <td>0.000000</td>\n",
       "      <td>0.000000</td>\n",
       "      <td>1398.333333</td>\n",
       "      <td>2097.500000</td>\n",
       "      <td>207.183160</td>\n",
       "    </tr>\n",
       "    <tr>\n",
       "      <th>74656</th>\n",
       "      <td>1.0</td>\n",
       "      <td>0</td>\n",
       "      <td>1461115912000</td>\n",
       "      <td>40.7416</td>\n",
       "      <td>-73.9829</td>\n",
       "      <td>2400</td>\n",
       "      <td>3952</td>\n",
       "      <td>0</td>\n",
       "      <td>0</td>\n",
       "      <td>0.0</td>\n",
       "      <td>...</td>\n",
       "      <td>0.000000</td>\n",
       "      <td>0.763200</td>\n",
       "      <td>0.428912</td>\n",
       "      <td>0.000000</td>\n",
       "      <td>0.000000</td>\n",
       "      <td>0.000000</td>\n",
       "      <td>0.291584</td>\n",
       "      <td>2400.000000</td>\n",
       "      <td>1200.000000</td>\n",
       "      <td>199.807524</td>\n",
       "    </tr>\n",
       "    <tr>\n",
       "      <th>74657</th>\n",
       "      <td>2.0</td>\n",
       "      <td>2</td>\n",
       "      <td>1460082405000</td>\n",
       "      <td>40.7485</td>\n",
       "      <td>-73.9800</td>\n",
       "      <td>6895</td>\n",
       "      <td>1879</td>\n",
       "      <td>9114</td>\n",
       "      <td>8</td>\n",
       "      <td>0.0</td>\n",
       "      <td>...</td>\n",
       "      <td>0.209209</td>\n",
       "      <td>0.300306</td>\n",
       "      <td>0.000000</td>\n",
       "      <td>0.482040</td>\n",
       "      <td>0.000000</td>\n",
       "      <td>0.000000</td>\n",
       "      <td>0.000000</td>\n",
       "      <td>2298.333333</td>\n",
       "      <td>2298.333333</td>\n",
       "      <td>320.834714</td>\n",
       "    </tr>\n",
       "    <tr>\n",
       "      <th>74658</th>\n",
       "      <td>1.0</td>\n",
       "      <td>3</td>\n",
       "      <td>1460947881000</td>\n",
       "      <td>40.7447</td>\n",
       "      <td>-73.9741</td>\n",
       "      <td>4695</td>\n",
       "      <td>3727</td>\n",
       "      <td>1204</td>\n",
       "      <td>8</td>\n",
       "      <td>0.0</td>\n",
       "      <td>...</td>\n",
       "      <td>0.000000</td>\n",
       "      <td>0.000000</td>\n",
       "      <td>0.000000</td>\n",
       "      <td>0.000000</td>\n",
       "      <td>0.000000</td>\n",
       "      <td>0.000000</td>\n",
       "      <td>1.000000</td>\n",
       "      <td>1173.750000</td>\n",
       "      <td>2347.500000</td>\n",
       "      <td>689.247787</td>\n",
       "    </tr>\n",
       "  </tbody>\n",
       "</table>\n",
       "<p>74659 rows × 47 columns</p>\n",
       "</div>"
      ],
      "text/plain": [
       "       bathrooms  bedrooms        created  latitude  longitude  price  \\\n",
       "0            1.0         1  1465622981000   40.7185   -73.9865   2950   \n",
       "1            1.0         2  1466750194000   40.7278   -74.0000   2850   \n",
       "2            1.0         0  1466126619000   40.7260   -74.0026   2295   \n",
       "3            1.0         2  1466485562000   40.7321   -74.0028   2900   \n",
       "4            1.0         1  1466061867000   40.7054   -74.0095   3254   \n",
       "...          ...       ...            ...       ...        ...    ...   \n",
       "74654        1.0         1  1461686995000   40.7925   -73.9454   1700   \n",
       "74655        1.0         2  1461215179000   40.7456   -73.9797   4195   \n",
       "74656        1.0         0  1461115912000   40.7416   -73.9829   2400   \n",
       "74657        2.0         2  1460082405000   40.7485   -73.9800   6895   \n",
       "74658        1.0         3  1460947881000   40.7447   -73.9741   4695   \n",
       "\n",
       "       manager_id_num  building_id_num  photo_num  p_0  ...      d_10  \\\n",
       "0                3071             5524          8  0.0  ...  0.205196   \n",
       "1                3587                0          3  0.0  ...  0.000000   \n",
       "2                3952                0          1  0.0  ...  0.159753   \n",
       "3                1136            11318          4  0.0  ...  0.259992   \n",
       "4                2871             5864          6  0.0  ...  0.000000   \n",
       "...               ...              ...        ...  ...  ...       ...   \n",
       "74654            1207             8607         10  0.0  ...  0.183816   \n",
       "74655             743             6588          4  0.0  ...  0.000000   \n",
       "74656            3952                0          0  0.0  ...  0.000000   \n",
       "74657            1879             9114          8  0.0  ...  0.209209   \n",
       "74658            3727             1204          8  0.0  ...  0.000000   \n",
       "\n",
       "           d_11      d_12      d_13      d_15      d_16      d_19  \\\n",
       "0      0.000000  0.000000  0.472793  0.281430  0.000000  0.190534   \n",
       "1      0.000000  0.000000  0.754272  0.000000  0.000000  0.245240   \n",
       "2      0.388263  0.218200  0.000000  0.459813  0.209892  0.148338   \n",
       "3      0.000000  0.000000  0.000000  0.000000  0.000000  0.241414   \n",
       "4      0.000000  0.000000  0.000000  0.000000  0.000000  0.382024   \n",
       "...         ...       ...       ...       ...       ...       ...   \n",
       "74654  0.000000  0.251068  0.250145  0.252107  0.000000  0.170682   \n",
       "74655  0.000000  0.000000  0.000000  0.000000  0.000000  0.000000   \n",
       "74656  0.763200  0.428912  0.000000  0.000000  0.000000  0.291584   \n",
       "74657  0.300306  0.000000  0.482040  0.000000  0.000000  0.000000   \n",
       "74658  0.000000  0.000000  0.000000  0.000000  0.000000  1.000000   \n",
       "\n",
       "       price_per_bedroom  price_per_bathroom  distance_subway  \n",
       "0            1475.000000         1475.000000        81.603311  \n",
       "1             950.000000         1425.000000       360.366494  \n",
       "2            2295.000000         1147.500000        99.244353  \n",
       "3             966.666667         1450.000000       147.270775  \n",
       "4            1627.000000         1627.000000       161.565385  \n",
       "...                  ...                 ...              ...  \n",
       "74654         850.000000          850.000000       274.294950  \n",
       "74655        1398.333333         2097.500000       207.183160  \n",
       "74656        2400.000000         1200.000000       199.807524  \n",
       "74657        2298.333333         2298.333333       320.834714  \n",
       "74658        1173.750000         2347.500000       689.247787  \n",
       "\n",
       "[74659 rows x 47 columns]"
      ]
     },
     "execution_count": 86,
     "metadata": {},
     "output_type": "execute_result"
    }
   ],
   "source": [
    "X_test"
   ]
  },
  {
   "cell_type": "markdown",
   "metadata": {},
   "source": [
    "### 1.3 PCA and Scaler"
   ]
  },
  {
   "cell_type": "markdown",
   "metadata": {},
   "source": [
    "#### Standard Scaler"
   ]
  },
  {
   "cell_type": "code",
   "execution_count": 93,
   "metadata": {},
   "outputs": [],
   "source": [
    "from sklearn.preprocessing import StandardScaler, MinMaxScaler\n",
    "# apply standard scalar\n",
    "scaler = StandardScaler()\n",
    "X_scaled = scaler.fit_transform(X)\n",
    "X_train_scaled = X_scaled[:49165]\n",
    "X_test_scaled = X_scaled[49165:]"
   ]
  },
  {
   "cell_type": "code",
   "execution_count": 87,
   "metadata": {},
   "outputs": [],
   "source": [
    "from sklearn.preprocessing import StandardScaler, MinMaxScaler\n",
    "# apply standard scalar\n",
    "scaler = MinMaxScaler(feature_range=[0, 1])\n",
    "X_scaled = scaler.fit_transform(X)\n",
    "X_train_scaled = X_scaled[:49165]\n",
    "X_test_scaled = X_scaled[49165:]"
   ]
  },
  {
   "cell_type": "code",
   "execution_count": 99,
   "metadata": {
    "scrolled": false
   },
   "outputs": [
    {
     "data": {
      "image/png": "[encoded data removed]",
      "text/plain": [
       "<Figure size 864x288 with 1 Axes>"
      ]
     },
     "metadata": {
      "needs_background": "light"
     },
     "output_type": "display_data"
    }
   ],
   "source": [
    "# Fitting the PCA algorithm\n",
    "import matplotlib.pyplot as plt\n",
    "pca = PCA().fit(X_scaled)\n",
    "\n",
    "#Plotting the Cumulative Summation of the Explained Variance\n",
    "plt.figure()\n",
    "plt.plot(np.cumsum(pca.explained_variance_ratio_))\n",
    "plt.xlabel('Number of Components')\n",
    "plt.ylabel('Variance (%)') #for each component\n",
    "plt.title('Pulsar Dataset Explained Variance')\n",
    "plt.savefig('pca.png',dpi=800)"
   ]
  },
  {
   "cell_type": "markdown",
   "metadata": {},
   "source": [
    "This plot tells us that selecting 90 components to preserce around 99% of the original information"
   ]
  },
  {
   "cell_type": "code",
   "execution_count": 75,
   "metadata": {},
   "outputs": [],
   "source": [
    "# apply PCA\n",
    "pca = PCA(n_components=10)\n",
    "X_scaled = pca.fit_transform(X_scaled)\n",
    "X_train_scaled = X_scaled[:49165]\n",
    "X_test_scaled = X_scaled[49165:]"
   ]
  },
  {
   "cell_type": "markdown",
   "metadata": {},
   "source": [
    "### 1.4 output function"
   ]
  },
  {
   "cell_type": "code",
   "execution_count": 89,
   "metadata": {},
   "outputs": [],
   "source": [
    "def to_result_format(X):\n",
    "    res = pd.DataFrame(y_test,columns=['high', 'low', 'medium'])\n",
    "    temp = res['low']\n",
    "    res = res.drop(columns = {'low'})\n",
    "    res.insert(2,'low',temp)\n",
    "    res.insert\n",
    "    res.insert(0,'listing_id',X['listing_id'])\n",
    "    res.to_csv('submission.csv', index = None)\n",
    "    return res"
   ]
  },
  {
   "cell_type": "markdown",
   "metadata": {},
   "source": [
    "### 1.5 GridSearchCV"
   ]
  },
  {
   "cell_type": "code",
   "execution_count": 27,
   "metadata": {},
   "outputs": [],
   "source": [
    "from sklearn.model_selection import GridSearchCV\n",
    "from sklearn.model_selection import StratifiedShuffleSplit\n",
    "\n",
    "def tuneParameters(X, y, tuned_parameters):\n",
    "    score = 'accuracy'\n",
    "    \n",
    "    print('# Tuning hyper-parameters for %s' % score)\n",
    "    print()\n",
    "\n",
    "    cv = StratifiedShuffleSplit(n_splits=2, test_size=0.2, random_state=42)\n",
    "    grid = GridSearchCV(\n",
    "        GradientBoostingClassifier(), param_grid=tuned_parameters,scoring=score, cv=cv, n_jobs=-1\n",
    "    )\n",
    "    grid.fit(X, y)\n",
    "\n",
    "    print(\"Best parameters set found on development set:\")\n",
    "    print()\n",
    "    print(grid.best_params_)\n",
    "    print()\n",
    "    print(\"Grid scores on development set:\")\n",
    "    print()\n",
    "    means = grid.cv_results_['mean_test_score']\n",
    "    stds = grid.cv_results_['std_test_score']\n",
    "    for mean, std, params in zip(means, stds, grid.cv_results_['params']):\n",
    "        print(\"%0.3f (+/-%0.03f) for %r\"\n",
    "              % (mean, std * 2, params))\n",
    "    print()\n",
    "\n",
    "\n",
    "    return grid"
   ]
  },
  {
   "cell_type": "markdown",
   "metadata": {},
   "source": [
    "### 1.6 Modelfit"
   ]
  },
  {
   "cell_type": "code",
   "execution_count": 90,
   "metadata": {},
   "outputs": [],
   "source": [
    "from sklearn import metrics\n",
    "import matplotlib.pylab as plt\n",
    "%matplotlib inline\n",
    "from matplotlib.pylab import rcParams\n",
    "rcParams['figure.figsize'] = 12, 4\n",
    "\n",
    "def modelfit(alg, X_train_scaled, y_train, performCV=True, printFeatureImportance=True, cv_folds=5):\n",
    "    #Fit the algorithm on the data\n",
    "    bound = int(len(X_train_scaled) / 5 * 4 )\n",
    "    X_tr = X_train_scaled[:bound]\n",
    "    y_tr = y_train[:bound]\n",
    "    X_va = X_train_scaled[bound:]\n",
    "    y_va = y_train[bound:]\n",
    "    alg.fit(X_tr, y_tr)\n",
    "    \n",
    "\n",
    "        \n",
    "    #Predict training set:\n",
    "    dtrain_predictions = alg.predict(X_va)\n",
    "    dtrain_predprob = alg.predict_proba(X_va)\n",
    "    \n",
    "    #Perform cross-validation:\n",
    "    if performCV:\n",
    "        cv_score = cross_val_score(alg, X_train, y_train, cv=cv_folds, scoring='neg_log_loss')\n",
    "    \n",
    "    #Print model report:\n",
    "    print(\"\\nModel Report\")\n",
    "    print(\"Logloss : %.4f\" % metrics.log_loss(y_va, dtrain_predprob))\n",
    "    print(\"Accuracy : %.4g\" % metrics.accuracy_score(y_va, dtrain_predictions))\n",
    "    #print(\"AUC Score (Train): %f\" % metrics.roc_auc_score(y_va, dtrain_predprob))\n",
    "    \n",
    "    if performCV:\n",
    "        print(\"CV Score : Mean - %.7g | Std - %.7g | Min - %.7g | Max - %.7g\" % (np.mean(cv_score),np.std(cv_score),np.min(cv_score),np.max(cv_score)))\n",
    "        \n",
    "    #Print Feature Importance:\n",
    "    if printFeatureImportance:\n",
    "        feat_imp = pd.Series(alg.feature_importances_, range(0,len(alg.feature_importances_))).sort_values(ascending=False)\n",
    "        feat_imp.plot(kind='bar', title='Feature Importances')\n",
    "        plt.ylabel('Feature Importance Score')"
   ]
  },
  {
   "cell_type": "markdown",
   "metadata": {},
   "source": [
    "# 2. GBDT (1st attempt)"
   ]
  },
  {
   "cell_type": "code",
   "execution_count": 97,
   "metadata": {},
   "outputs": [
    {
     "data": {
      "text/plain": [
       "GradientBoostingClassifier(ccp_alpha=0.0, criterion='friedman_mse', init=None,\n",
       "                           learning_rate=0.6, loss='deviance', max_depth=3,\n",
       "                           max_features=None, max_leaf_nodes=80,\n",
       "                           min_impurity_decrease=0.0007,\n",
       "                           min_impurity_split=None, min_samples_leaf=5,\n",
       "                           min_samples_split=2, min_weight_fraction_leaf=0.0,\n",
       "                           n_estimators=100, n_iter_no_change=None,\n",
       "                           presort='deprecated', random_state=0, subsample=1.0,\n",
       "                           tol=0.0001, validation_fraction=0.1, verbose=0,\n",
       "                           warm_start=False)"
      ]
     },
     "execution_count": 97,
     "metadata": {},
     "output_type": "execute_result"
    }
   ],
   "source": [
    "from sklearn.ensemble import GradientBoostingClassifier\n",
    "\n",
    "clf = GradientBoostingClassifier(n_estimators=100, learning_rate=0.6, random_state=0, min_impurity_decrease=0.0007,max_leaf_nodes=80, min_samples_leaf=5 )\n",
    "clf.fit(X_train_scaled, y_train)"
   ]
  },
  {
   "cell_type": "code",
   "execution_count": 30,
   "metadata": {
    "scrolled": true
   },
   "outputs": [
    {
     "name": "stdout",
     "output_type": "stream",
     "text": [
      "Cross Validation Score = 0.690 (+/-0.005)\n"
     ]
    }
   ],
   "source": [
    "scores = cross_val_score(clf, X_train_scaled, y_train, cv=5)\n",
    "print('Cross Validation Score = %0.3f (+/-%0.03f)'% (scores.mean(), scores.std() * 2) )"
   ]
  },
  {
   "cell_type": "code",
   "execution_count": 98,
   "metadata": {},
   "outputs": [
    {
     "data": {
      "text/html": [
       "<div>\n",
       "<style scoped>\n",
       "    .dataframe tbody tr th:only-of-type {\n",
       "        vertical-align: middle;\n",
       "    }\n",
       "\n",
       "    .dataframe tbody tr th {\n",
       "        vertical-align: top;\n",
       "    }\n",
       "\n",
       "    .dataframe thead th {\n",
       "        text-align: right;\n",
       "    }\n",
       "</style>\n",
       "<table border=\"1\" class=\"dataframe\">\n",
       "  <thead>\n",
       "    <tr style=\"text-align: right;\">\n",
       "      <th></th>\n",
       "      <th>listing_id</th>\n",
       "      <th>high</th>\n",
       "      <th>medium</th>\n",
       "      <th>low</th>\n",
       "    </tr>\n",
       "  </thead>\n",
       "  <tbody>\n",
       "    <tr>\n",
       "      <th>0</th>\n",
       "      <td>7142618</td>\n",
       "      <td>0.054197</td>\n",
       "      <td>0.391321</td>\n",
       "      <td>0.554482</td>\n",
       "    </tr>\n",
       "    <tr>\n",
       "      <th>1</th>\n",
       "      <td>7210040</td>\n",
       "      <td>0.309888</td>\n",
       "      <td>0.278315</td>\n",
       "      <td>0.411797</td>\n",
       "    </tr>\n",
       "    <tr>\n",
       "      <th>2</th>\n",
       "      <td>7174566</td>\n",
       "      <td>0.033835</td>\n",
       "      <td>0.194220</td>\n",
       "      <td>0.771945</td>\n",
       "    </tr>\n",
       "    <tr>\n",
       "      <th>3</th>\n",
       "      <td>7191391</td>\n",
       "      <td>0.290854</td>\n",
       "      <td>0.412416</td>\n",
       "      <td>0.296729</td>\n",
       "    </tr>\n",
       "    <tr>\n",
       "      <th>4</th>\n",
       "      <td>7171695</td>\n",
       "      <td>0.003706</td>\n",
       "      <td>0.189543</td>\n",
       "      <td>0.806751</td>\n",
       "    </tr>\n",
       "    <tr>\n",
       "      <th>...</th>\n",
       "      <td>...</td>\n",
       "      <td>...</td>\n",
       "      <td>...</td>\n",
       "      <td>...</td>\n",
       "    </tr>\n",
       "    <tr>\n",
       "      <th>74654</th>\n",
       "      <td>6928108</td>\n",
       "      <td>0.892790</td>\n",
       "      <td>0.092230</td>\n",
       "      <td>0.014980</td>\n",
       "    </tr>\n",
       "    <tr>\n",
       "      <th>74655</th>\n",
       "      <td>6906674</td>\n",
       "      <td>0.013830</td>\n",
       "      <td>0.081022</td>\n",
       "      <td>0.905149</td>\n",
       "    </tr>\n",
       "    <tr>\n",
       "      <th>74656</th>\n",
       "      <td>6897967</td>\n",
       "      <td>0.001462</td>\n",
       "      <td>0.016271</td>\n",
       "      <td>0.982267</td>\n",
       "    </tr>\n",
       "    <tr>\n",
       "      <th>74657</th>\n",
       "      <td>6842183</td>\n",
       "      <td>0.004348</td>\n",
       "      <td>0.046089</td>\n",
       "      <td>0.949563</td>\n",
       "    </tr>\n",
       "    <tr>\n",
       "      <th>74658</th>\n",
       "      <td>6889319</td>\n",
       "      <td>0.013626</td>\n",
       "      <td>0.117126</td>\n",
       "      <td>0.869248</td>\n",
       "    </tr>\n",
       "  </tbody>\n",
       "</table>\n",
       "<p>74659 rows × 4 columns</p>\n",
       "</div>"
      ],
      "text/plain": [
       "       listing_id      high    medium       low\n",
       "0         7142618  0.054197  0.391321  0.554482\n",
       "1         7210040  0.309888  0.278315  0.411797\n",
       "2         7174566  0.033835  0.194220  0.771945\n",
       "3         7191391  0.290854  0.412416  0.296729\n",
       "4         7171695  0.003706  0.189543  0.806751\n",
       "...           ...       ...       ...       ...\n",
       "74654     6928108  0.892790  0.092230  0.014980\n",
       "74655     6906674  0.013830  0.081022  0.905149\n",
       "74656     6897967  0.001462  0.016271  0.982267\n",
       "74657     6842183  0.004348  0.046089  0.949563\n",
       "74658     6889319  0.013626  0.117126  0.869248\n",
       "\n",
       "[74659 rows x 4 columns]"
      ]
     },
     "execution_count": 98,
     "metadata": {},
     "output_type": "execute_result"
    }
   ],
   "source": [
    "y_test = clf.predict_proba(X_test_scaled)\n",
    "\n",
    "# change the order of columns in result\n",
    "y_test_df = pd.DataFrame(y_test)\n",
    "cols = y_test_df.columns.tolist()\n",
    "cols = cols[-1:] + cols[:-1]\n",
    "y_test = y_test_df[cols].to_numpy()\n",
    "\n",
    "X_test_df = pd.DataFrame(X_test).join([Listing_id_test])\n",
    "res = to_result_format(X_test_df)\n",
    "res"
   ]
  },
  {
   "cell_type": "markdown",
   "metadata": {},
   "source": [
    "### Score:\n",
    "#### CV score =  0.690 (+/-0.005)\n",
    "#### Logloss   = 0.83833"
   ]
  },
  {
   "cell_type": "code",
   "execution_count": 34,
   "metadata": {
    "scrolled": false
   },
   "outputs": [
    {
     "name": "stdout",
     "output_type": "stream",
     "text": [
      "\n",
      "Model Report\n",
      "Logloss : 0.7360\n",
      "Accuracy : 0.6907\n",
      "CV Score : Mean - -0.620131 | Std - 0.005837624 | Min - -0.627958 | Max - -0.6123068\n"
     ]
    },
    {
     "data": {
      "image/png": "[encoded data removed]",
      "text/plain": [
       "<Figure size 864x288 with 1 Axes>"
      ]
     },
     "metadata": {
      "needs_background": "light"
     },
     "output_type": "display_data"
    }
   ],
   "source": [
    "modelfit(clf, X_train_scaled, y_train, False)"
   ]
  },
  {
   "cell_type": "markdown",
   "metadata": {},
   "source": [
    "# 3. GBDT (parameter tuning)"
   ]
  },
  {
   "cell_type": "markdown",
   "metadata": {},
   "source": [
    "### Print Result Function"
   ]
  },
  {
   "cell_type": "code",
   "execution_count": 35,
   "metadata": {},
   "outputs": [],
   "source": [
    "def print_gsearch_result(grid):\n",
    "    print(\"Best parameters set found on development set:\")\n",
    "    print()\n",
    "    print(grid.best_params_)\n",
    "    print()\n",
    "    print(\"Grid scores on development set:\")\n",
    "    print()\n",
    "    means = grid.cv_results_['mean_test_score']\n",
    "    stds = grid.cv_results_['std_test_score']\n",
    "    for mean, std, params in zip(means, stds, grid.cv_results_['params']):\n",
    "        print(\"%0.6f (+/-%0.6f) for %r\"\n",
    "              % (mean, std * 2, params))\n",
    "    print()"
   ]
  },
  {
   "cell_type": "markdown",
   "metadata": {},
   "source": [
    "### 3.1 Tuning Boosting Parameters"
   ]
  },
  {
   "cell_type": "code",
   "execution_count": 106,
   "metadata": {},
   "outputs": [],
   "source": [
    "def tuneParameters1(X, y, tuned_parameters):\n",
    "    score = 'neg_log_loss'\n",
    "    \n",
    "    print('# Tuning hyper-parameters for %s' % score)\n",
    "    print()\n",
    "\n",
    "    cv = StratifiedShuffleSplit(n_splits=1, test_size=0.2, random_state=42)\n",
    "    grid = GridSearchCV(\n",
    "        estimator=GradientBoostingClassifier(random_state=0, min_impurity_decrease=0.0007,max_leaf_nodes=80, min_samples_leaf=5), \n",
    "        param_grid=tuned_parameters,scoring=score, cv=cv, n_jobs=8\n",
    "    )\n",
    "    grid.fit(X, y)\n",
    "\n",
    "    print(\"Best parameters set found on development set:\")\n",
    "    print()\n",
    "    print(grid.best_params_)\n",
    "    print()\n",
    "    print(\"Grid scores on development set:\")\n",
    "    print()\n",
    "    means = grid.cv_results_['mean_test_score']\n",
    "    stds = grid.cv_results_['std_test_score']\n",
    "    for mean, std, params in zip(means, stds, grid.cv_results_['params']):\n",
    "        print(\"%0.6f (+/-%0.6f) for %r\"\n",
    "              % (mean, std * 2, params))\n",
    "    print()\n",
    "\n",
    "\n",
    "    return grid"
   ]
  },
  {
   "cell_type": "markdown",
   "metadata": {},
   "source": [
    "* Set candidate values for n_estimators and learning_rate:\n",
    "\n",
    "n_estimators : [40, 50, 60, 70]\n",
    "\n",
    "learning_rate: [0.05, 0.1, 0.15, 0.2]"
   ]
  },
  {
   "cell_type": "markdown",
   "metadata": {},
   "source": [
    "* Set initial values for other parameters\n",
    "\n",
    "min_samples_leaf=50, min_samples_split=500, max_depth=8, max_features='sqrt', subsample=0.8, random_state=10"
   ]
  },
  {
   "cell_type": "code",
   "execution_count": 101,
   "metadata": {
    "scrolled": false
   },
   "outputs": [
    {
     "name": "stdout",
     "output_type": "stream",
     "text": [
      "# Tuning hyper-parameters for neg_log_loss\n",
      "\n",
      "Best parameters set found on development set:\n",
      "\n",
      "{'learning_rate': 0.2, 'n_estimators': 70}\n",
      "\n",
      "Grid scores on development set:\n",
      "\n",
      "-0.666610 (+/-0.001357) for {'learning_rate': 0.05, 'n_estimators': 40}\n",
      "-0.657663 (+/-0.002367) for {'learning_rate': 0.05, 'n_estimators': 50}\n",
      "-0.650285 (+/-0.001554) for {'learning_rate': 0.05, 'n_estimators': 60}\n",
      "-0.644459 (+/-0.000717) for {'learning_rate': 0.05, 'n_estimators': 70}\n",
      "-0.639063 (+/-0.000333) for {'learning_rate': 0.1, 'n_estimators': 40}\n",
      "-0.631937 (+/-0.000533) for {'learning_rate': 0.1, 'n_estimators': 50}\n",
      "-0.626747 (+/-0.000723) for {'learning_rate': 0.1, 'n_estimators': 60}\n",
      "-0.622397 (+/-0.000594) for {'learning_rate': 0.1, 'n_estimators': 70}\n",
      "-0.626237 (+/-0.001159) for {'learning_rate': 0.15, 'n_estimators': 40}\n",
      "-0.619820 (+/-0.002093) for {'learning_rate': 0.15, 'n_estimators': 50}\n",
      "-0.614570 (+/-0.001483) for {'learning_rate': 0.15, 'n_estimators': 60}\n",
      "-0.610033 (+/-0.003024) for {'learning_rate': 0.15, 'n_estimators': 70}\n",
      "-0.618402 (+/-0.001292) for {'learning_rate': 0.2, 'n_estimators': 40}\n",
      "-0.611639 (+/-0.002001) for {'learning_rate': 0.2, 'n_estimators': 50}\n",
      "-0.606716 (+/-0.002767) for {'learning_rate': 0.2, 'n_estimators': 60}\n",
      "-0.603002 (+/-0.002244) for {'learning_rate': 0.2, 'n_estimators': 70}\n",
      "\n"
     ]
    }
   ],
   "source": [
    "tuned_parameters1 = [{'n_estimators': [40, 50, 60, 70], 'learning_rate': [0.05, 0.1, 0.15, 0.2]}]\n",
    "\n",
    "grid1 = tuneParameters1(X_train_scaled, y_train, tuned_parameters1)"
   ]
  },
  {
   "cell_type": "code",
   "execution_count": 103,
   "metadata": {
    "scrolled": false
   },
   "outputs": [
    {
     "data": {
      "text/html": [
       "<div>\n",
       "<style scoped>\n",
       "    .dataframe tbody tr th:only-of-type {\n",
       "        vertical-align: middle;\n",
       "    }\n",
       "\n",
       "    .dataframe tbody tr th {\n",
       "        vertical-align: top;\n",
       "    }\n",
       "\n",
       "    .dataframe thead th {\n",
       "        text-align: right;\n",
       "    }\n",
       "</style>\n",
       "<table border=\"1\" class=\"dataframe\">\n",
       "  <thead>\n",
       "    <tr style=\"text-align: right;\">\n",
       "      <th></th>\n",
       "      <th>listing_id</th>\n",
       "      <th>high</th>\n",
       "      <th>medium</th>\n",
       "      <th>low</th>\n",
       "    </tr>\n",
       "  </thead>\n",
       "  <tbody>\n",
       "    <tr>\n",
       "      <th>0</th>\n",
       "      <td>7142618</td>\n",
       "      <td>0.054851</td>\n",
       "      <td>0.344574</td>\n",
       "      <td>0.600576</td>\n",
       "    </tr>\n",
       "    <tr>\n",
       "      <th>1</th>\n",
       "      <td>7210040</td>\n",
       "      <td>0.163570</td>\n",
       "      <td>0.244059</td>\n",
       "      <td>0.592371</td>\n",
       "    </tr>\n",
       "    <tr>\n",
       "      <th>2</th>\n",
       "      <td>7174566</td>\n",
       "      <td>0.034143</td>\n",
       "      <td>0.180775</td>\n",
       "      <td>0.785082</td>\n",
       "    </tr>\n",
       "    <tr>\n",
       "      <th>3</th>\n",
       "      <td>7191391</td>\n",
       "      <td>0.216204</td>\n",
       "      <td>0.381461</td>\n",
       "      <td>0.402335</td>\n",
       "    </tr>\n",
       "    <tr>\n",
       "      <th>4</th>\n",
       "      <td>7171695</td>\n",
       "      <td>0.012813</td>\n",
       "      <td>0.087449</td>\n",
       "      <td>0.899738</td>\n",
       "    </tr>\n",
       "    <tr>\n",
       "      <th>...</th>\n",
       "      <td>...</td>\n",
       "      <td>...</td>\n",
       "      <td>...</td>\n",
       "      <td>...</td>\n",
       "    </tr>\n",
       "    <tr>\n",
       "      <th>74654</th>\n",
       "      <td>6928108</td>\n",
       "      <td>0.651786</td>\n",
       "      <td>0.257902</td>\n",
       "      <td>0.090312</td>\n",
       "    </tr>\n",
       "    <tr>\n",
       "      <th>74655</th>\n",
       "      <td>6906674</td>\n",
       "      <td>0.031132</td>\n",
       "      <td>0.153044</td>\n",
       "      <td>0.815824</td>\n",
       "    </tr>\n",
       "    <tr>\n",
       "      <th>74656</th>\n",
       "      <td>6897967</td>\n",
       "      <td>0.007577</td>\n",
       "      <td>0.037418</td>\n",
       "      <td>0.955005</td>\n",
       "    </tr>\n",
       "    <tr>\n",
       "      <th>74657</th>\n",
       "      <td>6842183</td>\n",
       "      <td>0.012906</td>\n",
       "      <td>0.067434</td>\n",
       "      <td>0.919661</td>\n",
       "    </tr>\n",
       "    <tr>\n",
       "      <th>74658</th>\n",
       "      <td>6889319</td>\n",
       "      <td>0.042276</td>\n",
       "      <td>0.218255</td>\n",
       "      <td>0.739469</td>\n",
       "    </tr>\n",
       "  </tbody>\n",
       "</table>\n",
       "<p>74659 rows × 4 columns</p>\n",
       "</div>"
      ],
      "text/plain": [
       "       listing_id      high    medium       low\n",
       "0         7142618  0.054851  0.344574  0.600576\n",
       "1         7210040  0.163570  0.244059  0.592371\n",
       "2         7174566  0.034143  0.180775  0.785082\n",
       "3         7191391  0.216204  0.381461  0.402335\n",
       "4         7171695  0.012813  0.087449  0.899738\n",
       "...           ...       ...       ...       ...\n",
       "74654     6928108  0.651786  0.257902  0.090312\n",
       "74655     6906674  0.031132  0.153044  0.815824\n",
       "74656     6897967  0.007577  0.037418  0.955005\n",
       "74657     6842183  0.012906  0.067434  0.919661\n",
       "74658     6889319  0.042276  0.218255  0.739469\n",
       "\n",
       "[74659 rows x 4 columns]"
      ]
     },
     "execution_count": 103,
     "metadata": {},
     "output_type": "execute_result"
    }
   ],
   "source": [
    "y_test = grid1.predict_proba(X_test_scaled)\n",
    "\n",
    "# change the order of columns in result\n",
    "y_test_df = pd.DataFrame(y_test)\n",
    "cols = y_test_df.columns.tolist()\n",
    "cols = cols[-1:] + cols[:-1]\n",
    "y_test = y_test_df[cols].to_numpy()\n",
    "\n",
    "X_test_df = pd.DataFrame(X_test).join([Listing_id_test])\n",
    "res = to_result_format(X_test_df)\n",
    "res"
   ]
  },
  {
   "cell_type": "markdown",
   "metadata": {},
   "source": [
    "Kaggle score = 0.66507 "
   ]
  },
  {
   "cell_type": "markdown",
   "metadata": {},
   "source": [
    "#### (1) Tuning the number of estimators"
   ]
  },
  {
   "cell_type": "code",
   "execution_count": 105,
   "metadata": {
    "scrolled": false
   },
   "outputs": [
    {
     "name": "stdout",
     "output_type": "stream",
     "text": [
      "# Tuning hyper-parameters for neg_log_loss\n",
      "\n",
      "Best parameters set found on development set:\n",
      "\n",
      "{'learning_rate': 0.1, 'n_estimators': 100}\n",
      "\n",
      "Grid scores on development set:\n",
      "\n",
      "-0.665914 (+/-0.000967) for {'learning_rate': 0.1, 'n_estimators': 20}\n",
      "-0.649624 (+/-0.001902) for {'learning_rate': 0.1, 'n_estimators': 30}\n",
      "-0.639063 (+/-0.000333) for {'learning_rate': 0.1, 'n_estimators': 40}\n",
      "-0.631937 (+/-0.000533) for {'learning_rate': 0.1, 'n_estimators': 50}\n",
      "-0.626747 (+/-0.000723) for {'learning_rate': 0.1, 'n_estimators': 60}\n",
      "-0.622397 (+/-0.000594) for {'learning_rate': 0.1, 'n_estimators': 70}\n",
      "-0.618338 (+/-0.000570) for {'learning_rate': 0.1, 'n_estimators': 80}\n",
      "-0.614678 (+/-0.001155) for {'learning_rate': 0.1, 'n_estimators': 90}\n",
      "-0.611727 (+/-0.001663) for {'learning_rate': 0.1, 'n_estimators': 100}\n",
      "\n"
     ]
    }
   ],
   "source": [
    "tuned_parameters2 = [{'n_estimators': [20, 30, 40, 50, 60, 70, 80, 90, 100], 'learning_rate': [0.1]}]\n",
    "\n",
    "grid2 = tuneParameters1(X_train_scaled, y_train, tuned_parameters2)"
   ]
  },
  {
   "cell_type": "markdown",
   "metadata": {},
   "source": [
    "Notice the best n_estimators is too high ~100, which means tuning other parameters will take too much time. \n",
    "\n",
    "We have to __try a higher learning rate__ to improve the efficiency."
   ]
  },
  {
   "cell_type": "code",
   "execution_count": 107,
   "metadata": {
    "scrolled": true
   },
   "outputs": [
    {
     "name": "stdout",
     "output_type": "stream",
     "text": [
      "# Tuning hyper-parameters for neg_log_loss\n",
      "\n",
      "Best parameters set found on development set:\n",
      "\n",
      "{'learning_rate': 0.2, 'n_estimators': 100}\n",
      "\n",
      "Grid scores on development set:\n",
      "\n",
      "-0.639093 (+/-0.000000) for {'learning_rate': 0.2, 'n_estimators': 20}\n",
      "-0.626079 (+/-0.000000) for {'learning_rate': 0.2, 'n_estimators': 30}\n",
      "-0.617756 (+/-0.000000) for {'learning_rate': 0.2, 'n_estimators': 40}\n",
      "-0.610639 (+/-0.000000) for {'learning_rate': 0.2, 'n_estimators': 50}\n",
      "-0.605332 (+/-0.000000) for {'learning_rate': 0.2, 'n_estimators': 60}\n",
      "-0.601880 (+/-0.000000) for {'learning_rate': 0.2, 'n_estimators': 70}\n",
      "-0.597556 (+/-0.000000) for {'learning_rate': 0.2, 'n_estimators': 80}\n",
      "-0.594137 (+/-0.000000) for {'learning_rate': 0.2, 'n_estimators': 90}\n",
      "-0.591834 (+/-0.000000) for {'learning_rate': 0.2, 'n_estimators': 100}\n",
      "\n"
     ]
    }
   ],
   "source": [
    "tuned_parameters3 = [{'n_estimators': [20, 30, 40, 50, 60, 70, 80, 90, 100], 'learning_rate': [0.2]}]\n",
    "\n",
    "grid3 = tuneParameters1(X_train_scaled, y_train, tuned_parameters3)"
   ]
  },
  {
   "cell_type": "code",
   "execution_count": 110,
   "metadata": {
    "scrolled": false
   },
   "outputs": [
    {
     "name": "stdout",
     "output_type": "stream",
     "text": [
      "# Tuning hyper-parameters for neg_log_loss\n",
      "\n",
      "Best parameters set found on development set:\n",
      "\n",
      "{'learning_rate': 0.25, 'n_estimators': 100}\n",
      "\n",
      "Grid scores on development set:\n",
      "\n",
      "-0.609965 (+/-0.000000) for {'learning_rate': 0.25, 'n_estimators': 40}\n",
      "-0.603525 (+/-0.000000) for {'learning_rate': 0.25, 'n_estimators': 50}\n",
      "-0.599225 (+/-0.000000) for {'learning_rate': 0.25, 'n_estimators': 60}\n",
      "-0.596061 (+/-0.000000) for {'learning_rate': 0.25, 'n_estimators': 70}\n",
      "-0.592417 (+/-0.000000) for {'learning_rate': 0.25, 'n_estimators': 80}\n",
      "-0.589130 (+/-0.000000) for {'learning_rate': 0.25, 'n_estimators': 90}\n",
      "-0.586471 (+/-0.000000) for {'learning_rate': 0.25, 'n_estimators': 100}\n",
      "\n"
     ]
    }
   ],
   "source": [
    "tuned_parameters4 = [{'n_estimators': [40, 50, 60, 70, 80, 90, 100], 'learning_rate': [0.25]}]\n",
    "\n",
    "grid4 = tuneParameters1(X_train_scaled, y_train, tuned_parameters4)"
   ]
  },
  {
   "cell_type": "code",
   "execution_count": 113,
   "metadata": {
    "scrolled": false
   },
   "outputs": [
    {
     "name": "stdout",
     "output_type": "stream",
     "text": [
      "# Tuning hyper-parameters for neg_log_loss\n",
      "\n",
      "Best parameters set found on development set:\n",
      "\n",
      "{'learning_rate': 0.35, 'n_estimators': 100}\n",
      "\n",
      "Grid scores on development set:\n",
      "\n",
      "-0.591271 (+/-0.000000) for {'learning_rate': 0.35, 'n_estimators': 60}\n",
      "-0.587181 (+/-0.000000) for {'learning_rate': 0.35, 'n_estimators': 70}\n",
      "-0.584045 (+/-0.000000) for {'learning_rate': 0.35, 'n_estimators': 80}\n",
      "-0.582469 (+/-0.000000) for {'learning_rate': 0.35, 'n_estimators': 90}\n",
      "-0.581033 (+/-0.000000) for {'learning_rate': 0.35, 'n_estimators': 100}\n",
      "\n"
     ]
    }
   ],
   "source": [
    "tuned_parameters5 = [{'n_estimators': [60, 70, 80, 90, 100], 'learning_rate': [0.35]}]\n",
    "\n",
    "grid5 = tuneParameters1(X_train_scaled, y_train, tuned_parameters5)"
   ]
  },
  {
   "cell_type": "code",
   "execution_count": 115,
   "metadata": {},
   "outputs": [
    {
     "name": "stdout",
     "output_type": "stream",
     "text": [
      "# Tuning hyper-parameters for neg_log_loss\n",
      "\n",
      "Best parameters set found on development set:\n",
      "\n",
      "{'learning_rate': 0.5, 'n_estimators': 100}\n",
      "\n",
      "Grid scores on development set:\n",
      "\n",
      "-0.587388 (+/-0.000000) for {'learning_rate': 0.5, 'n_estimators': 60}\n",
      "-0.584236 (+/-0.000000) for {'learning_rate': 0.5, 'n_estimators': 70}\n",
      "-0.582616 (+/-0.000000) for {'learning_rate': 0.5, 'n_estimators': 80}\n",
      "-0.581709 (+/-0.000000) for {'learning_rate': 0.5, 'n_estimators': 90}\n",
      "-0.580267 (+/-0.000000) for {'learning_rate': 0.5, 'n_estimators': 100}\n",
      "\n"
     ]
    }
   ],
   "source": [
    "tuned_parameters6 = [{'n_estimators': [60, 70, 80, 90, 100], 'learning_rate': [0.5]}]\n",
    "\n",
    "grid6 = tuneParameters1(X_train_scaled, y_train, tuned_parameters6)"
   ]
  },
  {
   "cell_type": "code",
   "execution_count": 119,
   "metadata": {
    "scrolled": true
   },
   "outputs": [
    {
     "data": {
      "text/plain": [
       "GradientBoostingClassifier(ccp_alpha=0.0, criterion='friedman_mse', init=None,\n",
       "                           learning_rate=0.1, loss='deviance', max_depth=3,\n",
       "                           max_features=None, max_leaf_nodes=80,\n",
       "                           min_impurity_decrease=0.0007,\n",
       "                           min_impurity_split=None, min_samples_leaf=5,\n",
       "                           min_samples_split=2, min_weight_fraction_leaf=0.0,\n",
       "                           n_estimators=800, n_iter_no_change=None,\n",
       "                           presort='deprecated', random_state=0, subsample=1.0,\n",
       "                           tol=0.0001, validation_fraction=0.1, verbose=0,\n",
       "                           warm_start=False)"
      ]
     },
     "execution_count": 119,
     "metadata": {},
     "output_type": "execute_result"
    }
   ],
   "source": [
    "clf1 = GradientBoostingClassifier(n_estimators =800, learning_rate=0.1, random_state=0, min_impurity_decrease=0.0007,max_leaf_nodes=80, min_samples_leaf=5)\n",
    "clf1.fit(X_train_scaled, y_train)"
   ]
  },
  {
   "cell_type": "code",
   "execution_count": 120,
   "metadata": {
    "scrolled": false
   },
   "outputs": [
    {
     "data": {
      "text/html": [
       "<div>\n",
       "<style scoped>\n",
       "    .dataframe tbody tr th:only-of-type {\n",
       "        vertical-align: middle;\n",
       "    }\n",
       "\n",
       "    .dataframe tbody tr th {\n",
       "        vertical-align: top;\n",
       "    }\n",
       "\n",
       "    .dataframe thead th {\n",
       "        text-align: right;\n",
       "    }\n",
       "</style>\n",
       "<table border=\"1\" class=\"dataframe\">\n",
       "  <thead>\n",
       "    <tr style=\"text-align: right;\">\n",
       "      <th></th>\n",
       "      <th>listing_id</th>\n",
       "      <th>high</th>\n",
       "      <th>medium</th>\n",
       "      <th>low</th>\n",
       "    </tr>\n",
       "  </thead>\n",
       "  <tbody>\n",
       "    <tr>\n",
       "      <th>0</th>\n",
       "      <td>7142618</td>\n",
       "      <td>0.051667</td>\n",
       "      <td>0.389245</td>\n",
       "      <td>0.559088</td>\n",
       "    </tr>\n",
       "    <tr>\n",
       "      <th>1</th>\n",
       "      <td>7210040</td>\n",
       "      <td>0.238267</td>\n",
       "      <td>0.309791</td>\n",
       "      <td>0.451942</td>\n",
       "    </tr>\n",
       "    <tr>\n",
       "      <th>2</th>\n",
       "      <td>7174566</td>\n",
       "      <td>0.053564</td>\n",
       "      <td>0.177920</td>\n",
       "      <td>0.768516</td>\n",
       "    </tr>\n",
       "    <tr>\n",
       "      <th>3</th>\n",
       "      <td>7191391</td>\n",
       "      <td>0.242074</td>\n",
       "      <td>0.551516</td>\n",
       "      <td>0.206410</td>\n",
       "    </tr>\n",
       "    <tr>\n",
       "      <th>4</th>\n",
       "      <td>7171695</td>\n",
       "      <td>0.006920</td>\n",
       "      <td>0.089323</td>\n",
       "      <td>0.903757</td>\n",
       "    </tr>\n",
       "    <tr>\n",
       "      <th>...</th>\n",
       "      <td>...</td>\n",
       "      <td>...</td>\n",
       "      <td>...</td>\n",
       "      <td>...</td>\n",
       "    </tr>\n",
       "    <tr>\n",
       "      <th>74654</th>\n",
       "      <td>6928108</td>\n",
       "      <td>0.859732</td>\n",
       "      <td>0.120271</td>\n",
       "      <td>0.019997</td>\n",
       "    </tr>\n",
       "    <tr>\n",
       "      <th>74655</th>\n",
       "      <td>6906674</td>\n",
       "      <td>0.015127</td>\n",
       "      <td>0.076559</td>\n",
       "      <td>0.908314</td>\n",
       "    </tr>\n",
       "    <tr>\n",
       "      <th>74656</th>\n",
       "      <td>6897967</td>\n",
       "      <td>0.000983</td>\n",
       "      <td>0.027078</td>\n",
       "      <td>0.971939</td>\n",
       "    </tr>\n",
       "    <tr>\n",
       "      <th>74657</th>\n",
       "      <td>6842183</td>\n",
       "      <td>0.004933</td>\n",
       "      <td>0.066830</td>\n",
       "      <td>0.928238</td>\n",
       "    </tr>\n",
       "    <tr>\n",
       "      <th>74658</th>\n",
       "      <td>6889319</td>\n",
       "      <td>0.012573</td>\n",
       "      <td>0.148728</td>\n",
       "      <td>0.838699</td>\n",
       "    </tr>\n",
       "  </tbody>\n",
       "</table>\n",
       "<p>74659 rows × 4 columns</p>\n",
       "</div>"
      ],
      "text/plain": [
       "       listing_id      high    medium       low\n",
       "0         7142618  0.051667  0.389245  0.559088\n",
       "1         7210040  0.238267  0.309791  0.451942\n",
       "2         7174566  0.053564  0.177920  0.768516\n",
       "3         7191391  0.242074  0.551516  0.206410\n",
       "4         7171695  0.006920  0.089323  0.903757\n",
       "...           ...       ...       ...       ...\n",
       "74654     6928108  0.859732  0.120271  0.019997\n",
       "74655     6906674  0.015127  0.076559  0.908314\n",
       "74656     6897967  0.000983  0.027078  0.971939\n",
       "74657     6842183  0.004933  0.066830  0.928238\n",
       "74658     6889319  0.012573  0.148728  0.838699\n",
       "\n",
       "[74659 rows x 4 columns]"
      ]
     },
     "execution_count": 120,
     "metadata": {},
     "output_type": "execute_result"
    }
   ],
   "source": [
    "y_test = clf1.predict_proba(X_test_scaled)\n",
    "\n",
    "# change the order of columns in result\n",
    "y_test_df = pd.DataFrame(y_test)\n",
    "cols = y_test_df.columns.tolist()\n",
    "cols = cols[-1:] + cols[:-1]\n",
    "y_test = y_test_df[cols].to_numpy()\n",
    "\n",
    "X_test_df = pd.DataFrame(X_test).join([Listing_id_test])\n",
    "res = to_result_format(X_test_df)\n",
    "res"
   ]
  },
  {
   "cell_type": "markdown",
   "metadata": {},
   "source": [
    "Now we have the optimal n_estimators for learning rate 0.25.\n",
    "\n",
    "Notice 60 is a reasonable value for n_estimators. \n",
    "\n",
    "We will use {n_estimators=60, learning_rate=0.25} for the following parameter tuning"
   ]
  },
  {
   "cell_type": "markdown",
   "metadata": {},
   "source": [
    "### 3. 2. Tuning Tree Parameters with Fixed n_estimators and learning_rate"
   ]
  },
  {
   "cell_type": "markdown",
   "metadata": {},
   "source": [
    "#### 3.2.1 Tuning max_depth and min_sample_split"
   ]
  },
  {
   "cell_type": "markdown",
   "metadata": {},
   "source": [
    "Tuning max_depth and min_sample_split first, because these parameters have biggest impact on the performace"
   ]
  },
  {
   "cell_type": "code",
   "execution_count": 55,
   "metadata": {
    "scrolled": false
   },
   "outputs": [
    {
     "data": {
      "text/plain": [
       "GridSearchCV(cv=StratifiedShuffleSplit(n_splits=2, random_state=42, test_size=0.2,\n",
       "            train_size=None),\n",
       "             error_score=nan,\n",
       "             estimator=GradientBoostingClassifier(ccp_alpha=0.0,\n",
       "                                                  criterion='friedman_mse',\n",
       "                                                  init=None, learning_rate=0.25,\n",
       "                                                  loss='deviance', max_depth=3,\n",
       "                                                  max_features='sqrt',\n",
       "                                                  max_leaf_nodes=None,\n",
       "                                                  min_impurity_decrease=0.0,\n",
       "                                                  min_impurity_split=None,\n",
       "                                                  min_samples_le...\n",
       "                                                  n_estimators=60,\n",
       "                                                  n_iter_no_change=None,\n",
       "                                                  presort='deprecated',\n",
       "                                                  random_state=10,\n",
       "                                                  subsample=0.8, tol=0.0001,\n",
       "                                                  validation_fraction=0.1,\n",
       "                                                  verbose=0, warm_start=False),\n",
       "             iid='deprecated', n_jobs=-1,\n",
       "             param_grid={'max_depth': range(3, 16, 2),\n",
       "                         'min_samples_split': range(1000, 2001, 200)},\n",
       "             pre_dispatch='2*n_jobs', refit=True, return_train_score=False,\n",
       "             scoring='neg_log_loss', verbose=0)"
      ]
     },
     "execution_count": 55,
     "metadata": {},
     "output_type": "execute_result"
    }
   ],
   "source": [
    "param_test1 = {'max_depth': range(3,16,2), 'min_samples_split': range(1000, 2001, 200)}\n",
    "cv = StratifiedShuffleSplit(n_splits=5, test_size=0.2, random_state=42)\n",
    "gsearch1 = GridSearchCV(estimator=GradientBoostingClassifier(learning_rate=0.25, n_estimators=60, max_features='sqrt', subsample=0.8, random_state=10),\n",
    "                       param_grid=param_test1, scoring='neg_log_loss', n_jobs=-1, cv=cv)\n",
    "gsearch1.fit(X_train_scaled, y_train)"
   ]
  },
  {
   "cell_type": "code",
   "execution_count": 56,
   "metadata": {
    "scrolled": false
   },
   "outputs": [
    {
     "name": "stdout",
     "output_type": "stream",
     "text": [
      "Best parameters set found on development set:\n",
      "\n",
      "{'max_depth': 13, 'min_samples_split': 2000}\n",
      "\n",
      "Grid scores on development set:\n",
      "\n",
      "-0.717167 (+/-0.007156) for {'max_depth': 3, 'min_samples_split': 1000}\n",
      "-0.717560 (+/-0.005535) for {'max_depth': 3, 'min_samples_split': 1200}\n",
      "-0.717727 (+/-0.003717) for {'max_depth': 3, 'min_samples_split': 1400}\n",
      "-0.718157 (+/-0.007042) for {'max_depth': 3, 'min_samples_split': 1600}\n",
      "-0.718666 (+/-0.006163) for {'max_depth': 3, 'min_samples_split': 1800}\n",
      "-0.719262 (+/-0.007316) for {'max_depth': 3, 'min_samples_split': 2000}\n",
      "-0.709447 (+/-0.011057) for {'max_depth': 5, 'min_samples_split': 1000}\n",
      "-0.709795 (+/-0.007589) for {'max_depth': 5, 'min_samples_split': 1200}\n",
      "-0.710434 (+/-0.006977) for {'max_depth': 5, 'min_samples_split': 1400}\n",
      "-0.709941 (+/-0.008741) for {'max_depth': 5, 'min_samples_split': 1600}\n",
      "-0.711771 (+/-0.006828) for {'max_depth': 5, 'min_samples_split': 1800}\n",
      "-0.710736 (+/-0.009388) for {'max_depth': 5, 'min_samples_split': 2000}\n",
      "-0.708124 (+/-0.005847) for {'max_depth': 7, 'min_samples_split': 1000}\n",
      "-0.708357 (+/-0.007477) for {'max_depth': 7, 'min_samples_split': 1200}\n",
      "-0.708356 (+/-0.006414) for {'max_depth': 7, 'min_samples_split': 1400}\n",
      "-0.707380 (+/-0.005339) for {'max_depth': 7, 'min_samples_split': 1600}\n",
      "-0.708810 (+/-0.009650) for {'max_depth': 7, 'min_samples_split': 1800}\n",
      "-0.707872 (+/-0.010840) for {'max_depth': 7, 'min_samples_split': 2000}\n",
      "-0.706957 (+/-0.006610) for {'max_depth': 9, 'min_samples_split': 1000}\n",
      "-0.705860 (+/-0.012503) for {'max_depth': 9, 'min_samples_split': 1200}\n",
      "-0.706080 (+/-0.011437) for {'max_depth': 9, 'min_samples_split': 1400}\n",
      "-0.707580 (+/-0.010940) for {'max_depth': 9, 'min_samples_split': 1600}\n",
      "-0.707900 (+/-0.011340) for {'max_depth': 9, 'min_samples_split': 1800}\n",
      "-0.706707 (+/-0.009662) for {'max_depth': 9, 'min_samples_split': 2000}\n",
      "-0.705621 (+/-0.004469) for {'max_depth': 11, 'min_samples_split': 1000}\n",
      "-0.706110 (+/-0.010618) for {'max_depth': 11, 'min_samples_split': 1200}\n",
      "-0.705440 (+/-0.013989) for {'max_depth': 11, 'min_samples_split': 1400}\n",
      "-0.707726 (+/-0.011158) for {'max_depth': 11, 'min_samples_split': 1600}\n",
      "-0.705671 (+/-0.012663) for {'max_depth': 11, 'min_samples_split': 1800}\n",
      "-0.708541 (+/-0.009238) for {'max_depth': 11, 'min_samples_split': 2000}\n",
      "-0.709613 (+/-0.016000) for {'max_depth': 13, 'min_samples_split': 1000}\n",
      "-0.708982 (+/-0.009554) for {'max_depth': 13, 'min_samples_split': 1200}\n",
      "-0.710278 (+/-0.019666) for {'max_depth': 13, 'min_samples_split': 1400}\n",
      "-0.708742 (+/-0.014826) for {'max_depth': 13, 'min_samples_split': 1600}\n",
      "-0.705695 (+/-0.012688) for {'max_depth': 13, 'min_samples_split': 1800}\n",
      "-0.704889 (+/-0.012054) for {'max_depth': 13, 'min_samples_split': 2000}\n",
      "-0.715622 (+/-0.019634) for {'max_depth': 15, 'min_samples_split': 1000}\n",
      "-0.708964 (+/-0.008955) for {'max_depth': 15, 'min_samples_split': 1200}\n",
      "-0.713881 (+/-0.015786) for {'max_depth': 15, 'min_samples_split': 1400}\n",
      "-0.706612 (+/-0.015421) for {'max_depth': 15, 'min_samples_split': 1600}\n",
      "-0.706616 (+/-0.010905) for {'max_depth': 15, 'min_samples_split': 1800}\n",
      "-0.706398 (+/-0.010923) for {'max_depth': 15, 'min_samples_split': 2000}\n",
      "\n"
     ]
    }
   ],
   "source": [
    "print_gsearch_result(gsearch1)"
   ]
  },
  {
   "cell_type": "code",
   "execution_count": 57,
   "metadata": {
    "scrolled": false
   },
   "outputs": [
    {
     "name": "stdout",
     "output_type": "stream",
     "text": [
      "Best parameters set found on development set:\n",
      "\n",
      "{'max_depth': 10, 'min_samples_split': 1400}\n",
      "\n",
      "Grid scores on development set:\n",
      "\n",
      "-0.708469 (+/-0.009697) for {'max_depth': 5, 'min_samples_split': 600}\n",
      "-0.709950 (+/-0.005765) for {'max_depth': 5, 'min_samples_split': 800}\n",
      "-0.709630 (+/-0.007952) for {'max_depth': 5, 'min_samples_split': 1000}\n",
      "-0.709422 (+/-0.006122) for {'max_depth': 5, 'min_samples_split': 1200}\n",
      "-0.708931 (+/-0.006054) for {'max_depth': 5, 'min_samples_split': 1400}\n",
      "-0.707619 (+/-0.006219) for {'max_depth': 6, 'min_samples_split': 600}\n",
      "-0.708617 (+/-0.006972) for {'max_depth': 6, 'min_samples_split': 800}\n",
      "-0.706187 (+/-0.005531) for {'max_depth': 6, 'min_samples_split': 1000}\n",
      "-0.706971 (+/-0.006025) for {'max_depth': 6, 'min_samples_split': 1200}\n",
      "-0.708087 (+/-0.007081) for {'max_depth': 6, 'min_samples_split': 1400}\n",
      "-0.705348 (+/-0.009927) for {'max_depth': 7, 'min_samples_split': 600}\n",
      "-0.704966 (+/-0.006073) for {'max_depth': 7, 'min_samples_split': 800}\n",
      "-0.706326 (+/-0.007360) for {'max_depth': 7, 'min_samples_split': 1000}\n",
      "-0.707287 (+/-0.005862) for {'max_depth': 7, 'min_samples_split': 1200}\n",
      "-0.707049 (+/-0.004936) for {'max_depth': 7, 'min_samples_split': 1400}\n",
      "-0.705695 (+/-0.008409) for {'max_depth': 8, 'min_samples_split': 600}\n",
      "-0.705053 (+/-0.009013) for {'max_depth': 8, 'min_samples_split': 800}\n",
      "-0.705533 (+/-0.005735) for {'max_depth': 8, 'min_samples_split': 1000}\n",
      "-0.705920 (+/-0.009342) for {'max_depth': 8, 'min_samples_split': 1200}\n",
      "-0.705007 (+/-0.007986) for {'max_depth': 8, 'min_samples_split': 1400}\n",
      "-0.706668 (+/-0.011787) for {'max_depth': 9, 'min_samples_split': 600}\n",
      "-0.706200 (+/-0.007695) for {'max_depth': 9, 'min_samples_split': 800}\n",
      "-0.705856 (+/-0.006624) for {'max_depth': 9, 'min_samples_split': 1000}\n",
      "-0.705262 (+/-0.008666) for {'max_depth': 9, 'min_samples_split': 1200}\n",
      "-0.705473 (+/-0.009680) for {'max_depth': 9, 'min_samples_split': 1400}\n",
      "-0.707491 (+/-0.008785) for {'max_depth': 10, 'min_samples_split': 600}\n",
      "-0.707424 (+/-0.010794) for {'max_depth': 10, 'min_samples_split': 800}\n",
      "-0.706671 (+/-0.014200) for {'max_depth': 10, 'min_samples_split': 1000}\n",
      "-0.704852 (+/-0.007463) for {'max_depth': 10, 'min_samples_split': 1200}\n",
      "-0.704661 (+/-0.010145) for {'max_depth': 10, 'min_samples_split': 1400}\n",
      "\n"
     ]
    }
   ],
   "source": [
    "param_test2 = {'max_depth': range(5,11,1), 'min_samples_split': range(600, 1401, 200)}\n",
    "cv = StratifiedShuffleSplit(n_splits=5, test_size=0.2, random_state=42)\n",
    "gsearch2 = GridSearchCV(estimator=GradientBoostingClassifier(learning_rate=0.25, n_estimators=60, max_features='sqrt', subsample=0.8, random_state=10),\n",
    "                       param_grid=param_test2, scoring='neg_log_loss', n_jobs=-1, cv=cv)\n",
    "gsearch2.fit(X_train_scaled, y_train)\n",
    "print_gsearch_result(gsearch2)"
   ]
  },
  {
   "cell_type": "code",
   "execution_count": 58,
   "metadata": {},
   "outputs": [
    {
     "name": "stdout",
     "output_type": "stream",
     "text": [
      "\n",
      "Model Report\n",
      "Logloss : 0.7062\n",
      "Accuracy : 0.6936\n"
     ]
    },
    {
     "data": {
      "image/png": "[encoded data removed]",
      "text/plain": [
       "<Figure size 864x288 with 1 Axes>"
      ]
     },
     "metadata": {
      "needs_background": "light"
     },
     "output_type": "display_data"
    }
   ],
   "source": [
    "modelfit(gsearch2.best_estimator_, X_train_scaled, y_train, False)"
   ]
  },
  {
   "cell_type": "code",
   "execution_count": 59,
   "metadata": {},
   "outputs": [
    {
     "name": "stdout",
     "output_type": "stream",
     "text": [
      "Best parameters set found on development set:\n",
      "\n",
      "{'max_depth': 10, 'min_samples_split': 1400}\n",
      "\n",
      "Grid scores on development set:\n",
      "\n",
      "-0.704661 (+/-0.010145) for {'max_depth': 10, 'min_samples_split': 1400}\n",
      "-0.705203 (+/-0.009643) for {'max_depth': 10, 'min_samples_split': 1600}\n",
      "-0.706586 (+/-0.008039) for {'max_depth': 10, 'min_samples_split': 1800}\n",
      "-0.707730 (+/-0.008144) for {'max_depth': 10, 'min_samples_split': 2000}\n",
      "-0.708238 (+/-0.009517) for {'max_depth': 10, 'min_samples_split': 2200}\n",
      "-0.707346 (+/-0.009178) for {'max_depth': 10, 'min_samples_split': 2400}\n",
      "-0.707663 (+/-0.012145) for {'max_depth': 12, 'min_samples_split': 1400}\n",
      "-0.706052 (+/-0.006328) for {'max_depth': 12, 'min_samples_split': 1600}\n",
      "-0.706497 (+/-0.010839) for {'max_depth': 12, 'min_samples_split': 1800}\n",
      "-0.705171 (+/-0.014264) for {'max_depth': 12, 'min_samples_split': 2000}\n",
      "-0.706843 (+/-0.007910) for {'max_depth': 12, 'min_samples_split': 2200}\n",
      "-0.708794 (+/-0.009362) for {'max_depth': 12, 'min_samples_split': 2400}\n",
      "-0.710406 (+/-0.010598) for {'max_depth': 14, 'min_samples_split': 1400}\n",
      "-0.706970 (+/-0.010426) for {'max_depth': 14, 'min_samples_split': 1600}\n",
      "-0.707684 (+/-0.009101) for {'max_depth': 14, 'min_samples_split': 1800}\n",
      "-0.707780 (+/-0.009455) for {'max_depth': 14, 'min_samples_split': 2000}\n",
      "-0.706172 (+/-0.010853) for {'max_depth': 14, 'min_samples_split': 2200}\n",
      "-0.706843 (+/-0.008421) for {'max_depth': 14, 'min_samples_split': 2400}\n",
      "-0.707779 (+/-0.015791) for {'max_depth': 16, 'min_samples_split': 1400}\n",
      "-0.709647 (+/-0.007350) for {'max_depth': 16, 'min_samples_split': 1600}\n",
      "-0.705885 (+/-0.009734) for {'max_depth': 16, 'min_samples_split': 1800}\n",
      "-0.707111 (+/-0.009512) for {'max_depth': 16, 'min_samples_split': 2000}\n",
      "-0.708182 (+/-0.010269) for {'max_depth': 16, 'min_samples_split': 2200}\n",
      "-0.709576 (+/-0.011488) for {'max_depth': 16, 'min_samples_split': 2400}\n",
      "-0.709934 (+/-0.013000) for {'max_depth': 18, 'min_samples_split': 1400}\n",
      "-0.710729 (+/-0.011030) for {'max_depth': 18, 'min_samples_split': 1600}\n",
      "-0.709294 (+/-0.010225) for {'max_depth': 18, 'min_samples_split': 1800}\n",
      "-0.709498 (+/-0.009600) for {'max_depth': 18, 'min_samples_split': 2000}\n",
      "-0.709568 (+/-0.008967) for {'max_depth': 18, 'min_samples_split': 2200}\n",
      "-0.707497 (+/-0.010575) for {'max_depth': 18, 'min_samples_split': 2400}\n",
      "-0.714556 (+/-0.015036) for {'max_depth': 20, 'min_samples_split': 1400}\n",
      "-0.711499 (+/-0.010143) for {'max_depth': 20, 'min_samples_split': 1600}\n",
      "-0.709116 (+/-0.013271) for {'max_depth': 20, 'min_samples_split': 1800}\n",
      "-0.709756 (+/-0.011719) for {'max_depth': 20, 'min_samples_split': 2000}\n",
      "-0.709934 (+/-0.013074) for {'max_depth': 20, 'min_samples_split': 2200}\n",
      "-0.707828 (+/-0.013108) for {'max_depth': 20, 'min_samples_split': 2400}\n",
      "\n"
     ]
    }
   ],
   "source": [
    "param_test3 = {'max_depth': range(10,21,2), 'min_samples_split': range(1400, 2401, 200)}\n",
    "cv = StratifiedShuffleSplit(n_splits=5, test_size=0.2, random_state=42)\n",
    "gsearch3 = GridSearchCV(estimator=GradientBoostingClassifier(learning_rate=0.25, n_estimators=60, max_features='sqrt', subsample=0.8, random_state=10),\n",
    "                       param_grid=param_test3, scoring='neg_log_loss', n_jobs=-1, cv=cv)\n",
    "gsearch3.fit(X_train_scaled, y_train)\n",
    "print_gsearch_result(gsearch3)"
   ]
  },
  {
   "cell_type": "markdown",
   "metadata": {},
   "source": [
    "We find the optimal value for max_depth is 10. And the optimal value for min_samples_split is 1400.\n",
    "\n",
    "Also, we can test for 5 values of min_samples_leaf, from 30 to 70 in steps of 10."
   ]
  },
  {
   "cell_type": "markdown",
   "metadata": {},
   "source": [
    "#### 3.2.2 Tuning min_samples_leaf"
   ]
  },
  {
   "cell_type": "code",
   "execution_count": 63,
   "metadata": {
    "scrolled": true
   },
   "outputs": [
    {
     "name": "stdout",
     "output_type": "stream",
     "text": [
      "Best parameters set found on development set:\n",
      "\n",
      "{'min_samples_leaf': 40}\n",
      "\n",
      "Grid scores on development set:\n",
      "\n",
      "-0.704057 (+/-0.007674) for {'min_samples_leaf': 30}\n",
      "-0.701087 (+/-0.013143) for {'min_samples_leaf': 40}\n",
      "-0.701220 (+/-0.011412) for {'min_samples_leaf': 50}\n",
      "-0.702078 (+/-0.012287) for {'min_samples_leaf': 60}\n",
      "-0.703242 (+/-0.011673) for {'min_samples_leaf': 70}\n",
      "\n"
     ]
    }
   ],
   "source": [
    "param_test4 = {'min_samples_leaf': range(30,71,10)}\n",
    "cv = StratifiedShuffleSplit(n_splits=5, test_size=0.2, random_state=42)\n",
    "gsearch4 = GridSearchCV(estimator=GradientBoostingClassifier(learning_rate=0.25, n_estimators=60, max_features='sqrt', subsample=0.8,max_depth=10,min_samples_split=1400, random_state=10),\n",
    "                       param_grid=param_test4, scoring='neg_log_loss', n_jobs=-1, cv=cv)\n",
    "gsearch4.fit(X_train_scaled, y_train)\n",
    "print_gsearch_result(gsearch4)"
   ]
  },
  {
   "cell_type": "markdown",
   "metadata": {},
   "source": [
    "From the above result, we find the optimal value of min_samples_leaf is 40. "
   ]
  },
  {
   "cell_type": "markdown",
   "metadata": {},
   "source": [
    "#### Now we have {'max_depth': 10, 'min_samples_split': 1400, 'min_samples_leaf': 40}.\n"
   ]
  },
  {
   "cell_type": "code",
   "execution_count": 64,
   "metadata": {
    "scrolled": false
   },
   "outputs": [
    {
     "name": "stdout",
     "output_type": "stream",
     "text": [
      "\n",
      "Model Report\n",
      "Logloss : 0.7020\n",
      "Accuracy : 0.6968\n"
     ]
    },
    {
     "data": {
      "image/png": "[encoded data removed]",
      "text/plain": [
       "<Figure size 864x288 with 1 Axes>"
      ]
     },
     "metadata": {
      "needs_background": "light"
     },
     "output_type": "display_data"
    }
   ],
   "source": [
    "modelfit(gsearch4.best_estimator_, X_train_scaled, y_train, False)"
   ]
  },
  {
   "cell_type": "markdown",
   "metadata": {},
   "source": [
    "#### 3.2.3 Tuning max_features"
   ]
  },
  {
   "cell_type": "code",
   "execution_count": 65,
   "metadata": {
    "scrolled": true
   },
   "outputs": [
    {
     "name": "stdout",
     "output_type": "stream",
     "text": [
      "Best parameters set found on development set:\n",
      "\n",
      "{'max_features': 19}\n",
      "\n",
      "Grid scores on development set:\n",
      "\n",
      "-0.702980 (+/-0.007124) for {'max_features': 7}\n",
      "-0.701087 (+/-0.013143) for {'max_features': 9}\n",
      "-0.701635 (+/-0.011105) for {'max_features': 11}\n",
      "-0.700881 (+/-0.015205) for {'max_features': 13}\n",
      "-0.701542 (+/-0.008739) for {'max_features': 15}\n",
      "-0.701010 (+/-0.014151) for {'max_features': 17}\n",
      "-0.699916 (+/-0.012198) for {'max_features': 19}\n",
      "\n"
     ]
    }
   ],
   "source": [
    "param_test5 = {'max_features':  range(7,20,2)}\n",
    "cv = StratifiedShuffleSplit(n_splits=2, test_size=0.2, random_state=42)\n",
    "gsearch5 = GridSearchCV(estimator=GradientBoostingClassifier(learning_rate=0.25, n_estimators=60, subsample=0.8,max_depth=10, min_samples_split=1400,min_samples_leaf=40, random_state=10),\n",
    "                       param_grid=param_test5, scoring='neg_log_loss', n_jobs=-1, cv=cv)\n",
    "gsearch5.fit(X_train_scaled, y_train)\n",
    "print_gsearch_result(gsearch5)"
   ]
  },
  {
   "cell_type": "code",
   "execution_count": 66,
   "metadata": {},
   "outputs": [
    {
     "name": "stdout",
     "output_type": "stream",
     "text": [
      "Best parameters set found on development set:\n",
      "\n",
      "{'max_features': 29}\n",
      "\n",
      "Grid scores on development set:\n",
      "\n",
      "-0.699916 (+/-0.012198) for {'max_features': 19}\n",
      "-0.703082 (+/-0.009758) for {'max_features': 21}\n",
      "-0.702704 (+/-0.014264) for {'max_features': 23}\n",
      "-0.702660 (+/-0.008581) for {'max_features': 25}\n",
      "-0.700809 (+/-0.013885) for {'max_features': 27}\n",
      "-0.698774 (+/-0.010768) for {'max_features': 29}\n",
      "\n"
     ]
    }
   ],
   "source": [
    "param_test6 = {'max_features':  range(19,30,2)}\n",
    "cv = StratifiedShuffleSplit(n_splits=2, test_size=0.2, random_state=42)\n",
    "gsearch6 = GridSearchCV(estimator=GradientBoostingClassifier(learning_rate=0.25, n_estimators=60, subsample=0.8,max_depth=10, min_samples_split=1400,min_samples_leaf=40, random_state=10),\n",
    "                       param_grid=param_test6, scoring='neg_log_loss', n_jobs=-1, cv=cv)\n",
    "gsearch6.fit(X_train_scaled, y_train)\n",
    "print_gsearch_result(gsearch6)"
   ]
  },
  {
   "cell_type": "code",
   "execution_count": 67,
   "metadata": {
    "scrolled": true
   },
   "outputs": [
    {
     "name": "stdout",
     "output_type": "stream",
     "text": [
      "Best parameters set found on development set:\n",
      "\n",
      "{'max_features': 33}\n",
      "\n",
      "Grid scores on development set:\n",
      "\n",
      "-0.701405 (+/-0.009701) for {'max_features': 31}\n",
      "-0.701299 (+/-0.011018) for {'max_features': 33}\n",
      "-0.701890 (+/-0.016175) for {'max_features': 35}\n",
      "\n"
     ]
    }
   ],
   "source": [
    "param_test7 = {'max_features':  range(31,36,2)}\n",
    "cv = StratifiedShuffleSplit(n_splits=2, test_size=0.2, random_state=42)\n",
    "gsearch7 = GridSearchCV(estimator=GradientBoostingClassifier(learning_rate=0.25, n_estimators=60, subsample=0.8,max_depth=10, min_samples_split=1400,min_samples_leaf=40, random_state=10),\n",
    "                       param_grid=param_test7, scoring='neg_log_loss', n_jobs=-1, cv=cv)\n",
    "gsearch7.fit(X_train_scaled, y_train)\n",
    "print_gsearch_result(gsearch7)"
   ]
  },
  {
   "cell_type": "markdown",
   "metadata": {},
   "source": [
    "The optimal value for max_features is 29."
   ]
  },
  {
   "cell_type": "markdown",
   "metadata": {},
   "source": [
    "#### 3.2.4 Tuning subsample"
   ]
  },
  {
   "cell_type": "code",
   "execution_count": 68,
   "metadata": {
    "scrolled": false
   },
   "outputs": [
    {
     "name": "stdout",
     "output_type": "stream",
     "text": [
      "Best parameters set found on development set:\n",
      "\n",
      "{'subsample': 0.8}\n",
      "\n",
      "Grid scores on development set:\n",
      "\n",
      "-0.707740 (+/-0.012529) for {'subsample': 0.6}\n",
      "-0.705304 (+/-0.012300) for {'subsample': 0.7}\n",
      "-0.701922 (+/-0.007805) for {'subsample': 0.75}\n",
      "-0.698774 (+/-0.010768) for {'subsample': 0.8}\n",
      "-0.699612 (+/-0.011668) for {'subsample': 0.85}\n",
      "-0.700474 (+/-0.010964) for {'subsample': 0.9}\n",
      "\n"
     ]
    }
   ],
   "source": [
    "param_test8 = {'subsample':[0.6,0.7, 0.75, 0.8, 0.85, 0.9]}\n",
    "cv = StratifiedShuffleSplit(n_splits=2, test_size=0.2, random_state=42)\n",
    "gsearch8 = GridSearchCV(estimator=GradientBoostingClassifier(learning_rate=0.25, n_estimators=60,max_depth=10, min_samples_split=1400,min_samples_leaf=40, max_features=29, random_state=10),\n",
    "                       param_grid=param_test8, scoring='neg_log_loss', n_jobs=-1, cv=cv)\n",
    "gsearch8.fit(X_train_scaled, y_train)\n",
    "print_gsearch_result(gsearch8)"
   ]
  },
  {
   "cell_type": "markdown",
   "metadata": {},
   "source": [
    "### 3.3 Proportionally increase n_estimators and decrease learning_rate"
   ]
  },
  {
   "cell_type": "code",
   "execution_count": 70,
   "metadata": {},
   "outputs": [
    {
     "data": {
      "text/plain": [
       "GradientBoostingClassifier(ccp_alpha=0.0, criterion='friedman_mse', init=None,\n",
       "                           learning_rate=0.125, loss='deviance', max_depth=10,\n",
       "                           max_features=29, max_leaf_nodes=None,\n",
       "                           min_impurity_decrease=0.0, min_impurity_split=None,\n",
       "                           min_samples_leaf=40, min_samples_split=1400,\n",
       "                           min_weight_fraction_leaf=0.0, n_estimators=120,\n",
       "                           n_iter_no_change=None, presort='deprecated',\n",
       "                           random_state=10, subsample=1.0, tol=0.0001,\n",
       "                           validation_fraction=0.1, verbose=0,\n",
       "                           warm_start=False)"
      ]
     },
     "execution_count": 70,
     "metadata": {},
     "output_type": "execute_result"
    }
   ],
   "source": [
    "clf1 = GradientBoostingClassifier(learning_rate=0.125, n_estimators=120,\n",
    "                                  max_depth=10, min_samples_split=1400,min_samples_leaf=40, max_features=29, random_state=10)\n",
    "clf1.fit(X_train_scaled, y_train)"
   ]
  },
  {
   "cell_type": "markdown",
   "metadata": {},
   "source": [
    "# 4. Evaluation"
   ]
  },
  {
   "cell_type": "code",
   "execution_count": 121,
   "metadata": {},
   "outputs": [],
   "source": [
    "clf2 = GradientBoostingClassifier(n_estimators =200, learning_rate=0.1, random_state=0, min_impurity_decrease=0.0007,max_leaf_nodes=80, min_samples_leaf=5)"
   ]
  },
  {
   "cell_type": "code",
   "execution_count": 126,
   "metadata": {},
   "outputs": [],
   "source": [
    "from sklearn.model_selection import KFold, cross_val_score\n",
    "def crossValidation(clf, X, y, n):\n",
    "    cv = KFold(n_splits=n)\n",
    "    y_pred = []\n",
    "    i=0\n",
    "    # split the training data to training and validation data\n",
    "    for train_index, valid_index in cv.split(X):\n",
    "        print(\"loop %d\" % i)\n",
    "        i += 1\n",
    "        X_tr, X_va, y_tr, y_va = X[train_index], X[valid_index], y.iloc[train_index], y.iloc[valid_index]\n",
    "        clf.fit(X_tr, y_tr)\n",
    "        y_pred.append(clf.predict(X_va))\n",
    "        break\n",
    "    return y_pred\n",
    "    "
   ]
  },
  {
   "cell_type": "code",
   "execution_count": 127,
   "metadata": {},
   "outputs": [
    {
     "name": "stdout",
     "output_type": "stream",
     "text": [
      "loop 0\n"
     ]
    }
   ],
   "source": [
    "y_pred = crossValidation(clf2, X_train_scaled, y_train, 5)"
   ]
  },
  {
   "cell_type": "code",
   "execution_count": 132,
   "metadata": {},
   "outputs": [],
   "source": [
    "import matplotlib.pyplot as plt\n",
    "from sklearn.metrics import confusion_matrix\n",
    "import seaborn as sns\n",
    "def cm_plot(y_valid,y_pred):\n",
    "    cm = confusion_matrix(y_valid, y_pred, labels = [0,1,2])\n",
    "    cm = pd.DataFrame(cm,columns=['low','medium','high'],index = ['low','medium','high'])\n",
    "    plt.title('Confusion Matrix',fontsize=18)\n",
    "    ax = sns.heatmap(cm,annot=True,cmap='YlGn_r',fmt='.20g',linewidths = 0)\n",
    "    bottom, top = ax.get_ylim()\n",
    "    ax.set_ylim(bottom + 0.5, top - 0.5)\n",
    "    plt.xlabel('Predicted Label',fontsize=12)\n",
    "    plt.ylabel('True Label',fontsize=12)\n",
    "    plt.savefig('cm.png',dpi=800)"
   ]
  },
  {
   "cell_type": "code",
   "execution_count": 133,
   "metadata": {},
   "outputs": [
    {
     "data": {
      "image/png": "[encoded data removed]",
      "text/plain": [
       "<Figure size 864x288 with 2 Axes>"
      ]
     },
     "metadata": {
      "needs_background": "light"
     },
     "output_type": "display_data"
    }
   ],
   "source": [
    "n = int( len(y_train) / 5 )\n",
    "y_valid = y_train[:n]\n",
    "y_p = np.asarray(y_pred).reshape(n,1)\n",
    "cm_plot(y_valid, y_p)"
   ]
  },
  {
   "cell_type": "code",
   "execution_count": null,
   "metadata": {},
   "outputs": [],
   "source": []
  }
 ],
 "metadata": {
  "kernelspec": {
   "display_name": "Python 3",
   "language": "python",
   "name": "python3"
  },
  "language_info": {
   "codemirror_mode": {
    "name": "ipython",
    "version": 3
   },
   "file_extension": ".py",
   "mimetype": "text/x-python",
   "name": "python",
   "nbconvert_exporter": "python",
   "pygments_lexer": "ipython3",
   "version": "3.8.1"
  }
 },
 "nbformat": 4,
 "nbformat_minor": 4
}
