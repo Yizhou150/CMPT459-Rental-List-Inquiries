{
 "cells": [
  {
   "cell_type": "code",
   "execution_count": 1,
   "metadata": {},
   "outputs": [],
   "source": [
    "import sys\n",
    "import os \n",
    "import seaborn as sns\n",
    "import graphviz\n",
    "import pydotplus \n",
    "import numpy as np\n",
    "import pandas as pd\n",
    "import matplotlib.pyplot as plt"
   ]
  },
  {
   "cell_type": "code",
   "execution_count": 2,
   "metadata": {},
   "outputs": [],
   "source": [
    "import scipy as sp\n",
    "from sklearn.metrics import confusion_matrix\n",
    "from sklearn.metrics import precision_score, recall_score\n",
    "from sklearn import tree\n",
    "from sklearn.model_selection import KFold\n",
    "from sklearn.decomposition import PCA\n",
    "from sklearn.pipeline import make_pipeline\n",
    "from sklearn.tree import DecisionTreeClassifier\n",
    "from sklearn.model_selection import train_test_split\n",
    "from sklearn.model_selection import cross_val_score\n",
    "from sklearn.preprocessing import OneHotEncoder\n",
    "from sklearn.ensemble import ExtraTreesClassifier #导入ExtraTrees"
   ]
  },
  {
   "cell_type": "code",
   "execution_count": 3,
   "metadata": {},
   "outputs": [],
   "source": [
    "original_train = pd.read_json('train_bonus.json')\n",
    "original_test = pd.read_json('test_bonus.json')"
   ]
  },
  {
   "cell_type": "markdown",
   "metadata": {},
   "source": [
    "# Cross-Validation"
   ]
  },
  {
   "cell_type": "code",
   "execution_count": 4,
   "metadata": {},
   "outputs": [],
   "source": [
    "def cv_score_manual(DicisionTreeModel,X,y):    \n",
    "    kf = KFold(n_splits = 10)\n",
    "    i = 1\n",
    "    scores = []\n",
    "    for train_index, valid_index in kf.split(X):\n",
    "        X_train, X_valid = X.iloc[train_index], X.iloc[valid_index]\n",
    "        y_train, y_valid = y.iloc[train_index], y.iloc[valid_index]\n",
    "        DicisionTreeModel.fit(X_train,y_train)\n",
    "        scores.append(DicisionTreeModel.score(X_valid,y_valid))\n",
    "    return np.array(scores).mean()"
   ]
  },
  {
   "cell_type": "code",
   "execution_count": 5,
   "metadata": {},
   "outputs": [],
   "source": [
    "def cv_score(clr,X,y):\n",
    "    score = cross_val_score(clr,X,y,cv=5)\n",
    "    return score.mean()"
   ]
  },
  {
   "cell_type": "code",
   "execution_count": 6,
   "metadata": {},
   "outputs": [],
   "source": [
    "def haversine(df):\n",
    "    lat1 = df['latitude']\n",
    "    lat2 = 40.785091\n",
    "    lon1 = df['longitude']\n",
    "    lon2 = -73.968285\n",
    "    dlat = np.deg2rad(np.fabs(lat2-lat1))\n",
    "    dlon = np.deg2rad(np.fabs(lon2-lon1))\n",
    "    a = np.sin(dlat/2)**2 + np.cos(np.deg2rad(lat1))*np.cos(np.deg2rad(lat2))*np.sin(dlon/2)**2\n",
    "    c =2 * np.arcsin(np.sqrt(a))\n",
    "    Earth_Radius = 6371\n",
    "    return c * Earth_Radius * 1000"
   ]
  },
  {
   "cell_type": "markdown",
   "metadata": {},
   "source": [
    "# Prepare"
   ]
  },
  {
   "cell_type": "code",
   "execution_count": 7,
   "metadata": {},
   "outputs": [],
   "source": [
    "train = original_train.drop(columns = {'rec_id','created','building_id','description','display_address','manager_id','features','photos','street_address','clean_feat'})\n",
    "train['price_per_bedroom'] = train['price']/(train['bedrooms']+1)\n",
    "train['price_per_bathroom'] = train['price']/(train['bathrooms']+1)\n",
    "# train['distance'] = haversine(train)\n",
    "X = train.drop(columns = {'interest_level'})\n",
    "y = train['interest_level']\n",
    "X = X.reset_index(drop = True)\n",
    "y = y.reset_index(drop = True)"
   ]
  },
  {
   "cell_type": "code",
   "execution_count": 8,
   "metadata": {},
   "outputs": [],
   "source": [
    "test = original_test.drop(columns = {'rec_id','created','building_id','description','display_address','manager_id','features','photos','street_address','clean_feat'})\n",
    "test['price_per_bedroom'] = test['price']/(test['bedrooms']+1)\n",
    "test['price_per_bathroom'] = test['price']/(test['bathrooms']+1)\n",
    "test['diff_rooms'] = test['bedrooms']-test['bathrooms']\n",
    "# test['distance'] = haversine(test)\n",
    "X_test = test.reset_index(drop = True)"
   ]
  },
  {
   "cell_type": "code",
   "execution_count": 9,
   "metadata": {},
   "outputs": [
    {
     "data": {
      "text/plain": [
       "Index(['bathrooms', 'bedrooms', 'latitude', 'listing_id', 'longitude', 'price',\n",
       "       'diff_rooms', 'desc_apartment', 'desc_appliances', 'desc_bedroom',\n",
       "       'desc_building', 'desc_floors', 'desc_hardwood', 'desc_kitchen',\n",
       "       'desc_renovated', 'desc_space', 'desc_website_redacted',\n",
       "       'ft_catsallowed', 'ft_dishwasher', 'ft_dogsallowed', 'ft_doorman',\n",
       "       'ft_elevator', 'ft_fitnesscenter', 'ft_hardwoodfloors',\n",
       "       'ft_laundryinbuilding', 'ft_laundryinunit', 'ft_nofee',\n",
       "       'manager_id_num', 'building_id_num', 'photo_num', 'distance_subway',\n",
       "       'price_per_bedroom', 'price_per_bathroom'],\n",
       "      dtype='object')"
      ]
     },
     "execution_count": 9,
     "metadata": {},
     "output_type": "execute_result"
    }
   ],
   "source": [
    "X.columns[0:]"
   ]
  },
  {
   "cell_type": "markdown",
   "metadata": {},
   "source": [
    "# Feature Selection"
   ]
  },
  {
   "cell_type": "markdown",
   "metadata": {},
   "source": [
    "## 1. Extra-Trees"
   ]
  },
  {
   "cell_type": "code",
   "execution_count": 10,
   "metadata": {},
   "outputs": [],
   "source": [
    "from sklearn.feature_selection import SelectKBest\n",
    "from sklearn.feature_selection import chi2,f_classif,mutual_info_classif\n",
    "from sklearn.feature_selection import SelectFromModel\n",
    "from sklearn.ensemble import GradientBoostingClassifier\n",
    "from scipy.stats import pearsonr\n",
    "from minepy import MINE"
   ]
  },
  {
   "cell_type": "code",
   "execution_count": 11,
   "metadata": {},
   "outputs": [],
   "source": [
    "def extra_tree(X,y,k):\n",
    "    model = ExtraTreesClassifier() #设置ExtraTrees\n",
    "    model.fit(X, y)\n",
    "    temp = np.array(model.feature_importances_)\n",
    "    temp_index = np.argpartition(temp, -k)[-k:]\n",
    "    X_new = X.iloc[:,temp_index]\n",
    "    return X_new\n"
   ]
  },
  {
   "cell_type": "markdown",
   "metadata": {},
   "source": [
    "## 2. SelectKBest F-score"
   ]
  },
  {
   "cell_type": "code",
   "execution_count": 12,
   "metadata": {},
   "outputs": [],
   "source": [
    "def f_score(X,X_test,y,k):\n",
    "    tempindex = SelectKBest(f_classif,k=k).fit(X,y).get_support(indices = True)\n",
    "    X_new = X.iloc[:,tempindex]\n",
    "    X_test_new = X_test.iloc[:,tempindex]\n",
    "    return X_new,X_test_new"
   ]
  },
  {
   "cell_type": "markdown",
   "metadata": {},
   "source": [
    "## 3. SelectKBest Mutual Information "
   ]
  },
  {
   "cell_type": "code",
   "execution_count": 13,
   "metadata": {},
   "outputs": [],
   "source": [
    "def MI(X,X_test,y,k):              # best\n",
    "    tempindex = SelectKBest(mutual_info_classif,k=k).fit(X,y).get_support(indices = True)\n",
    "    X_new = X.iloc[:,tempindex]\n",
    "    X_test_new = X_test.iloc[:,tempindex]\n",
    "    return X_new,X_test_new"
   ]
  },
  {
   "cell_type": "markdown",
   "metadata": {},
   "source": [
    "# Output Result"
   ]
  },
  {
   "cell_type": "code",
   "execution_count": 14,
   "metadata": {},
   "outputs": [],
   "source": [
    "def to_result_format(X):\n",
    "    res = pd.DataFrame(y_test,columns=['high', 'low', 'medium'])\n",
    "    temp = res['low']\n",
    "    res = res.drop(columns = {'low'})\n",
    "    res.insert(2,'low',temp)\n",
    "    res.insert\n",
    "    res.insert(0,'listing_id',X['listing_id'])\n",
    "    res.to_csv('submission.csv', index = None)\n",
    "    return res"
   ]
  },
  {
   "cell_type": "markdown",
   "metadata": {},
   "source": [
    "# Dicision Tree First Time"
   ]
  },
  {
   "cell_type": "code",
   "execution_count": 15,
   "metadata": {},
   "outputs": [
    {
     "data": {
      "text/plain": [
       "DecisionTreeClassifier(class_weight=None, criterion='gini', max_depth=None,\n",
       "                       max_features=None, max_leaf_nodes=None,\n",
       "                       min_impurity_decrease=0.0, min_impurity_split=None,\n",
       "                       min_samples_leaf=1, min_samples_split=2,\n",
       "                       min_weight_fraction_leaf=0.0, presort=False,\n",
       "                       random_state=None, splitter='best')"
      ]
     },
     "execution_count": 15,
     "metadata": {},
     "output_type": "execute_result"
    }
   ],
   "source": [
    "DecisionTreeModel_1 = DecisionTreeClassifier()\n",
    "DecisionTreeModel_1.fit(X,y)"
   ]
  },
  {
   "cell_type": "code",
   "execution_count": 16,
   "metadata": {},
   "outputs": [
    {
     "data": {
      "text/plain": [
       "0.6512554340703851"
      ]
     },
     "execution_count": 16,
     "metadata": {},
     "output_type": "execute_result"
    }
   ],
   "source": [
    "y_test = DecisionTreeModel_1.predict_proba(X_test)\n",
    "res = to_result_format(X_test)\n",
    "cv_score(DecisionTreeModel_1,X,y)"
   ]
  },
  {
   "cell_type": "markdown",
   "metadata": {},
   "source": [
    "# Decision Tree Second Time"
   ]
  },
  {
   "cell_type": "code",
   "execution_count": 17,
   "metadata": {},
   "outputs": [
    {
     "data": {
      "text/plain": [
       "DecisionTreeClassifier(class_weight=None, criterion='entropy', max_depth=None,\n",
       "                       max_features=None, max_leaf_nodes=80,\n",
       "                       min_impurity_decrease=0.0007, min_impurity_split=None,\n",
       "                       min_samples_leaf=5, min_samples_split=2,\n",
       "                       min_weight_fraction_leaf=0.0, presort=False,\n",
       "                       random_state=None, splitter='best')"
      ]
     },
     "execution_count": 17,
     "metadata": {},
     "output_type": "execute_result"
    }
   ],
   "source": [
    "DecisionTreeModel_2 = DecisionTreeClassifier(min_impurity_decrease=0.0007,max_leaf_nodes=80, min_samples_leaf=5, criterion='entropy')\n",
    "DecisionTreeModel_2.fit(X,y)"
   ]
  },
  {
   "cell_type": "code",
   "execution_count": 18,
   "metadata": {},
   "outputs": [
    {
     "data": {
      "text/plain": [
       "0.7148577974640851"
      ]
     },
     "execution_count": 18,
     "metadata": {},
     "output_type": "execute_result"
    }
   ],
   "source": [
    "y_test = DecisionTreeModel_2.predict_proba(X_test)\n",
    "res = to_result_format(X_test)\n",
    "cv_score(DecisionTreeModel_2,X,y)"
   ]
  },
  {
   "cell_type": "markdown",
   "metadata": {},
   "source": [
    "# Decision Tree with PCA"
   ]
  },
  {
   "cell_type": "code",
   "execution_count": 19,
   "metadata": {},
   "outputs": [],
   "source": [
    "x_all = pd.concat([X,X_test],sort=False)\n",
    "X_pca = PCA(n_components=5).fit_transform(x_all)\n",
    "X_train_pca = X_pca[:49165]\n",
    "X_test_pca = X_pca[49165:]"
   ]
  },
  {
   "cell_type": "code",
   "execution_count": 20,
   "metadata": {
    "scrolled": true
   },
   "outputs": [
    {
     "data": {
      "text/plain": [
       "DecisionTreeClassifier(class_weight=None, criterion='entropy', max_depth=None,\n",
       "                       max_features=None, max_leaf_nodes=80,\n",
       "                       min_impurity_decrease=0.0007, min_impurity_split=None,\n",
       "                       min_samples_leaf=5, min_samples_split=2,\n",
       "                       min_weight_fraction_leaf=0.0, presort=False,\n",
       "                       random_state=None, splitter='best')"
      ]
     },
     "execution_count": 20,
     "metadata": {},
     "output_type": "execute_result"
    }
   ],
   "source": [
    "DecisionTreeModel_PCA = DecisionTreeClassifier(min_impurity_decrease=0.0007,max_leaf_nodes=80, min_samples_leaf=5, criterion='entropy')\n",
    "DecisionTreeModel_PCA.fit(X_train_pca,y)"
   ]
  },
  {
   "cell_type": "code",
   "execution_count": 21,
   "metadata": {},
   "outputs": [
    {
     "data": {
      "text/plain": [
       "0.7052983767602996"
      ]
     },
     "execution_count": 21,
     "metadata": {},
     "output_type": "execute_result"
    }
   ],
   "source": [
    "y_test = DecisionTreeModel_PCA.predict_proba(X_test_pca)\n",
    "res = to_result_format(X_test)\n",
    "cv_score(DecisionTreeModel_PCA,X_train_pca,y)"
   ]
  },
  {
   "cell_type": "markdown",
   "metadata": {},
   "source": [
    "# Visualization"
   ]
  },
  {
   "cell_type": "code",
   "execution_count": 22,
   "metadata": {},
   "outputs": [],
   "source": [
    "feature_name = X.columns[0:]\n",
    "target_name = np.unique(y)"
   ]
  },
  {
   "cell_type": "code",
   "execution_count": 23,
   "metadata": {},
   "outputs": [],
   "source": [
    "from IPython.display import Image  \n",
    "dot_data = tree.export_graphviz(DecisionTreeModel_2, out_file=None, \n",
    "                         feature_names=feature_name,  \n",
    "                         class_names=target_name,  \n",
    "                         filled=True, rounded=True,  \n",
    "                         special_characters=True)  "
   ]
  },
  {
   "cell_type": "code",
   "execution_count": 24,
   "metadata": {},
   "outputs": [
    {
     "data": {
      "text/plain": [
       "True"
      ]
     },
     "execution_count": 24,
     "metadata": {},
     "output_type": "execute_result"
    }
   ],
   "source": [
    "graph = pydotplus.graph_from_dot_data(dot_data)\n",
    "Image(graph.create_png())\n",
    "graph.write_png(\"pic_2.png\")"
   ]
  },
  {
   "cell_type": "markdown",
   "metadata": {},
   "source": [
    "# Confusion Matrix"
   ]
  },
  {
   "cell_type": "code",
   "execution_count": 25,
   "metadata": {},
   "outputs": [],
   "source": [
    "X_train, X_valid, y_train, y_valid = train_test_split(X,y)"
   ]
  },
  {
   "cell_type": "code",
   "execution_count": 26,
   "metadata": {},
   "outputs": [
    {
     "data": {
      "text/plain": [
       "DecisionTreeClassifier(class_weight=None, criterion='entropy', max_depth=None,\n",
       "                       max_features=None, max_leaf_nodes=80,\n",
       "                       min_impurity_decrease=0.0007, min_impurity_split=None,\n",
       "                       min_samples_leaf=5, min_samples_split=2,\n",
       "                       min_weight_fraction_leaf=0.0, presort=False,\n",
       "                       random_state=None, splitter='best')"
      ]
     },
     "execution_count": 26,
     "metadata": {},
     "output_type": "execute_result"
    }
   ],
   "source": [
    "model = DecisionTreeClassifier(min_impurity_decrease=0.0007,max_leaf_nodes=80, min_samples_leaf=5, criterion='entropy')\n",
    "model.fit(X_train,y_train)"
   ]
  },
  {
   "cell_type": "code",
   "execution_count": 27,
   "metadata": {},
   "outputs": [],
   "source": [
    "y_pred = model.predict(X_valid)"
   ]
  },
  {
   "cell_type": "code",
   "execution_count": 28,
   "metadata": {},
   "outputs": [],
   "source": [
    "def cm_plot(y_valid,y_pred):\n",
    "    cm = confusion_matrix(y_valid, y_pred, labels = ['high','low','medium'])\n",
    "    cm = pd.DataFrame(cm,columns=['high','low','medium'],index = ['high','low','medium'])\n",
    "    plt.title('Confusion Matrix',fontsize=18)\n",
    "    ax = sns.heatmap(cm,annot=True,cmap='Blues',fmt='.20g',linewidths = 0)\n",
    "    bottom, top = ax.get_ylim()\n",
    "    ax.set_ylim(bottom + 0.5, top - 0.5)\n",
    "    plt.xlabel('Predicted Label',fontsize=12)\n",
    "    plt.ylabel('True Label',fontsize=12)\n",
    "    plt.savefig('cm.png',dpi=800)"
   ]
  },
  {
   "cell_type": "code",
   "execution_count": 29,
   "metadata": {},
   "outputs": [
    {
     "data": {
      "image/png": "[encoded data removed]",
      "text/plain": [
       "<Figure size 432x288 with 2 Axes>"
      ]
     },
     "metadata": {
      "needs_background": "light"
     },
     "output_type": "display_data"
    }
   ],
   "source": [
    "cm_plot(y_valid,y_pred)"
   ]
  }
 ],
 "metadata": {
  "kernelspec": {
   "display_name": "Python 3",
   "language": "python",
   "name": "python3"
  },
  "language_info": {
   "codemirror_mode": {
    "name": "ipython",
    "version": 3
   },
   "file_extension": ".py",
   "mimetype": "text/x-python",
   "name": "python",
   "nbconvert_exporter": "python",
   "pygments_lexer": "ipython3",
   "version": "3.7.4"
  }
 },
 "nbformat": 4,
 "nbformat_minor": 2
}
