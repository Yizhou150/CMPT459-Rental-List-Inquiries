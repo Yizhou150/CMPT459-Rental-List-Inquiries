{
 "cells": [
  {
   "cell_type": "code",
   "execution_count": 1,
   "metadata": {},
   "outputs": [],
   "source": [
    "import numpy as np\n",
    "import pandas as pd\n",
    "import matplotlib.pyplot as plt\n",
    "import seaborn as sns"
   ]
  },
  {
   "cell_type": "code",
   "execution_count": 2,
   "metadata": {},
   "outputs": [],
   "source": [
    "from sklearn.model_selection import train_test_split\n",
    "from sklearn.model_selection import cross_val_score\n",
    "from sklearn.model_selection import KFold"
   ]
  },
  {
   "cell_type": "code",
   "execution_count": 3,
   "metadata": {},
   "outputs": [],
   "source": [
    "from sklearn.preprocessing import StandardScaler\n",
    "from sklearn.preprocessing import MinMaxScaler\n",
    "from sklearn.decomposition import PCA\n",
    "from sklearn.pipeline import make_pipeline\n",
    "from sklearn.linear_model import LogisticRegression"
   ]
  },
  {
   "cell_type": "code",
   "execution_count": 4,
   "metadata": {},
   "outputs": [],
   "source": [
    "from sklearn.feature_extraction.text import  TfidfVectorizer, CountVectorizer\n",
    "import gensim\n",
    "from gensim.models.doc2vec import Doc2Vec\n",
    "from gensim.test.utils import get_tmpfile"
   ]
  },
  {
   "cell_type": "code",
   "execution_count": 5,
   "metadata": {},
   "outputs": [],
   "source": [
    "import re"
   ]
  },
  {
   "cell_type": "code",
   "execution_count": 6,
   "metadata": {},
   "outputs": [],
   "source": [
    "from sklearn.metrics import confusion_matrix\n",
    "from sklearn.metrics import precision_score, recall_score"
   ]
  },
  {
   "cell_type": "code",
   "execution_count": 7,
   "metadata": {},
   "outputs": [],
   "source": [
    "train = pd.read_json('data/new_modified_train.json').reset_index().drop(columns={'index'})"
   ]
  },
  {
   "cell_type": "code",
   "execution_count": 8,
   "metadata": {},
   "outputs": [],
   "source": [
    "test = pd.read_json('data/new_modified_test.json').reset_index().drop(columns={'index'})"
   ]
  },
  {
   "cell_type": "code",
   "execution_count": 9,
   "metadata": {},
   "outputs": [
    {
     "data": {
      "text/plain": [
       "(49165, 74659)"
      ]
     },
     "execution_count": 9,
     "metadata": {},
     "output_type": "execute_result"
    }
   ],
   "source": [
    "train_len = len(train)\n",
    "test_len = len(test)\n",
    "train_len, test_len"
   ]
  },
  {
   "cell_type": "code",
   "execution_count": 10,
   "metadata": {},
   "outputs": [
    {
     "data": {
      "text/plain": [
       "(34108, 11222, 3835)"
      ]
     },
     "execution_count": 10,
     "metadata": {},
     "output_type": "execute_result"
    }
   ],
   "source": [
    "len(train[train['interest_level'] == 'low']), len(train[train['interest_level'] == 'medium']), len(train[train['interest_level'] == 'high'])"
   ]
  },
  {
   "cell_type": "code",
   "execution_count": 11,
   "metadata": {},
   "outputs": [],
   "source": [
    "y = train['interest_level']"
   ]
  },
  {
   "cell_type": "markdown",
   "metadata": {},
   "source": [
    "## attrs & derived attrs"
   ]
  },
  {
   "cell_type": "code",
   "execution_count": 12,
   "metadata": {},
   "outputs": [],
   "source": [
    "def list_to_string(flist):\n",
    "    string = ' '.join(flist)\n",
    "    return string"
   ]
  },
  {
   "cell_type": "code",
   "execution_count": 13,
   "metadata": {},
   "outputs": [],
   "source": [
    "def extract_description(df):\n",
    "    classifier = {\n",
    "        \"positive\":(\"beautiful\",\"great\",'luxury'),\n",
    "        \"apartment\": (\"apartment\",\"building\"),\n",
    "        \"security\": (\"access\", \"doorman\", \"in_super\"),\n",
    "        \"elevator\": (\"elevator\"),\n",
    "        \"stainless\": (\"stainless\"),\n",
    "        \"steel'\": (\"steel\"),\n",
    "        \"dishwasher\": (\"dishwasher\"),\n",
    "        \"good floor\": (\"granite\",\"marble\"),\n",
    "        \"renovated\": (\"renovated\")\n",
    "    }\n",
    "\n",
    "    def search_desc(desc):\n",
    "        return lambda s: int(any([x in s for x in desc]))\n",
    "\n",
    "    desc = df[\"description\"]\n",
    "    for key in classifier:\n",
    "        df['desc_'+key] = desc.apply(search_desc(classifier[key]))\n",
    "\n",
    "    return df"
   ]
  },
  {
   "cell_type": "code",
   "execution_count": 14,
   "metadata": {},
   "outputs": [],
   "source": [
    "def extract_features(df):\n",
    "    classifier = {\n",
    "        \"dogs\": (\"dogs\", \"dog\"),\n",
    "        \"cats\": (\"cats\", \"cat\"),\n",
    "        \"allowed\":(\"allowed\",\"allow\"),\n",
    "        \"nofee\": (\"no fee\", \"no-fee\", \"no  fee\", \"nofee\", \"no_fee\"),\n",
    "        \"lowfee\": (\"reduced_fee\", \"low_fee\", \"reduced fee\", \"low fee\"),\n",
    "        \"security\": (\"concierge\", \"doorman\", \"housekeep\", \"in_super\"),\n",
    "        \"laundry\": (\"laundry\", \"lndry\"),\n",
    "        \"health\": (\"health\", \"gym\", \"fitness\", \"training\",\"wheelchair\"),\n",
    "        \"transport\": (\"train\", \"subway\", \"transport\"),\n",
    "        \"parking\": (\"parking\"),\n",
    "        \"hardwood\": (\"hardwood\"),\n",
    "        \"utilities\": (\"utilities\", \"heat water\", \"water included\",\"garden\",'Dishwasher',)\n",
    "    }\n",
    "\n",
    "    def search_feature(feature):\n",
    "        return lambda s: int(any([x in s for x in feature]))\n",
    "\n",
    "    features = df[\"features\"].apply(list_to_string)   # convert features to string\n",
    "    features = features.str.lower()\n",
    "    for key in classifier:\n",
    "        df['feature_'+key] = features.apply(search_feature(classifier[key]))\n",
    "\n",
    "    return df"
   ]
  },
  {
   "cell_type": "code",
   "execution_count": 15,
   "metadata": {},
   "outputs": [],
   "source": [
    "data = train[['distance_subway', 'bathrooms', 'bedrooms', 'latitude', 'longitude', 'manager_id_num', 'photo_num', 'price', 'interest_level', 'features', 'description']]\n",
    "test_data = test[['distance_subway', 'bathrooms', 'bedrooms', 'latitude', 'longitude', 'manager_id_num', 'photo_num', 'price', 'features', 'description']]"
   ]
  },
  {
   "cell_type": "code",
   "execution_count": 16,
   "metadata": {},
   "outputs": [],
   "source": [
    "# data = train[['bathrooms', 'bedrooms', 'latitude', 'longitude', 'manager_id_num', 'photo_num', 'price', 'interest_level', 'features', 'description']]\n",
    "# test_data = test[['bathrooms', 'bedrooms', 'latitude', 'longitude', 'manager_id_num', 'photo_num', 'price', 'features', 'description']]"
   ]
  },
  {
   "cell_type": "code",
   "execution_count": 17,
   "metadata": {},
   "outputs": [],
   "source": [
    "X_init = data.drop(columns={'interest_level', 'features', 'description'})\n",
    "test_init = test_data.drop(columns={'features', 'description'})"
   ]
  },
  {
   "cell_type": "code",
   "execution_count": 18,
   "metadata": {},
   "outputs": [],
   "source": [
    "init_scaler = StandardScaler().fit(X_init)\n",
    "X_init_sc = init_scaler.transform(X_init)\n",
    "test_init_sc = init_scaler.transform(test_init)"
   ]
  },
  {
   "cell_type": "code",
   "execution_count": 19,
   "metadata": {},
   "outputs": [
    {
     "name": "stdout",
     "output_type": "stream",
     "text": [
      "0.6924133021458355 0.6922200752567884\n"
     ]
    },
    {
     "data": {
      "text/plain": [
       "[0.6943964202176345,\n",
       " 0.699583036713109,\n",
       " 0.6828028068748093,\n",
       " 0.6912437709752873,\n",
       " 0.6930743415031018]"
      ]
     },
     "execution_count": 19,
     "metadata": {},
     "output_type": "execute_result"
    }
   ],
   "source": [
    "LRscores_train = []\n",
    "LRscores_valid = []\n",
    "kf = KFold(n_splits=5)\n",
    "for train_index, valid_index in kf.split(X_init_sc,y):\n",
    "    X_train = X_init_sc[train_index]\n",
    "    X_valid = X_init_sc[valid_index]\n",
    "    y_train = y.iloc[train_index]\n",
    "    y_valid = y.iloc[valid_index]\n",
    "    lr0 = LogisticRegression(penalty='l2', C=10.0, solver='sag', multi_class='multinomial', max_iter=500)\n",
    "    lr0.fit(X_train, y_train)\n",
    "    LRscores_train.append(lr0.score(X_train, y_train))\n",
    "    LRscores_valid.append(lr0.score(X_valid, y_valid))\n",
    "print(np.mean(LRscores_train), np.mean(LRscores_valid))\n",
    "LRscores_valid"
   ]
  },
  {
   "cell_type": "code",
   "execution_count": 20,
   "metadata": {},
   "outputs": [],
   "source": [
    "pr0 = lr0.predict_proba(test_init_sc)"
   ]
  },
  {
   "cell_type": "code",
   "execution_count": 21,
   "metadata": {
    "scrolled": true
   },
   "outputs": [
    {
     "name": "stderr",
     "output_type": "stream",
     "text": [
      "/Users/chenyizhou/anaconda3/lib/python3.7/site-packages/ipykernel_launcher.py:23: SettingWithCopyWarning: \n",
      "A value is trying to be set on a copy of a slice from a DataFrame.\n",
      "Try using .loc[row_indexer,col_indexer] = value instead\n",
      "\n",
      "See the caveats in the documentation: http://pandas.pydata.org/pandas-docs/stable/indexing.html#indexing-view-versus-copy\n",
      "/Users/chenyizhou/anaconda3/lib/python3.7/site-packages/ipykernel_launcher.py:19: SettingWithCopyWarning: \n",
      "A value is trying to be set on a copy of a slice from a DataFrame.\n",
      "Try using .loc[row_indexer,col_indexer] = value instead\n",
      "\n",
      "See the caveats in the documentation: http://pandas.pydata.org/pandas-docs/stable/indexing.html#indexing-view-versus-copy\n"
     ]
    }
   ],
   "source": [
    "data = extract_features(data)\n",
    "data = extract_description(data)"
   ]
  },
  {
   "cell_type": "code",
   "execution_count": 22,
   "metadata": {},
   "outputs": [],
   "source": [
    "X_attr = data.drop(columns={'interest_level', 'features', 'description'})"
   ]
  },
  {
   "cell_type": "code",
   "execution_count": 23,
   "metadata": {
    "scrolled": true
   },
   "outputs": [
    {
     "name": "stderr",
     "output_type": "stream",
     "text": [
      "/Users/chenyizhou/anaconda3/lib/python3.7/site-packages/ipykernel_launcher.py:19: SettingWithCopyWarning: \n",
      "A value is trying to be set on a copy of a slice from a DataFrame.\n",
      "Try using .loc[row_indexer,col_indexer] = value instead\n",
      "\n",
      "See the caveats in the documentation: http://pandas.pydata.org/pandas-docs/stable/indexing.html#indexing-view-versus-copy\n",
      "/Users/chenyizhou/anaconda3/lib/python3.7/site-packages/ipykernel_launcher.py:23: SettingWithCopyWarning: \n",
      "A value is trying to be set on a copy of a slice from a DataFrame.\n",
      "Try using .loc[row_indexer,col_indexer] = value instead\n",
      "\n",
      "See the caveats in the documentation: http://pandas.pydata.org/pandas-docs/stable/indexing.html#indexing-view-versus-copy\n"
     ]
    }
   ],
   "source": [
    "test_data = extract_description(test_data)\n",
    "teat_data = extract_features(test_data)"
   ]
  },
  {
   "cell_type": "code",
   "execution_count": 24,
   "metadata": {},
   "outputs": [],
   "source": [
    "test_attr = test_data.drop(columns={'features', 'description'})"
   ]
  },
  {
   "cell_type": "code",
   "execution_count": 25,
   "metadata": {},
   "outputs": [],
   "source": [
    "scaler = StandardScaler().fit(X_attr)"
   ]
  },
  {
   "cell_type": "code",
   "execution_count": 26,
   "metadata": {},
   "outputs": [],
   "source": [
    "X_sc = scaler.transform(X_attr)\n",
    "test_attr_sc = scaler.transform(test_attr)"
   ]
  },
  {
   "cell_type": "code",
   "execution_count": 68,
   "metadata": {},
   "outputs": [
    {
     "name": "stderr",
     "output_type": "stream",
     "text": [
      "/Users/chenyizhou/anaconda3/lib/python3.7/site-packages/sklearn/linear_model/sag.py:337: ConvergenceWarning: The max_iter was reached which means the coef_ did not converge\n",
      "  \"the coef_ did not converge\", ConvergenceWarning)\n",
      "/Users/chenyizhou/anaconda3/lib/python3.7/site-packages/sklearn/linear_model/sag.py:337: ConvergenceWarning: The max_iter was reached which means the coef_ did not converge\n",
      "  \"the coef_ did not converge\", ConvergenceWarning)\n",
      "/Users/chenyizhou/anaconda3/lib/python3.7/site-packages/sklearn/linear_model/sag.py:337: ConvergenceWarning: The max_iter was reached which means the coef_ did not converge\n",
      "  \"the coef_ did not converge\", ConvergenceWarning)\n",
      "/Users/chenyizhou/anaconda3/lib/python3.7/site-packages/sklearn/linear_model/sag.py:337: ConvergenceWarning: The max_iter was reached which means the coef_ did not converge\n",
      "  \"the coef_ did not converge\", ConvergenceWarning)\n"
     ]
    },
    {
     "name": "stdout",
     "output_type": "stream",
     "text": [
      "0.6954388284348623 0.6953727244991356\n"
     ]
    },
    {
     "data": {
      "text/plain": [
       "[0.6961252923827926,\n",
       " 0.7014136072409234,\n",
       " 0.6915488660632564,\n",
       " 0.6910403742499746,\n",
       " 0.6967354825587309]"
      ]
     },
     "execution_count": 68,
     "metadata": {},
     "output_type": "execute_result"
    }
   ],
   "source": [
    "LRscores_train = []\n",
    "LRscores_valid = []\n",
    "kf = KFold(n_splits=5)\n",
    "for train_index, valid_index in kf.split(X_sc,y):\n",
    "    X_train = X_sc[train_index]\n",
    "    X_valid = X_sc[valid_index]\n",
    "    y_train = y.iloc[train_index]\n",
    "    y_valid = y.iloc[valid_index]\n",
    "    lr1 = LogisticRegression(penalty='l2', C=0.4, solver='sag', multi_class='multinomial', max_iter=500)\n",
    "    lr1.fit(X_train, y_train)\n",
    "    LRscores_train.append(lr1.score(X_train, y_train))\n",
    "    LRscores_valid.append(lr1.score(X_valid, y_valid))\n",
    "print(np.mean(LRscores_train), np.mean(LRscores_valid))\n",
    "LRscores_valid"
   ]
  },
  {
   "cell_type": "code",
   "execution_count": 29,
   "metadata": {},
   "outputs": [],
   "source": [
    "pr1_train = lr1.predict_proba(X_sc)\n",
    "pr1 = lr1.predict_proba(test_attr_sc)"
   ]
  },
  {
   "cell_type": "markdown",
   "metadata": {},
   "source": [
    "## feature text "
   ]
  },
  {
   "cell_type": "code",
   "execution_count": 30,
   "metadata": {},
   "outputs": [],
   "source": [
    "feat_corpus = list(train['clean_feat']) + list(test['clean_feat'])\n",
    "text_vector = TfidfVectorizer(min_df=2, max_features=190, strip_accents='unicode', lowercase=True, token_pattern=r'\\w{3,}', stop_words='english')  \n",
    "text_vector.fit(feat_corpus)\n",
    "X_text = text_vector.transform(train['clean_feat'])\n",
    "test_text = text_vector.transform(test['clean_feat'])"
   ]
  },
  {
   "cell_type": "code",
   "execution_count": 31,
   "metadata": {},
   "outputs": [
    {
     "name": "stdout",
     "output_type": "stream",
     "text": [
      "0.696903284857114 0.6958201972948236\n"
     ]
    },
    {
     "data": {
      "text/plain": [
       "[0.6965320858334181,\n",
       " 0.7040577646699888,\n",
       " 0.6860571544798129,\n",
       " 0.6950066103935727,\n",
       " 0.6974473710973254]"
      ]
     },
     "execution_count": 31,
     "metadata": {},
     "output_type": "execute_result"
    }
   ],
   "source": [
    "LRscores_train = []\n",
    "LRscores_valid = []\n",
    "kf = KFold(n_splits=5)\n",
    "for train_index, valid_index in kf.split(X_text,y):\n",
    "    X_train = X_text[train_index]\n",
    "    X_valid = X_text[valid_index]\n",
    "    y_train = y.iloc[train_index]\n",
    "    y_valid = y.iloc[valid_index]\n",
    "    lr2 = LogisticRegression(penalty='l2', C=10.0, tol=0.0001, solver='sag', multi_class='multinomial', max_iter=500)\n",
    "    lr2.fit(X_train, y_train)\n",
    "    LRscores_train.append(lr2.score(X_train, y_train))\n",
    "    LRscores_valid.append(lr2.score(X_valid, y_valid))\n",
    "print(np.mean(LRscores_train), np.mean(LRscores_valid))\n",
    "LRscores_valid"
   ]
  },
  {
   "cell_type": "code",
   "execution_count": 32,
   "metadata": {},
   "outputs": [],
   "source": [
    "pr2_train = lr2.predict_proba(X_text)\n",
    "pr2 = lr2.predict_proba(test_text)"
   ]
  },
  {
   "cell_type": "markdown",
   "metadata": {},
   "source": [
    "## doc2vec "
   ]
  },
  {
   "cell_type": "code",
   "execution_count": 33,
   "metadata": {},
   "outputs": [],
   "source": [
    "def clean_text(text):\n",
    "    # acronym\n",
    "    text = re.sub(r\"br\\s\", \"bedroom\", text)\n",
    "    text = re.sub(r\"n\\'t\", \" not\", text)\n",
    "    text = re.sub(r\"cannot\", \"can not \", text)\n",
    "    text = re.sub(r\"\\'m\", \" am\", text)\n",
    "    text = re.sub(r\"\\'s\", \" is\", text)\n",
    "    text = re.sub(r\"\\'ve \", \" have \", text)\n",
    "    text = re.sub(r\"n\\'t\", \" not \", text)\n",
    "    text = re.sub(r\"\\'re\", \" are \", text)\n",
    "    text = re.sub(r\"\\'d\", \" would \", text)\n",
    "    text = re.sub(r\"\\'ll\", \" will \", text)\n",
    "    # symbol\n",
    "    text = re.sub(r\"&\", \" and \", text)\n",
    "    text = re.sub(r\"\\|\", \" or \", text)\n",
    "    text = re.sub(r\"=\", \" equal \", text)\n",
    "    text = re.sub(r\"\\+\", \" plus \", text)\n",
    "    text = re.sub(r\"\\$\", \" dollar \", text)\n",
    "    # others\n",
    "    text = re.sub(r\"[^a-zA-Z]\", \" \",text)\n",
    "    # extra \\s\n",
    "    text = \" \".join(text.split())\n",
    "\n",
    "    return text"
   ]
  },
  {
   "cell_type": "code",
   "execution_count": 34,
   "metadata": {},
   "outputs": [],
   "source": [
    "train_doc = train[['description']]\n",
    "test_doc = test[['description']]\n",
    "data_doc = pd.concat([train_doc, test_doc], axis=0)"
   ]
  },
  {
   "cell_type": "code",
   "execution_count": 35,
   "metadata": {},
   "outputs": [],
   "source": [
    "data_doc['description_words'] = data_doc['description'].apply(clean_text)"
   ]
  },
  {
   "cell_type": "code",
   "execution_count": 36,
   "metadata": {},
   "outputs": [],
   "source": [
    "TaggededDocument = gensim.models.doc2vec.TaggedDocument"
   ]
  },
  {
   "cell_type": "code",
   "execution_count": 37,
   "metadata": {},
   "outputs": [],
   "source": [
    "def addTag(descr):\n",
    "    train=[]\n",
    "    for i, doc in enumerate(descr):\n",
    "        word_list = doc.split(' ')\n",
    "        document = TaggededDocument(word_list, tags=[i])\n",
    "        train.append(document)\n",
    "    return train"
   ]
  },
  {
   "cell_type": "code",
   "execution_count": 38,
   "metadata": {},
   "outputs": [],
   "source": [
    "taggedDoc = addTag(list(data_doc['description_words']))"
   ]
  },
  {
   "cell_type": "code",
   "execution_count": 39,
   "metadata": {},
   "outputs": [],
   "source": [
    "doc2vec = Doc2Vec(taggedDoc, vector_size=120, min_count = 10, window = 5, sample = 1e-5, workers=4)\n",
    "doc2vec.train(taggedDoc, total_examples=doc2vec.corpus_count, epochs=10)"
   ]
  },
  {
   "cell_type": "code",
   "execution_count": 40,
   "metadata": {},
   "outputs": [],
   "source": [
    "train_indList = list(range(0,train_len))\n",
    "test_indList = list(range(train_len, train_len + test_len))\n",
    "X_doc = doc2vec[train_indList]\n",
    "test_doc = doc2vec[test_indList]"
   ]
  },
  {
   "cell_type": "code",
   "execution_count": 42,
   "metadata": {},
   "outputs": [
    {
     "name": "stdout",
     "output_type": "stream",
     "text": [
      "0.6930743415031018 0.6926065290348825\n"
     ]
    },
    {
     "data": {
      "text/plain": [
       "[0.6919556595138818,\n",
       " 0.7009051154276417,\n",
       " 0.6850401708532493,\n",
       " 0.6911420726126309,\n",
       " 0.693989626767009]"
      ]
     },
     "execution_count": 42,
     "metadata": {},
     "output_type": "execute_result"
    }
   ],
   "source": [
    "LRscores_train = []\n",
    "LRscores_valid = []\n",
    "kf = KFold(n_splits=5)\n",
    "for train_index, valid_index in kf.split(X_text,y):\n",
    "    X_train = X_doc[train_index]\n",
    "    X_valid = X_doc[valid_index]\n",
    "    y_train = y.iloc[train_index]\n",
    "    y_valid = y.iloc[valid_index]\n",
    "    lr3 = LogisticRegression(penalty='l2', C=0.4, solver='sag', multi_class='multinomial', max_iter=500)\n",
    "    lr3.fit(X_train, y_train)\n",
    "    LRscores_train.append(lr3.score(X_train, y_train))\n",
    "    LRscores_valid.append(lr3.score(X_valid, y_valid))\n",
    "print(np.mean(LRscores_train), np.mean(LRscores_valid))\n",
    "LRscores_valid"
   ]
  },
  {
   "cell_type": "code",
   "execution_count": 43,
   "metadata": {},
   "outputs": [],
   "source": [
    "pr3_train = lr3.predict_proba(X_doc)\n",
    "pr3 = lr3.predict_proba(test_doc)"
   ]
  },
  {
   "cell_type": "markdown",
   "metadata": {},
   "source": [
    "## vote / ensemble "
   ]
  },
  {
   "cell_type": "code",
   "execution_count": 44,
   "metadata": {},
   "outputs": [],
   "source": [
    "temp = 0.4*pr1 + 0.4*pr2 + 0.2*pr3"
   ]
  },
  {
   "cell_type": "code",
   "execution_count": 45,
   "metadata": {},
   "outputs": [],
   "source": [
    "train_probs = pd.DataFrame({'pr1_h': pd.Series(pr1_train[:,0]), 'pr1_l': pd.Series(pr1_train[:,1]), 'pr1_m': pd.Series(pr1_train[:,2]),\n",
    "                                         'pr2_h': pd.Series(pr2_train[:,0]), 'pr2_l': pd.Series(pr2_train[:,1]), 'pr2_m': pd.Series(pr2_train[:,2]),\n",
    "                                         'pr3_h': pd.Series(pr3_train[:,0]), 'pr3_l': pd.Series(pr3_train[:,1]), 'pr3_m': pd.Series(pr3_train[:,2])})"
   ]
  },
  {
   "cell_type": "code",
   "execution_count": 46,
   "metadata": {},
   "outputs": [],
   "source": [
    "ens_X = train_probs"
   ]
  },
  {
   "cell_type": "code",
   "execution_count": 48,
   "metadata": {},
   "outputs": [
    {
     "name": "stdout",
     "output_type": "stream",
     "text": [
      "0.7010474931353606 0.7013119088782671\n"
     ]
    },
    {
     "data": {
      "text/plain": [
       "[0.6987694498118581,\n",
       " 0.7085324926268687,\n",
       " 0.6986677514492017,\n",
       " 0.7001932268890471,\n",
       " 0.7003966236143598]"
      ]
     },
     "execution_count": 48,
     "metadata": {},
     "output_type": "execute_result"
    }
   ],
   "source": [
    "LRscores_train = []\n",
    "LRscores_valid = []\n",
    "kf = KFold(n_splits=5)\n",
    "for train_index, valid_index in kf.split(ens_X,y):\n",
    "    X_train = ens_X.iloc[train_index]\n",
    "    X_valid = ens_X.iloc[valid_index]\n",
    "    y_train = y.iloc[train_index]\n",
    "    y_valid = y.iloc[valid_index]\n",
    "    lr = LogisticRegression(penalty='l2', C=10.0, solver='sag', multi_class='multinomial', max_iter=500)\n",
    "    lr.fit(X_train, y_train)\n",
    "    LRscores_train.append(lr.score(X_train, y_train))\n",
    "    LRscores_valid.append(lr.score(X_valid, y_valid))\n",
    "print(np.mean(LRscores_train), np.mean(LRscores_valid))\n",
    "LRscores_valid"
   ]
  },
  {
   "cell_type": "code",
   "execution_count": 49,
   "metadata": {},
   "outputs": [],
   "source": [
    "test_probs = pd.DataFrame({'pr1_h': pd.Series(pr1[:,0]), 'pr1_l': pd.Series(pr1[:,1]), 'pr1_m': pd.Series(pr1[:,2]),\n",
    "                                        'pr2_h': pd.Series(pr2[:,0]), 'pr2_l': pd.Series(pr2[:,1]), 'pr2_m': pd.Series(pr2[:,2]),\n",
    "                                        'pr3_h': pd.Series(pr3[:,0]), 'pr3_l': pd.Series(pr3[:,1]), 'pr3_m': pd.Series(pr3[:,2])})"
   ]
  },
  {
   "cell_type": "code",
   "execution_count": 50,
   "metadata": {},
   "outputs": [],
   "source": [
    "ens_pro = lr.predict_proba(test_probs)"
   ]
  },
  {
   "cell_type": "markdown",
   "metadata": {},
   "source": [
    "## all together "
   ]
  },
  {
   "cell_type": "code",
   "execution_count": 51,
   "metadata": {},
   "outputs": [],
   "source": [
    "new_train = pd.read_json('data/new_modified_train.json').reset_index().drop(columns={'index'})"
   ]
  },
  {
   "cell_type": "code",
   "execution_count": 52,
   "metadata": {},
   "outputs": [],
   "source": [
    "new_test = pd.read_json('data/new_modified_test.json').reset_index().drop(columns={'index'})"
   ]
  },
  {
   "cell_type": "code",
   "execution_count": 53,
   "metadata": {},
   "outputs": [],
   "source": [
    "new_train_ = new_train.drop(columns = {'distance_subway', 'diff_rooms', 'created','rec_id','features','clean_feat', 'description','display_address','manager_id','features','photos','street_address','building_id'})"
   ]
  },
  {
   "cell_type": "code",
   "execution_count": 54,
   "metadata": {},
   "outputs": [],
   "source": [
    "new_test_ = new_test.drop(columns = {'distance_subway', 'created','rec_id','features','clean_feat', 'description','display_address','manager_id','features','photos','street_address','building_id'})"
   ]
  },
  {
   "cell_type": "code",
   "execution_count": 55,
   "metadata": {},
   "outputs": [],
   "source": [
    "new_X = new_train_.drop(columns={'interest_level'})\n",
    "new_y = new_train_['interest_level']"
   ]
  },
  {
   "cell_type": "code",
   "execution_count": 56,
   "metadata": {},
   "outputs": [],
   "source": [
    "new_scaler = StandardScaler().fit(new_X)\n",
    "new_X_sc = new_scaler.transform(new_X)\n",
    "new_test_sc = new_scaler.transform(new_test_)"
   ]
  },
  {
   "cell_type": "code",
   "execution_count": 57,
   "metadata": {},
   "outputs": [],
   "source": [
    "def cm_plot(y_valid,y_pred):\n",
    "    cm = confusion_matrix(y_valid, y_pred, labels = ['high','low','medium'])\n",
    "    cm = pd.DataFrame(cm,columns=['high','low','medium'],index = ['high','low','medium'])\n",
    "    plt.title('Confusion Matrix',fontsize=18)\n",
    "    ax = sns.heatmap(cm,annot=True,cmap='Reds', fmt='.20g', linewidths = 0)\n",
    "    bottom, top = ax.get_ylim()\n",
    "    ax.set_ylim(bottom + 0.5, top - 0.5)\n",
    "    plt.xlabel('Predicted Label',fontsize=12)\n",
    "    plt.ylabel('True Label',fontsize=12)\n",
    "    plt.savefig('cm.png',dpi=800)"
   ]
  },
  {
   "cell_type": "code",
   "execution_count": 58,
   "metadata": {},
   "outputs": [
    {
     "name": "stdout",
     "output_type": "stream",
     "text": [
      "scores on train and valid:  0.6996999898301637 0.6971626156818875\n",
      "recalls: [0.37388529416128796, 0.37766206149281834, 0.3777930804134632, 0.3792332824751002, 0.3879148527705742]\n",
      "precisions: [0.5132043122875246, 0.5483742726069089, 0.5379756188650556, 0.5212794960818277, 0.4915801076961464]\n"
     ]
    },
    {
     "data": {
      "text/plain": [
       "[0.6959218956574799,\n",
       " 0.7102613647920268,\n",
       " 0.6911420726126309,\n",
       " 0.6927692464151327,\n",
       " 0.6957184989321672]"
      ]
     },
     "execution_count": 58,
     "metadata": {},
     "output_type": "execute_result"
    },
    {
     "data": {
      "image/png": "[encoded data removed]",
      "text/plain": [
       "<Figure size 432x288 with 2 Axes>"
      ]
     },
     "metadata": {
      "needs_background": "light"
     },
     "output_type": "display_data"
    }
   ],
   "source": [
    "LRscores_train = []\n",
    "LRscores_valid = []\n",
    "precision = []\n",
    "recall = []\n",
    "kf = KFold(n_splits=5)\n",
    "for train_index, valid_index in kf.split(new_X_sc, new_y):\n",
    "    X_train = new_X_sc[train_index]\n",
    "    X_valid = new_X_sc[valid_index]\n",
    "    y_train = new_y.iloc[train_index]\n",
    "    y_valid = new_y.iloc[valid_index]\n",
    "    new_lr = LogisticRegression(penalty='l2', C=10.0, solver='sag', multi_class='multinomial', max_iter=500)\n",
    "    new_lr.fit(X_train, y_train)\n",
    "    LRscores_train.append(new_lr.score(X_train, y_train))\n",
    "    LRscores_valid.append(new_lr.score(X_valid, y_valid))\n",
    "    y_pred = new_lr.predict(X_valid)\n",
    "    precision.append(precision_score(y_valid, y_pred, average='macro'))\n",
    "    recall.append(recall_score(y_valid, y_pred, average='macro'))\n",
    "cm_plot(y_valid, y_pred)\n",
    "print(\"scores on train and valid: \", np.mean(LRscores_train), np.mean(LRscores_valid))\n",
    "print(\"recalls:\", recall)\n",
    "print(\"precisions:\", precision)\n",
    "LRscores_valid"
   ]
  },
  {
   "cell_type": "code",
   "execution_count": 59,
   "metadata": {},
   "outputs": [],
   "source": [
    "new_pro = new_lr.predict_proba(new_test_sc)"
   ]
  },
  {
   "cell_type": "markdown",
   "metadata": {},
   "source": [
    "## bonus - distance to a subway station "
   ]
  },
  {
   "cell_type": "code",
   "execution_count": 60,
   "metadata": {},
   "outputs": [],
   "source": [
    "bonus_train = new_train.drop(columns = {'diff_rooms', 'created','rec_id','features','clean_feat', 'description','display_address','manager_id','features','photos','street_address','building_id'})"
   ]
  },
  {
   "cell_type": "code",
   "execution_count": 61,
   "metadata": {},
   "outputs": [],
   "source": [
    "bonus_test = new_test.drop(columns = {'created','rec_id','features','clean_feat', 'description','display_address','manager_id','features','photos','street_address','building_id'})"
   ]
  },
  {
   "cell_type": "code",
   "execution_count": 62,
   "metadata": {},
   "outputs": [],
   "source": [
    "bonus_X = bonus_train.drop(columns={'interest_level'})\n",
    "bonus_y = bonus_train['interest_level']"
   ]
  },
  {
   "cell_type": "code",
   "execution_count": 63,
   "metadata": {},
   "outputs": [],
   "source": [
    "bonus_scaler = StandardScaler().fit(bonus_X)\n",
    "bonus_X_sc = bonus_scaler.transform(bonus_X)\n",
    "bonus_test_sc = bonus_scaler.transform(bonus_test)"
   ]
  },
  {
   "cell_type": "code",
   "execution_count": 64,
   "metadata": {},
   "outputs": [
    {
     "name": "stdout",
     "output_type": "stream",
     "text": [
      "scores on train and valid:  0.6999949150818672 0.6971015966642937\n"
     ]
    },
    {
     "data": {
      "text/plain": [
       "[0.6947015153056035,\n",
       " 0.7105664598799959,\n",
       " 0.6915488660632564,\n",
       " 0.6933794365910709,\n",
       " 0.6953117054815418]"
      ]
     },
     "execution_count": 64,
     "metadata": {},
     "output_type": "execute_result"
    }
   ],
   "source": [
    "LRscores_train = []\n",
    "LRscores_valid = []\n",
    "precision = []\n",
    "recall = []\n",
    "kf = KFold(n_splits=5)\n",
    "for train_index, valid_index in kf.split(bonus_X_sc, bonus_y):\n",
    "    X_train = bonus_X_sc[train_index]\n",
    "    X_valid = bonus_X_sc[valid_index]\n",
    "    y_train = bonus_y.iloc[train_index]\n",
    "    y_valid = bonus_y.iloc[valid_index]\n",
    "    bonus_lr = LogisticRegression(penalty='l2', C=10.0, solver='sag', multi_class='multinomial', max_iter=500)\n",
    "    bonus_lr.fit(X_train, y_train)\n",
    "    LRscores_train.append(bonus_lr.score(X_train, y_train))\n",
    "    LRscores_valid.append(bonus_lr.score(X_valid, y_valid))\n",
    "print(\"scores on train and valid: \", np.mean(LRscores_train), np.mean(LRscores_valid))\n",
    "LRscores_valid"
   ]
  },
  {
   "cell_type": "code",
   "execution_count": 65,
   "metadata": {},
   "outputs": [],
   "source": [
    "bonus_pro = bonus_lr.predict_proba(bonus_test_sc)"
   ]
  },
  {
   "cell_type": "code",
   "execution_count": 66,
   "metadata": {},
   "outputs": [],
   "source": [
    "def to_result_format(X,y):\n",
    "    res = pd.DataFrame(y,columns=['high', 'low', 'medium'])\n",
    "    temp = res['low']\n",
    "    res = res.drop(columns = {'low'})\n",
    "    res.insert(2,'low',temp)\n",
    "    res.insert\n",
    "    res.insert(0,'listing_id',X['listing_id'])\n",
    "    return res"
   ]
  },
  {
   "cell_type": "code",
   "execution_count": 67,
   "metadata": {},
   "outputs": [],
   "source": [
    "res =  to_result_format(test, bonus_pro)\n",
    "res.to_csv('submission.csv',index =None)"
   ]
  },
  {
   "cell_type": "code",
   "execution_count": null,
   "metadata": {},
   "outputs": [],
   "source": []
  }
 ],
 "metadata": {
  "kernelspec": {
   "display_name": "Python 3",
   "language": "python",
   "name": "python3"
  },
  "language_info": {
   "codemirror_mode": {
    "name": "ipython",
    "version": 3
   },
   "file_extension": ".py",
   "mimetype": "text/x-python",
   "name": "python",
   "nbconvert_exporter": "python",
   "pygments_lexer": "ipython3",
   "version": "3.7.3"
  }
 },
 "nbformat": 4,
 "nbformat_minor": 2
}
