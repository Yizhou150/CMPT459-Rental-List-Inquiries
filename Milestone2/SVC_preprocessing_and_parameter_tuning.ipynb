{
 "cells": [
  {
   "cell_type": "markdown",
   "metadata": {},
   "source": [
    "# Preprocessing, Feature Selection and Data Reduction"
   ]
  },
  {
   "cell_type": "markdown",
   "metadata": {},
   "source": [
    "### 0. Data preparation and feature selection"
   ]
  },
  {
   "cell_type": "code",
   "execution_count": 1,
   "metadata": {},
   "outputs": [],
   "source": [
    "import pandas as pd\n",
    "import numpy as np\n",
    "from sklearn.model_selection import KFold\n",
    "from sklearn.preprocessing import MinMaxScaler\n",
    "from sklearn.svm import SVR,SVC\n",
    "from sklearn.model_selection import KFold\n",
    "from sklearn.preprocessing import MinMaxScaler\n",
    "from sklearn.svm import SVR,SVC\n",
    "from sklearn.decomposition import PCA\n",
    "from sklearn.cross_decomposition import CCA\n",
    "from sklearn.model_selection import cross_val_score\n",
    "import statsmodels.api as sm\n",
    "from sklearn.feature_extraction.text import  TfidfVectorizer, CountVectorizer\n",
    "\n",
    "import re"
   ]
  },
  {
   "cell_type": "code",
   "execution_count": 2,
   "metadata": {},
   "outputs": [],
   "source": [
    "def word_to_phrase(flist):\n",
    "    plist = []\n",
    "    if len(flist) > 0:\n",
    "        for feature in flist:\n",
    "            feature = re.sub('[_]',' ',feature)\n",
    "            feature = feature.strip()\n",
    "            feature_p = ''.join(feature.split(' '))\n",
    "            plist.append(feature_p)\n",
    "    return plist\n",
    "\n",
    "def list_to_string(flist):\n",
    "    string = ' '.join(flist)\n",
    "    return string"
   ]
  },
  {
   "cell_type": "code",
   "execution_count": 3,
   "metadata": {},
   "outputs": [],
   "source": [
    "ori_train = pd.read_json('train.json.zip', orient='columns', convert_dates=['created'], compression='zip')\n",
    "ori_train = ori_train.reset_index()\n",
    "ori_train.rename(columns={'index':'rec_id'}, inplace=True) \n",
    "train = ori_train\n",
    "test =  pd.read_json('test.json.zip', orient='columns', convert_dates=['created'], compression='zip')\n",
    "test = test.reset_index()\n",
    "test.rename(columns={'index':'rec_id'}, inplace=True)\n",
    "\n",
    "# remove outliers with ridiculously high prices\n",
    "train = train[train['price']<=20000]\n",
    "# remove outliers which the houses locate far away from most of the houses and missing values\n",
    "train = train[(train['latitude'] <= 41.5) & (train['latitude'] >= 40) & (train['longitude'] >= -80) & (train['longitude'] <= -70)]\n",
    "# remove outliers which have bathrooms more than bedrooms\n",
    "train['diff_rooms'] = train['bedrooms'] - train['bathrooms']\n",
    "train = train[train['diff_rooms']>=-1.5]\n",
    "\n",
    "train_text = train[['description', 'features']]\n",
    "test_text = test[['description', 'features']]\n",
    "data_text = pd.concat([train_text, test_text], axis=0)\n",
    "\n",
    "# tfidf\n",
    "desc_tfidf = TfidfVectorizer(min_df=20, max_features=30, strip_accents='unicode',lowercase =True,\n",
    "                        analyzer='word', token_pattern=r'\\w{5,}', ngram_range=(1, 3),  sublinear_tf=True, stop_words = 'english')  \n",
    "desc_tfidf_fit =desc_tfidf.fit_transform(data_text['description'])\n",
    "desc_name = [x for x in desc_tfidf.get_feature_names()]\n",
    "# standardize \"feature\"\n",
    "data_text['features_phr'] = data_text['features'].apply(word_to_phrase)\n",
    "data_text['features_phr_str'] = data_text['features_phr'].apply(list_to_string)\n",
    "# tfidf 'feature'\n",
    "phr_tfidf = TfidfVectorizer(min_df=2, max_features=30, strip_accents='unicode', lowercase=True, token_pattern=r'\\w{3,}', stop_words='english')  \n",
    "phr_tfidf_fit =phr_tfidf.fit_transform(data_text['features_phr_str'])\n",
    "phr_names = [x for x in phr_tfidf.get_feature_names()]\n",
    "data_text['features_phr_vec'] = pd.Series(phr_tfidf_fit.toarray().tolist())"
   ]
  },
  {
   "cell_type": "code",
   "execution_count": 4,
   "metadata": {},
   "outputs": [],
   "source": [
    "data_text['features_phr_vec'] = pd.Series(phr_tfidf_fit.toarray().tolist())"
   ]
  },
  {
   "cell_type": "code",
   "execution_count": 5,
   "metadata": {},
   "outputs": [],
   "source": [
    "phr_list = phr_tfidf_fit.toarray().tolist()\n",
    "p_array=np.asarray(phr_list).reshape(123824, 30)\n",
    "phr = pd.DataFrame(p_array, columns=[\"p_%d\" % i for i in range(0, 30)])\n",
    "\n",
    "desc_list = desc_tfidf_fit.toarray().tolist()\n",
    "d_array=np.asarray(desc_list).reshape(123824, 30)\n",
    "desc = pd.DataFrame(d_array, columns=[\"d_%d\" % i for i in range(0, 30)])"
   ]
  },
  {
   "cell_type": "code",
   "execution_count": 6,
   "metadata": {
    "scrolled": true
   },
   "outputs": [
    {
     "data": {
      "text/html": [
       "<div>\n",
       "<style scoped>\n",
       "    .dataframe tbody tr th:only-of-type {\n",
       "        vertical-align: middle;\n",
       "    }\n",
       "\n",
       "    .dataframe tbody tr th {\n",
       "        vertical-align: top;\n",
       "    }\n",
       "\n",
       "    .dataframe thead th {\n",
       "        text-align: right;\n",
       "    }\n",
       "</style>\n",
       "<table border=\"1\" class=\"dataframe\">\n",
       "  <thead>\n",
       "    <tr style=\"text-align: right;\">\n",
       "      <th></th>\n",
       "      <th>p_0</th>\n",
       "      <th>p_1</th>\n",
       "      <th>p_2</th>\n",
       "      <th>p_3</th>\n",
       "      <th>p_4</th>\n",
       "      <th>p_5</th>\n",
       "      <th>p_6</th>\n",
       "      <th>p_7</th>\n",
       "      <th>p_8</th>\n",
       "      <th>p_9</th>\n",
       "      <th>...</th>\n",
       "      <th>d_20</th>\n",
       "      <th>d_21</th>\n",
       "      <th>d_22</th>\n",
       "      <th>d_23</th>\n",
       "      <th>d_24</th>\n",
       "      <th>d_25</th>\n",
       "      <th>d_26</th>\n",
       "      <th>d_27</th>\n",
       "      <th>d_28</th>\n",
       "      <th>d_29</th>\n",
       "    </tr>\n",
       "  </thead>\n",
       "  <tbody>\n",
       "    <tr>\n",
       "      <th>0</th>\n",
       "      <td>0.0</td>\n",
       "      <td>0.269246</td>\n",
       "      <td>0.0</td>\n",
       "      <td>0.505923</td>\n",
       "      <td>0.288970</td>\n",
       "      <td>0.280043</td>\n",
       "      <td>0.000000</td>\n",
       "      <td>0.000000</td>\n",
       "      <td>0.0</td>\n",
       "      <td>0.0</td>\n",
       "      <td>...</td>\n",
       "      <td>0.382638</td>\n",
       "      <td>0.215368</td>\n",
       "      <td>0.227765</td>\n",
       "      <td>0.000000</td>\n",
       "      <td>0.000000</td>\n",
       "      <td>0.000000</td>\n",
       "      <td>0.000000</td>\n",
       "      <td>0.000000</td>\n",
       "      <td>0.154201</td>\n",
       "      <td>0.0</td>\n",
       "    </tr>\n",
       "    <tr>\n",
       "      <th>1</th>\n",
       "      <td>0.0</td>\n",
       "      <td>0.000000</td>\n",
       "      <td>0.0</td>\n",
       "      <td>0.000000</td>\n",
       "      <td>0.411748</td>\n",
       "      <td>0.000000</td>\n",
       "      <td>0.410219</td>\n",
       "      <td>0.360214</td>\n",
       "      <td>0.0</td>\n",
       "      <td>0.0</td>\n",
       "      <td>...</td>\n",
       "      <td>0.574625</td>\n",
       "      <td>0.000000</td>\n",
       "      <td>0.000000</td>\n",
       "      <td>0.000000</td>\n",
       "      <td>0.000000</td>\n",
       "      <td>0.000000</td>\n",
       "      <td>0.000000</td>\n",
       "      <td>0.000000</td>\n",
       "      <td>0.186830</td>\n",
       "      <td>0.0</td>\n",
       "    </tr>\n",
       "    <tr>\n",
       "      <th>2</th>\n",
       "      <td>0.0</td>\n",
       "      <td>0.000000</td>\n",
       "      <td>0.0</td>\n",
       "      <td>0.000000</td>\n",
       "      <td>0.383966</td>\n",
       "      <td>0.000000</td>\n",
       "      <td>0.382540</td>\n",
       "      <td>0.335909</td>\n",
       "      <td>0.0</td>\n",
       "      <td>0.0</td>\n",
       "      <td>...</td>\n",
       "      <td>0.000000</td>\n",
       "      <td>0.000000</td>\n",
       "      <td>0.406729</td>\n",
       "      <td>0.185661</td>\n",
       "      <td>0.192782</td>\n",
       "      <td>0.207022</td>\n",
       "      <td>0.190337</td>\n",
       "      <td>0.205859</td>\n",
       "      <td>0.131213</td>\n",
       "      <td>0.0</td>\n",
       "    </tr>\n",
       "    <tr>\n",
       "      <th>3</th>\n",
       "      <td>0.0</td>\n",
       "      <td>0.000000</td>\n",
       "      <td>0.0</td>\n",
       "      <td>0.000000</td>\n",
       "      <td>0.000000</td>\n",
       "      <td>0.000000</td>\n",
       "      <td>0.000000</td>\n",
       "      <td>0.000000</td>\n",
       "      <td>0.0</td>\n",
       "      <td>0.0</td>\n",
       "      <td>...</td>\n",
       "      <td>0.000000</td>\n",
       "      <td>0.000000</td>\n",
       "      <td>0.000000</td>\n",
       "      <td>0.000000</td>\n",
       "      <td>0.000000</td>\n",
       "      <td>0.000000</td>\n",
       "      <td>0.292774</td>\n",
       "      <td>0.316650</td>\n",
       "      <td>0.201830</td>\n",
       "      <td>0.0</td>\n",
       "    </tr>\n",
       "    <tr>\n",
       "      <th>4</th>\n",
       "      <td>0.0</td>\n",
       "      <td>0.000000</td>\n",
       "      <td>0.0</td>\n",
       "      <td>0.000000</td>\n",
       "      <td>0.000000</td>\n",
       "      <td>0.000000</td>\n",
       "      <td>0.474337</td>\n",
       "      <td>0.416516</td>\n",
       "      <td>0.0</td>\n",
       "      <td>0.0</td>\n",
       "      <td>...</td>\n",
       "      <td>0.000000</td>\n",
       "      <td>0.533560</td>\n",
       "      <td>0.000000</td>\n",
       "      <td>0.000000</td>\n",
       "      <td>0.000000</td>\n",
       "      <td>0.000000</td>\n",
       "      <td>0.000000</td>\n",
       "      <td>0.000000</td>\n",
       "      <td>0.382024</td>\n",
       "      <td>0.0</td>\n",
       "    </tr>\n",
       "    <tr>\n",
       "      <th>...</th>\n",
       "      <td>...</td>\n",
       "      <td>...</td>\n",
       "      <td>...</td>\n",
       "      <td>...</td>\n",
       "      <td>...</td>\n",
       "      <td>...</td>\n",
       "      <td>...</td>\n",
       "      <td>...</td>\n",
       "      <td>...</td>\n",
       "      <td>...</td>\n",
       "      <td>...</td>\n",
       "      <td>...</td>\n",
       "      <td>...</td>\n",
       "      <td>...</td>\n",
       "      <td>...</td>\n",
       "      <td>...</td>\n",
       "      <td>...</td>\n",
       "      <td>...</td>\n",
       "      <td>...</td>\n",
       "      <td>...</td>\n",
       "      <td>...</td>\n",
       "    </tr>\n",
       "    <tr>\n",
       "      <th>123819</th>\n",
       "      <td>0.0</td>\n",
       "      <td>0.000000</td>\n",
       "      <td>0.0</td>\n",
       "      <td>0.000000</td>\n",
       "      <td>0.000000</td>\n",
       "      <td>0.000000</td>\n",
       "      <td>0.000000</td>\n",
       "      <td>0.000000</td>\n",
       "      <td>0.0</td>\n",
       "      <td>0.0</td>\n",
       "      <td>...</td>\n",
       "      <td>0.000000</td>\n",
       "      <td>0.000000</td>\n",
       "      <td>0.000000</td>\n",
       "      <td>0.000000</td>\n",
       "      <td>0.000000</td>\n",
       "      <td>0.000000</td>\n",
       "      <td>0.000000</td>\n",
       "      <td>0.000000</td>\n",
       "      <td>0.000000</td>\n",
       "      <td>0.0</td>\n",
       "    </tr>\n",
       "    <tr>\n",
       "      <th>123820</th>\n",
       "      <td>0.0</td>\n",
       "      <td>0.335651</td>\n",
       "      <td>0.0</td>\n",
       "      <td>0.000000</td>\n",
       "      <td>0.360240</td>\n",
       "      <td>0.349111</td>\n",
       "      <td>0.358902</td>\n",
       "      <td>0.315153</td>\n",
       "      <td>0.0</td>\n",
       "      <td>0.0</td>\n",
       "      <td>...</td>\n",
       "      <td>0.000000</td>\n",
       "      <td>0.249961</td>\n",
       "      <td>0.264349</td>\n",
       "      <td>0.000000</td>\n",
       "      <td>0.000000</td>\n",
       "      <td>0.000000</td>\n",
       "      <td>0.000000</td>\n",
       "      <td>0.000000</td>\n",
       "      <td>0.178970</td>\n",
       "      <td>0.0</td>\n",
       "    </tr>\n",
       "    <tr>\n",
       "      <th>123821</th>\n",
       "      <td>0.0</td>\n",
       "      <td>0.693074</td>\n",
       "      <td>0.0</td>\n",
       "      <td>0.000000</td>\n",
       "      <td>0.000000</td>\n",
       "      <td>0.720867</td>\n",
       "      <td>0.000000</td>\n",
       "      <td>0.000000</td>\n",
       "      <td>0.0</td>\n",
       "      <td>0.0</td>\n",
       "      <td>...</td>\n",
       "      <td>0.408558</td>\n",
       "      <td>0.000000</td>\n",
       "      <td>0.196207</td>\n",
       "      <td>0.187958</td>\n",
       "      <td>0.195168</td>\n",
       "      <td>0.209584</td>\n",
       "      <td>0.192693</td>\n",
       "      <td>0.208406</td>\n",
       "      <td>0.000000</td>\n",
       "      <td>0.0</td>\n",
       "    </tr>\n",
       "    <tr>\n",
       "      <th>123822</th>\n",
       "      <td>0.0</td>\n",
       "      <td>0.493459</td>\n",
       "      <td>0.0</td>\n",
       "      <td>0.000000</td>\n",
       "      <td>0.000000</td>\n",
       "      <td>0.513247</td>\n",
       "      <td>0.527642</td>\n",
       "      <td>0.463324</td>\n",
       "      <td>0.0</td>\n",
       "      <td>0.0</td>\n",
       "      <td>...</td>\n",
       "      <td>0.324935</td>\n",
       "      <td>0.309660</td>\n",
       "      <td>0.000000</td>\n",
       "      <td>0.000000</td>\n",
       "      <td>0.000000</td>\n",
       "      <td>0.000000</td>\n",
       "      <td>0.000000</td>\n",
       "      <td>0.000000</td>\n",
       "      <td>0.000000</td>\n",
       "      <td>0.0</td>\n",
       "    </tr>\n",
       "    <tr>\n",
       "      <th>123823</th>\n",
       "      <td>0.0</td>\n",
       "      <td>0.235107</td>\n",
       "      <td>0.0</td>\n",
       "      <td>0.000000</td>\n",
       "      <td>0.252330</td>\n",
       "      <td>0.244535</td>\n",
       "      <td>0.000000</td>\n",
       "      <td>0.000000</td>\n",
       "      <td>0.0</td>\n",
       "      <td>0.0</td>\n",
       "      <td>...</td>\n",
       "      <td>0.397222</td>\n",
       "      <td>0.000000</td>\n",
       "      <td>0.000000</td>\n",
       "      <td>0.000000</td>\n",
       "      <td>0.000000</td>\n",
       "      <td>0.000000</td>\n",
       "      <td>0.000000</td>\n",
       "      <td>0.000000</td>\n",
       "      <td>0.271037</td>\n",
       "      <td>0.0</td>\n",
       "    </tr>\n",
       "  </tbody>\n",
       "</table>\n",
       "<p>123824 rows × 60 columns</p>\n",
       "</div>"
      ],
      "text/plain": [
       "        p_0       p_1  p_2       p_3       p_4       p_5       p_6       p_7  \\\n",
       "0       0.0  0.269246  0.0  0.505923  0.288970  0.280043  0.000000  0.000000   \n",
       "1       0.0  0.000000  0.0  0.000000  0.411748  0.000000  0.410219  0.360214   \n",
       "2       0.0  0.000000  0.0  0.000000  0.383966  0.000000  0.382540  0.335909   \n",
       "3       0.0  0.000000  0.0  0.000000  0.000000  0.000000  0.000000  0.000000   \n",
       "4       0.0  0.000000  0.0  0.000000  0.000000  0.000000  0.474337  0.416516   \n",
       "...     ...       ...  ...       ...       ...       ...       ...       ...   \n",
       "123819  0.0  0.000000  0.0  0.000000  0.000000  0.000000  0.000000  0.000000   \n",
       "123820  0.0  0.335651  0.0  0.000000  0.360240  0.349111  0.358902  0.315153   \n",
       "123821  0.0  0.693074  0.0  0.000000  0.000000  0.720867  0.000000  0.000000   \n",
       "123822  0.0  0.493459  0.0  0.000000  0.000000  0.513247  0.527642  0.463324   \n",
       "123823  0.0  0.235107  0.0  0.000000  0.252330  0.244535  0.000000  0.000000   \n",
       "\n",
       "        p_8  p_9  ...      d_20      d_21      d_22      d_23      d_24  \\\n",
       "0       0.0  0.0  ...  0.382638  0.215368  0.227765  0.000000  0.000000   \n",
       "1       0.0  0.0  ...  0.574625  0.000000  0.000000  0.000000  0.000000   \n",
       "2       0.0  0.0  ...  0.000000  0.000000  0.406729  0.185661  0.192782   \n",
       "3       0.0  0.0  ...  0.000000  0.000000  0.000000  0.000000  0.000000   \n",
       "4       0.0  0.0  ...  0.000000  0.533560  0.000000  0.000000  0.000000   \n",
       "...     ...  ...  ...       ...       ...       ...       ...       ...   \n",
       "123819  0.0  0.0  ...  0.000000  0.000000  0.000000  0.000000  0.000000   \n",
       "123820  0.0  0.0  ...  0.000000  0.249961  0.264349  0.000000  0.000000   \n",
       "123821  0.0  0.0  ...  0.408558  0.000000  0.196207  0.187958  0.195168   \n",
       "123822  0.0  0.0  ...  0.324935  0.309660  0.000000  0.000000  0.000000   \n",
       "123823  0.0  0.0  ...  0.397222  0.000000  0.000000  0.000000  0.000000   \n",
       "\n",
       "            d_25      d_26      d_27      d_28  d_29  \n",
       "0       0.000000  0.000000  0.000000  0.154201   0.0  \n",
       "1       0.000000  0.000000  0.000000  0.186830   0.0  \n",
       "2       0.207022  0.190337  0.205859  0.131213   0.0  \n",
       "3       0.000000  0.292774  0.316650  0.201830   0.0  \n",
       "4       0.000000  0.000000  0.000000  0.382024   0.0  \n",
       "...          ...       ...       ...       ...   ...  \n",
       "123819  0.000000  0.000000  0.000000  0.000000   0.0  \n",
       "123820  0.000000  0.000000  0.000000  0.178970   0.0  \n",
       "123821  0.209584  0.192693  0.208406  0.000000   0.0  \n",
       "123822  0.000000  0.000000  0.000000  0.000000   0.0  \n",
       "123823  0.000000  0.000000  0.000000  0.271037   0.0  \n",
       "\n",
       "[123824 rows x 60 columns]"
      ]
     },
     "execution_count": 6,
     "metadata": {},
     "output_type": "execute_result"
    }
   ],
   "source": [
    "text = phr.join([desc])\n",
    "text"
   ]
  },
  {
   "cell_type": "code",
   "execution_count": 7,
   "metadata": {},
   "outputs": [],
   "source": [
    "def remove_correlated_features(X):\n",
    "    corr_threshold = 0.9\n",
    "    corr = X.corr()\n",
    "    drop_columns = np.full(corr.shape[0], False, dtype=bool)\n",
    "    for i in range(corr.shape[0]):\n",
    "        for j in range(i + 1, corr.shape[0]):\n",
    "            if corr.iloc[i, j] >= corr_threshold:\n",
    "                drop_columns[j] = True\n",
    "    columns_dropped = X.columns[drop_columns]\n",
    "    X.drop(columns_dropped, axis=1, inplace=True)\n",
    "    return columns_dropped"
   ]
  },
  {
   "cell_type": "code",
   "execution_count": 8,
   "metadata": {},
   "outputs": [],
   "source": [
    "def remove_less_significant_features(X, Y):\n",
    "    sl = 0.05\n",
    "    regression_ols = None\n",
    "    columns_dropped = np.array([])\n",
    "    for itr in range(0, len(X.columns)):\n",
    "        regression_ols = sm.OLS(Y, X).fit()\n",
    "        max_col = regression_ols.pvalues.idxmax()\n",
    "        max_val = regression_ols.pvalues.max()\n",
    "        if max_val > sl:\n",
    "            X.drop(max_col, axis='columns', inplace=True)\n",
    "            columns_dropped = np.append(columns_dropped, [max_col])\n",
    "        else:\n",
    "            break\n",
    "    regression_ols.summary()\n",
    "    return columns_dropped"
   ]
  },
  {
   "cell_type": "code",
   "execution_count": 9,
   "metadata": {},
   "outputs": [],
   "source": [
    "columns_dropped_corr = remove_correlated_features(text)"
   ]
  },
  {
   "cell_type": "code",
   "execution_count": 10,
   "metadata": {
    "scrolled": false
   },
   "outputs": [
    {
     "data": {
      "text/plain": [
       "Index(['p_21', 'p_28', 'd_14', 'd_21', 'd_24', 'd_26', 'd_27'], dtype='object')"
      ]
     },
     "execution_count": 10,
     "metadata": {},
     "output_type": "execute_result"
    }
   ],
   "source": [
    "columns_dropped_corr"
   ]
  },
  {
   "cell_type": "code",
   "execution_count": 11,
   "metadata": {},
   "outputs": [],
   "source": [
    "ori_train=pd.read_json(\"modified_data/modified_train.json\")\n",
    "ori_test = pd.read_json(\"modified_data/modified_test.json\")\n",
    "\n",
    "ori_train = ori_train.drop(columns=['rec_id', 'building_id','description','display_address','manager_id','features','photos','street_address','features_phr_vec','description_vec','text_vec'])\n",
    "ori_train = ori_train.reset_index()\n",
    "train = ori_train.join(text)\n",
    "\n",
    "ori_test = ori_test.drop(columns=['rec_id', 'building_id','description','display_address','manager_id','features','photos','street_address','features_phr_vec','description_vec','text_vec'])\n",
    "ori_test = ori_test.reset_index()\n",
    "test = ori_test.join(text)\n",
    "\n",
    "Listing_id_train = train['listing_id']\n",
    "y_train = train['interest_level']\n",
    "X_train = train.drop(columns=['index','listing_id', 'interest_level', 'diff_rooms'])\n",
    "\n",
    "Listing_id_test = test['listing_id']\n",
    "X_test = test.drop(columns=['index', 'listing_id'])\n",
    "\n",
    "y_train_map = {\"low\":0, \"medium\": 1, \"high\": 2}\n",
    "y_train = y_train.map(y_train_map)"
   ]
  },
  {
   "cell_type": "code",
   "execution_count": 12,
   "metadata": {},
   "outputs": [],
   "source": [
    "X = pd.concat([X_train, X_test])"
   ]
  },
  {
   "cell_type": "code",
   "execution_count": 13,
   "metadata": {},
   "outputs": [],
   "source": [
    "X_train = X[:49165]\n",
    "X_test = X[49165:]"
   ]
  },
  {
   "cell_type": "markdown",
   "metadata": {},
   "source": [
    "#### Here we try to drop some function that same to have little connection with \"interest level\". However, this leads to overfitting"
   ]
  },
  {
   "cell_type": "code",
   "execution_count": 14,
   "metadata": {
    "scrolled": false
   },
   "outputs": [
    {
     "name": "stderr",
     "output_type": "stream",
     "text": [
      "c:\\users\\xixi6\\appdata\\local\\programs\\python\\python38\\lib\\site-packages\\pandas\\core\\frame.py:3987: SettingWithCopyWarning: \n",
      "A value is trying to be set on a copy of a slice from a DataFrame\n",
      "\n",
      "See the caveats in the documentation: https://pandas.pydata.org/pandas-docs/stable/user_guide/indexing.html#returning-a-view-versus-a-copy\n",
      "  return super().drop(\n"
     ]
    },
    {
     "data": {
      "text/plain": [
       "array(['d_8', 'd_6', 'd_2', 'p_18', 'd_10', 'p_0', 'p_1', 'd_1', 'd_7',\n",
       "       'd_28', 'd_11', 'd_12', 'created', 'd_25', 'manager_id_num',\n",
       "       'p_11', 'd_3', 'd_5', 'd_4'], dtype='<U32')"
      ]
     },
     "execution_count": 14,
     "metadata": {},
     "output_type": "execute_result"
    }
   ],
   "source": [
    "columns_dropped_insig = remove_less_significant_features(X_train, y_train)\n",
    "X_sig = X.drop(columns=columns_dropped_insig)\n",
    "columns_dropped_insig"
   ]
  },
  {
   "cell_type": "code",
   "execution_count": 15,
   "metadata": {},
   "outputs": [],
   "source": [
    "# apply PCA\n",
    "X_pca = PCA(n_components=6).fit_transform(X)"
   ]
  },
  {
   "cell_type": "code",
   "execution_count": 16,
   "metadata": {},
   "outputs": [],
   "source": [
    "X_train_pca = X_pca[:49165]\n",
    "X_test_pca = X_pca[49165:]"
   ]
  },
  {
   "cell_type": "code",
   "execution_count": 17,
   "metadata": {
    "scrolled": false
   },
   "outputs": [
    {
     "data": {
      "text/plain": [
       "array([[ 2.68220463e+09, -1.40802375e+03, -1.06198675e+03,\n",
       "        -5.20643463e+02,  6.22830316e+00,  1.50257780e-02],\n",
       "       [ 1.38555063e+09,  6.78842110e+01, -3.40780777e+03,\n",
       "        -3.00809707e+02,  1.30897863e-01, -1.58722182e-02],\n",
       "       [ 2.54327663e+09, -2.82715361e+02, -4.31639052e+03,\n",
       "        -1.19265360e+03,  2.46025378e-02, -7.20692306e-03],\n",
       "       ...,\n",
       "       [-2.25841037e+09, -1.21924159e+03,  4.90163757e+03,\n",
       "        -1.72368372e+03, -5.34270146e+00, -2.59759697e-02],\n",
       "       [-3.29191737e+09,  3.38329068e+03, -4.19201386e+03,\n",
       "         4.04215731e+02,  2.14773711e+00, -4.38212756e-02],\n",
       "       [-2.42644137e+09,  1.09146680e+03,  3.71130324e+03,\n",
       "        -1.48835271e+03,  2.68635107e+00, -8.21113029e-03]])"
      ]
     },
     "execution_count": 17,
     "metadata": {},
     "output_type": "execute_result"
    }
   ],
   "source": [
    "X_pca"
   ]
  },
  {
   "cell_type": "code",
   "execution_count": 18,
   "metadata": {},
   "outputs": [],
   "source": [
    "from sklearn.preprocessing import StandardScaler\n",
    "\n",
    "scaler = StandardScaler()\n",
    "X_scaled = scaler.fit_transform(X_pca)\n",
    "X_train_scaled = X_scaled[:49165]\n",
    "X_test_scaled = X_scaled[49165:]"
   ]
  },
  {
   "cell_type": "code",
   "execution_count": 19,
   "metadata": {},
   "outputs": [
    {
     "data": {
      "text/plain": [
       "array([[ 1.19887551, -0.1843426 , -0.28462093, -0.41173425,  1.71623254,\n",
       "         0.01150291],\n",
       "       [ 0.61930499,  0.0088876 , -0.91331968, -0.23788575,  0.0360694 ,\n",
       "        -0.0121509 ],\n",
       "       [ 1.13677832, -0.03701393, -1.15682711, -0.94317199,  0.00677932,\n",
       "        -0.00551722],\n",
       "       ...,\n",
       "       [-1.00945053, -0.15962669,  1.31367799, -1.3631202 , -1.47220164,\n",
       "        -0.01988578],\n",
       "       [-1.47140121,  0.44295035, -1.12349317,  0.3196611 ,  0.5918171 ,\n",
       "        -0.03354716],\n",
       "       [-1.08455601,  0.14289804,  0.99465889, -1.17701618,  0.74023422,\n",
       "        -0.00628599]])"
      ]
     },
     "execution_count": 19,
     "metadata": {},
     "output_type": "execute_result"
    }
   ],
   "source": [
    "X_scaled"
   ]
  },
  {
   "cell_type": "markdown",
   "metadata": {},
   "source": [
    "### 1. Run SVC in RBF kernel with gamma=0.001, C=1 ==> Overfitting"
   ]
  },
  {
   "cell_type": "code",
   "execution_count": 20,
   "metadata": {},
   "outputs": [
    {
     "name": "stdout",
     "output_type": "stream",
     "text": [
      "score: 0.6937455506966338\n"
     ]
    }
   ],
   "source": [
    "clf = SVC(kernel='rbf',gamma=0.001,C=1, probability=True, cache_size=7000)\n",
    "clf.fit(X_train_scaled, y_train)\n",
    "print(\"score:\", clf.score(X_train_scaled, y_train))"
   ]
  },
  {
   "cell_type": "code",
   "execution_count": 21,
   "metadata": {},
   "outputs": [],
   "source": [
    "y_test = clf.predict_proba(X_test_scaled)"
   ]
  },
  {
   "cell_type": "code",
   "execution_count": 22,
   "metadata": {
    "scrolled": true
   },
   "outputs": [],
   "source": [
    "# change the order of columns in result\n",
    "y_test_df = pd.DataFrame(y_test)\n",
    "cols = y_test_df.columns.tolist()\n",
    "cols = cols[-1:] + cols[:-1]\n",
    "y_test = y_test_df[cols].to_numpy()"
   ]
  },
  {
   "cell_type": "code",
   "execution_count": 23,
   "metadata": {},
   "outputs": [],
   "source": [
    "def to_result_format(X):\n",
    "    res = pd.DataFrame(y_test,columns=['high', 'low', 'medium'])\n",
    "    temp = res['low']\n",
    "    res = res.drop(columns = {'low'})\n",
    "    res.insert(2,'low',temp)\n",
    "    res.insert\n",
    "    res.insert(0,'listing_id',X['listing_id'])\n",
    "    res.to_csv('submission.csv', index = None)\n",
    "    return res"
   ]
  },
  {
   "cell_type": "code",
   "execution_count": 24,
   "metadata": {},
   "outputs": [],
   "source": [
    "X_test_df = pd.DataFrame(X_test).join([Listing_id_test])\n",
    "res = to_result_format(X_test_df)"
   ]
  },
  {
   "cell_type": "code",
   "execution_count": 25,
   "metadata": {},
   "outputs": [
    {
     "data": {
      "text/html": [
       "<div>\n",
       "<style scoped>\n",
       "    .dataframe tbody tr th:only-of-type {\n",
       "        vertical-align: middle;\n",
       "    }\n",
       "\n",
       "    .dataframe tbody tr th {\n",
       "        vertical-align: top;\n",
       "    }\n",
       "\n",
       "    .dataframe thead th {\n",
       "        text-align: right;\n",
       "    }\n",
       "</style>\n",
       "<table border=\"1\" class=\"dataframe\">\n",
       "  <thead>\n",
       "    <tr style=\"text-align: right;\">\n",
       "      <th></th>\n",
       "      <th>listing_id</th>\n",
       "      <th>high</th>\n",
       "      <th>medium</th>\n",
       "      <th>low</th>\n",
       "    </tr>\n",
       "  </thead>\n",
       "  <tbody>\n",
       "    <tr>\n",
       "      <th>0</th>\n",
       "      <td>7142618</td>\n",
       "      <td>0.033406</td>\n",
       "      <td>0.116897</td>\n",
       "      <td>0.849697</td>\n",
       "    </tr>\n",
       "    <tr>\n",
       "      <th>1</th>\n",
       "      <td>7210040</td>\n",
       "      <td>0.009449</td>\n",
       "      <td>0.049148</td>\n",
       "      <td>0.941403</td>\n",
       "    </tr>\n",
       "    <tr>\n",
       "      <th>2</th>\n",
       "      <td>7174566</td>\n",
       "      <td>0.018874</td>\n",
       "      <td>0.079839</td>\n",
       "      <td>0.901287</td>\n",
       "    </tr>\n",
       "    <tr>\n",
       "      <th>3</th>\n",
       "      <td>7191391</td>\n",
       "      <td>0.013305</td>\n",
       "      <td>0.061553</td>\n",
       "      <td>0.925142</td>\n",
       "    </tr>\n",
       "    <tr>\n",
       "      <th>4</th>\n",
       "      <td>7171695</td>\n",
       "      <td>0.022384</td>\n",
       "      <td>0.087799</td>\n",
       "      <td>0.889817</td>\n",
       "    </tr>\n",
       "    <tr>\n",
       "      <th>...</th>\n",
       "      <td>...</td>\n",
       "      <td>...</td>\n",
       "      <td>...</td>\n",
       "      <td>...</td>\n",
       "    </tr>\n",
       "    <tr>\n",
       "      <th>74654</th>\n",
       "      <td>6928108</td>\n",
       "      <td>0.063056</td>\n",
       "      <td>0.235519</td>\n",
       "      <td>0.701425</td>\n",
       "    </tr>\n",
       "    <tr>\n",
       "      <th>74655</th>\n",
       "      <td>6906674</td>\n",
       "      <td>0.063177</td>\n",
       "      <td>0.231472</td>\n",
       "      <td>0.705351</td>\n",
       "    </tr>\n",
       "    <tr>\n",
       "      <th>74656</th>\n",
       "      <td>6897967</td>\n",
       "      <td>0.051006</td>\n",
       "      <td>0.215578</td>\n",
       "      <td>0.733416</td>\n",
       "    </tr>\n",
       "    <tr>\n",
       "      <th>74657</th>\n",
       "      <td>6842183</td>\n",
       "      <td>0.029874</td>\n",
       "      <td>0.150575</td>\n",
       "      <td>0.819551</td>\n",
       "    </tr>\n",
       "    <tr>\n",
       "      <th>74658</th>\n",
       "      <td>6889319</td>\n",
       "      <td>0.055466</td>\n",
       "      <td>0.216908</td>\n",
       "      <td>0.727627</td>\n",
       "    </tr>\n",
       "  </tbody>\n",
       "</table>\n",
       "<p>74659 rows × 4 columns</p>\n",
       "</div>"
      ],
      "text/plain": [
       "       listing_id      high    medium       low\n",
       "0         7142618  0.033406  0.116897  0.849697\n",
       "1         7210040  0.009449  0.049148  0.941403\n",
       "2         7174566  0.018874  0.079839  0.901287\n",
       "3         7191391  0.013305  0.061553  0.925142\n",
       "4         7171695  0.022384  0.087799  0.889817\n",
       "...           ...       ...       ...       ...\n",
       "74654     6928108  0.063056  0.235519  0.701425\n",
       "74655     6906674  0.063177  0.231472  0.705351\n",
       "74656     6897967  0.051006  0.215578  0.733416\n",
       "74657     6842183  0.029874  0.150575  0.819551\n",
       "74658     6889319  0.055466  0.216908  0.727627\n",
       "\n",
       "[74659 rows x 4 columns]"
      ]
     },
     "execution_count": 25,
     "metadata": {},
     "output_type": "execute_result"
    }
   ],
   "source": [
    "res"
   ]
  },
  {
   "cell_type": "markdown",
   "metadata": {},
   "source": [
    "#### Logloss=0.85740"
   ]
  },
  {
   "cell_type": "markdown",
   "metadata": {},
   "source": [
    "### 2. SVC RBF with gamma=0.01, C=10"
   ]
  },
  {
   "cell_type": "code",
   "execution_count": 33,
   "metadata": {},
   "outputs": [
    {
     "data": {
      "text/plain": [
       "SVC(C=10, break_ties=False, cache_size=7000, class_weight=None, coef0=0.0,\n",
       "    decision_function_shape='ovr', degree=3, gamma=0.01, kernel='rbf',\n",
       "    max_iter=-1, probability=True, random_state=None, shrinking=True, tol=0.001,\n",
       "    verbose=False)"
      ]
     },
     "execution_count": 33,
     "metadata": {},
     "output_type": "execute_result"
    }
   ],
   "source": [
    "clf = SVC(kernel='rbf',gamma=0.01,C=10, probability=True, cache_size=7000)\n",
    "clf.fit(X_train_scaled, y_train)"
   ]
  },
  {
   "cell_type": "code",
   "execution_count": 38,
   "metadata": {},
   "outputs": [
    {
     "name": "stdout",
     "output_type": "stream",
     "text": [
      "score: 0.6937455506966338\n"
     ]
    }
   ],
   "source": [
    "print(\"score:\", clf.score(X_train_scaled, y_train))"
   ]
  },
  {
   "cell_type": "code",
   "execution_count": 34,
   "metadata": {},
   "outputs": [],
   "source": [
    "y_test = clf.predict_proba(X_test_scaled)"
   ]
  },
  {
   "cell_type": "code",
   "execution_count": 35,
   "metadata": {},
   "outputs": [],
   "source": [
    "# change the order of columns in result\n",
    "y_test_df = pd.DataFrame(y_test)\n",
    "cols = y_test_df.columns.tolist()\n",
    "cols = cols[-1:] + cols[:-1]\n",
    "y_test = y_test_df[cols].to_numpy()"
   ]
  },
  {
   "cell_type": "code",
   "execution_count": 36,
   "metadata": {},
   "outputs": [],
   "source": [
    "X_test_df = pd.DataFrame(X_test).join([Listing_id_test])\n",
    "res = to_result_format(X_test_df)"
   ]
  },
  {
   "cell_type": "code",
   "execution_count": 37,
   "metadata": {},
   "outputs": [
    {
     "data": {
      "text/html": [
       "<div>\n",
       "<style scoped>\n",
       "    .dataframe tbody tr th:only-of-type {\n",
       "        vertical-align: middle;\n",
       "    }\n",
       "\n",
       "    .dataframe tbody tr th {\n",
       "        vertical-align: top;\n",
       "    }\n",
       "\n",
       "    .dataframe thead th {\n",
       "        text-align: right;\n",
       "    }\n",
       "</style>\n",
       "<table border=\"1\" class=\"dataframe\">\n",
       "  <thead>\n",
       "    <tr style=\"text-align: right;\">\n",
       "      <th></th>\n",
       "      <th>listing_id</th>\n",
       "      <th>high</th>\n",
       "      <th>medium</th>\n",
       "      <th>low</th>\n",
       "    </tr>\n",
       "  </thead>\n",
       "  <tbody>\n",
       "    <tr>\n",
       "      <th>0</th>\n",
       "      <td>7142618</td>\n",
       "      <td>0.073989</td>\n",
       "      <td>0.224054</td>\n",
       "      <td>0.701957</td>\n",
       "    </tr>\n",
       "    <tr>\n",
       "      <th>1</th>\n",
       "      <td>7210040</td>\n",
       "      <td>0.045034</td>\n",
       "      <td>0.197349</td>\n",
       "      <td>0.757617</td>\n",
       "    </tr>\n",
       "    <tr>\n",
       "      <th>2</th>\n",
       "      <td>7174566</td>\n",
       "      <td>0.056601</td>\n",
       "      <td>0.210352</td>\n",
       "      <td>0.733047</td>\n",
       "    </tr>\n",
       "    <tr>\n",
       "      <th>3</th>\n",
       "      <td>7191391</td>\n",
       "      <td>0.052601</td>\n",
       "      <td>0.205832</td>\n",
       "      <td>0.741567</td>\n",
       "    </tr>\n",
       "    <tr>\n",
       "      <th>4</th>\n",
       "      <td>7171695</td>\n",
       "      <td>0.065348</td>\n",
       "      <td>0.217684</td>\n",
       "      <td>0.716968</td>\n",
       "    </tr>\n",
       "    <tr>\n",
       "      <th>...</th>\n",
       "      <td>...</td>\n",
       "      <td>...</td>\n",
       "      <td>...</td>\n",
       "      <td>...</td>\n",
       "    </tr>\n",
       "    <tr>\n",
       "      <th>74654</th>\n",
       "      <td>6928108</td>\n",
       "      <td>0.070777</td>\n",
       "      <td>0.206574</td>\n",
       "      <td>0.722649</td>\n",
       "    </tr>\n",
       "    <tr>\n",
       "      <th>74655</th>\n",
       "      <td>6906674</td>\n",
       "      <td>0.091524</td>\n",
       "      <td>0.231804</td>\n",
       "      <td>0.676672</td>\n",
       "    </tr>\n",
       "    <tr>\n",
       "      <th>74656</th>\n",
       "      <td>6897967</td>\n",
       "      <td>0.073350</td>\n",
       "      <td>0.211076</td>\n",
       "      <td>0.715574</td>\n",
       "    </tr>\n",
       "    <tr>\n",
       "      <th>74657</th>\n",
       "      <td>6842183</td>\n",
       "      <td>0.079337</td>\n",
       "      <td>0.246110</td>\n",
       "      <td>0.674554</td>\n",
       "    </tr>\n",
       "    <tr>\n",
       "      <th>74658</th>\n",
       "      <td>6889319</td>\n",
       "      <td>0.090653</td>\n",
       "      <td>0.234416</td>\n",
       "      <td>0.674931</td>\n",
       "    </tr>\n",
       "  </tbody>\n",
       "</table>\n",
       "<p>74659 rows × 4 columns</p>\n",
       "</div>"
      ],
      "text/plain": [
       "       listing_id      high    medium       low\n",
       "0         7142618  0.073989  0.224054  0.701957\n",
       "1         7210040  0.045034  0.197349  0.757617\n",
       "2         7174566  0.056601  0.210352  0.733047\n",
       "3         7191391  0.052601  0.205832  0.741567\n",
       "4         7171695  0.065348  0.217684  0.716968\n",
       "...           ...       ...       ...       ...\n",
       "74654     6928108  0.070777  0.206574  0.722649\n",
       "74655     6906674  0.091524  0.231804  0.676672\n",
       "74656     6897967  0.073350  0.211076  0.715574\n",
       "74657     6842183  0.079337  0.246110  0.674554\n",
       "74658     6889319  0.090653  0.234416  0.674931\n",
       "\n",
       "[74659 rows x 4 columns]"
      ]
     },
     "execution_count": 37,
     "metadata": {},
     "output_type": "execute_result"
    }
   ],
   "source": [
    "res"
   ]
  },
  {
   "cell_type": "markdown",
   "metadata": {},
   "source": [
    "#### Logloss = 0.79862"
   ]
  },
  {
   "cell_type": "markdown",
   "metadata": {},
   "source": [
    "### 3. Run SVC in Sigmoid kernel with large C(=100)"
   ]
  },
  {
   "cell_type": "code",
   "execution_count": 111,
   "metadata": {},
   "outputs": [
    {
     "name": "stdout",
     "output_type": "stream",
     "text": [
      "score: 0.5259839316587003\n"
     ]
    }
   ],
   "source": [
    "clf1 = SVC(kernel='sigmoid',gamma='auto',C=100, probability=True, cache_size=7000)\n",
    "clf1.fit(X_train_scaled, y_train)\n",
    "print(\"score:\", clf1.score(X_train_scaled, y_train))"
   ]
  },
  {
   "cell_type": "code",
   "execution_count": 112,
   "metadata": {},
   "outputs": [],
   "source": [
    "y_test = clf1.predict_proba(X_test_scaled)"
   ]
  },
  {
   "cell_type": "code",
   "execution_count": 113,
   "metadata": {},
   "outputs": [],
   "source": [
    "# change the order of columns in result\n",
    "y_test_df = pd.DataFrame(y_test)\n",
    "cols = y_test_df.columns.tolist()\n",
    "cols = cols[-1:] + cols[:-1]\n",
    "y_test = y_test_df[cols].to_numpy()"
   ]
  },
  {
   "cell_type": "code",
   "execution_count": 114,
   "metadata": {},
   "outputs": [],
   "source": [
    "X_test_df = pd.DataFrame(X_test).join([Listing_id_test])\n",
    "res = to_result_format(X_test_df)"
   ]
  },
  {
   "cell_type": "code",
   "execution_count": 115,
   "metadata": {
    "scrolled": false
   },
   "outputs": [
    {
     "data": {
      "text/html": [
       "<div>\n",
       "<style scoped>\n",
       "    .dataframe tbody tr th:only-of-type {\n",
       "        vertical-align: middle;\n",
       "    }\n",
       "\n",
       "    .dataframe tbody tr th {\n",
       "        vertical-align: top;\n",
       "    }\n",
       "\n",
       "    .dataframe thead th {\n",
       "        text-align: right;\n",
       "    }\n",
       "</style>\n",
       "<table border=\"1\" class=\"dataframe\">\n",
       "  <thead>\n",
       "    <tr style=\"text-align: right;\">\n",
       "      <th></th>\n",
       "      <th>listing_id</th>\n",
       "      <th>high</th>\n",
       "      <th>medium</th>\n",
       "      <th>low</th>\n",
       "    </tr>\n",
       "  </thead>\n",
       "  <tbody>\n",
       "    <tr>\n",
       "      <th>0</th>\n",
       "      <td>7142618</td>\n",
       "      <td>0.068086</td>\n",
       "      <td>0.232755</td>\n",
       "      <td>0.699158</td>\n",
       "    </tr>\n",
       "    <tr>\n",
       "      <th>1</th>\n",
       "      <td>7210040</td>\n",
       "      <td>0.081728</td>\n",
       "      <td>0.215623</td>\n",
       "      <td>0.702649</td>\n",
       "    </tr>\n",
       "    <tr>\n",
       "      <th>2</th>\n",
       "      <td>7174566</td>\n",
       "      <td>0.072884</td>\n",
       "      <td>0.226396</td>\n",
       "      <td>0.700720</td>\n",
       "    </tr>\n",
       "    <tr>\n",
       "      <th>3</th>\n",
       "      <td>7191391</td>\n",
       "      <td>0.077253</td>\n",
       "      <td>0.220280</td>\n",
       "      <td>0.702467</td>\n",
       "    </tr>\n",
       "    <tr>\n",
       "      <th>4</th>\n",
       "      <td>7171695</td>\n",
       "      <td>0.071627</td>\n",
       "      <td>0.227033</td>\n",
       "      <td>0.701340</td>\n",
       "    </tr>\n",
       "    <tr>\n",
       "      <th>...</th>\n",
       "      <td>...</td>\n",
       "      <td>...</td>\n",
       "      <td>...</td>\n",
       "      <td>...</td>\n",
       "    </tr>\n",
       "    <tr>\n",
       "      <th>74654</th>\n",
       "      <td>6928108</td>\n",
       "      <td>0.087826</td>\n",
       "      <td>0.217263</td>\n",
       "      <td>0.694912</td>\n",
       "    </tr>\n",
       "    <tr>\n",
       "      <th>74655</th>\n",
       "      <td>6906674</td>\n",
       "      <td>0.083057</td>\n",
       "      <td>0.218494</td>\n",
       "      <td>0.698449</td>\n",
       "    </tr>\n",
       "    <tr>\n",
       "      <th>74656</th>\n",
       "      <td>6897967</td>\n",
       "      <td>0.083584</td>\n",
       "      <td>0.220175</td>\n",
       "      <td>0.696241</td>\n",
       "    </tr>\n",
       "    <tr>\n",
       "      <th>74657</th>\n",
       "      <td>6842183</td>\n",
       "      <td>0.068529</td>\n",
       "      <td>0.234205</td>\n",
       "      <td>0.697265</td>\n",
       "    </tr>\n",
       "    <tr>\n",
       "      <th>74658</th>\n",
       "      <td>6889319</td>\n",
       "      <td>0.080216</td>\n",
       "      <td>0.220930</td>\n",
       "      <td>0.698854</td>\n",
       "    </tr>\n",
       "  </tbody>\n",
       "</table>\n",
       "<p>74659 rows × 4 columns</p>\n",
       "</div>"
      ],
      "text/plain": [
       "       listing_id      high    medium       low\n",
       "0         7142618  0.068086  0.232755  0.699158\n",
       "1         7210040  0.081728  0.215623  0.702649\n",
       "2         7174566  0.072884  0.226396  0.700720\n",
       "3         7191391  0.077253  0.220280  0.702467\n",
       "4         7171695  0.071627  0.227033  0.701340\n",
       "...           ...       ...       ...       ...\n",
       "74654     6928108  0.087826  0.217263  0.694912\n",
       "74655     6906674  0.083057  0.218494  0.698449\n",
       "74656     6897967  0.083584  0.220175  0.696241\n",
       "74657     6842183  0.068529  0.234205  0.697265\n",
       "74658     6889319  0.080216  0.220930  0.698854\n",
       "\n",
       "[74659 rows x 4 columns]"
      ]
     },
     "execution_count": 115,
     "metadata": {},
     "output_type": "execute_result"
    }
   ],
   "source": [
    "res"
   ]
  },
  {
   "cell_type": "markdown",
   "metadata": {},
   "source": [
    "## Cross Validation"
   ]
  },
  {
   "cell_type": "markdown",
   "metadata": {},
   "source": [
    "### 4. Use GridSearchCV to tune the parameters "
   ]
  },
  {
   "cell_type": "code",
   "execution_count": 20,
   "metadata": {},
   "outputs": [],
   "source": [
    "from sklearn.model_selection import GridSearchCV\n",
    "from sklearn.model_selection import StratifiedShuffleSplit\n",
    "\n",
    "def tuneParameters(X, y, tuned_parameters, X_test):\n",
    "    score = 'accuracy'\n",
    "    \n",
    "    print('# Tuning hyper-parameters for %s' % score)\n",
    "    print()\n",
    "\n",
    "    cv = StratifiedShuffleSplit(n_splits=2, test_size=0.2, random_state=42)\n",
    "    grid = GridSearchCV(\n",
    "        SVC(cache_size=7000, probability=True), param_grid=tuned_parameters,scoring='accuracy', cv=cv\n",
    "    )\n",
    "    grid.fit(X, y)\n",
    "\n",
    "    print(\"Best parameters set found on development set:\")\n",
    "    print()\n",
    "    print(grid.best_params_)\n",
    "    print()\n",
    "    print(\"Grid scores on development set:\")\n",
    "    print()\n",
    "    means = grid.cv_results_['mean_test_score']\n",
    "    stds = grid.cv_results_['std_test_score']\n",
    "    for mean, std, params in zip(means, stds, grid.cv_results_['params']):\n",
    "        print(\"%0.3f (+/-%0.03f) for %r\"\n",
    "              % (mean, std * 2, params))\n",
    "    print()\n",
    "\n",
    "\n",
    "    return grid.predict_proba(X_test)"
   ]
  },
  {
   "cell_type": "markdown",
   "metadata": {},
   "source": [
    "### 5. Tune parameter 'gamma' for RBF SVC "
   ]
  },
  {
   "cell_type": "code",
   "execution_count": 21,
   "metadata": {
    "scrolled": true
   },
   "outputs": [
    {
     "name": "stdout",
     "output_type": "stream",
     "text": [
      "# Tuning hyper-parameters for accuracy\n",
      "\n",
      "Best parameters set found on development set:\n",
      "\n",
      "{'C': 1, 'gamma': 0.1, 'kernel': 'rbf'}\n",
      "\n",
      "Grid scores on development set:\n",
      "\n",
      "0.694 (+/-0.000) for {'C': 1, 'gamma': 0.1, 'kernel': 'rbf'}\n",
      "0.694 (+/-0.000) for {'C': 1, 'gamma': 1, 'kernel': 'rbf'}\n",
      "0.687 (+/-0.001) for {'C': 1, 'gamma': 10, 'kernel': 'rbf'}\n",
      "\n"
     ]
    },
    {
     "data": {
      "text/plain": [
       "array([[0.65463514, 0.24342411, 0.10194075],\n",
       "       [0.71377991, 0.22769598, 0.05852411],\n",
       "       [0.73446435, 0.21927278, 0.04626288],\n",
       "       ...,\n",
       "       [0.73325219, 0.22626623, 0.04048158],\n",
       "       [0.68325815, 0.22810773, 0.08863412],\n",
       "       [0.69135485, 0.23240005, 0.0762451 ]])"
      ]
     },
     "execution_count": 21,
     "metadata": {},
     "output_type": "execute_result"
    }
   ],
   "source": [
    "tuned_parameters = [{'kernel': ['rbf'], 'gamma': [0.1, 1, 10], 'C': [1]}]\n",
    "\n",
    "proba = tuneParameters(X_train_scaled, y_train, tuned_parameters, X_test_scaled)"
   ]
  },
  {
   "cell_type": "code",
   "execution_count": 22,
   "metadata": {
    "scrolled": false
   },
   "outputs": [
    {
     "name": "stdout",
     "output_type": "stream",
     "text": [
      "# Tuning hyper-parameters for accuracy\n",
      "\n",
      "Best parameters set found on development set:\n",
      "\n",
      "{'C': 10, 'gamma': 1, 'kernel': 'rbf'}\n",
      "\n",
      "Grid scores on development set:\n",
      "\n",
      "0.694 (+/-0.000) for {'C': 0.1, 'gamma': 1, 'kernel': 'rbf'}\n",
      "0.694 (+/-0.000) for {'C': 1, 'gamma': 1, 'kernel': 'rbf'}\n",
      "0.694 (+/-0.000) for {'C': 10, 'gamma': 1, 'kernel': 'rbf'}\n",
      "\n"
     ]
    }
   ],
   "source": [
    "tuned_parameters =  [{'kernel': ['rbf'], 'gamma': [1], 'C': [0.1, 1, 10]}]\n",
    "proba = tuneParameters(X_train_scaled, y_train, tuned_parameters, X_test_scaled)"
   ]
  },
  {
   "cell_type": "code",
   "execution_count": 24,
   "metadata": {},
   "outputs": [],
   "source": [
    "y_test = proba"
   ]
  },
  {
   "cell_type": "code",
   "execution_count": 25,
   "metadata": {
    "scrolled": true
   },
   "outputs": [],
   "source": [
    "# change the order of columns in result\n",
    "y_test_df = pd.DataFrame(y_test)\n",
    "cols = y_test_df.columns.tolist()\n",
    "cols = cols[-1:] + cols[:-1]\n",
    "y_test = y_test_df[cols].to_numpy()"
   ]
  },
  {
   "cell_type": "code",
   "execution_count": 26,
   "metadata": {},
   "outputs": [],
   "source": [
    "def to_result_format(X):\n",
    "    res = pd.DataFrame(y_test,columns=['high', 'low', 'medium'])\n",
    "    temp = res['low']\n",
    "    res = res.drop(columns = {'low'})\n",
    "    res.insert(2,'low',temp)\n",
    "    res.insert\n",
    "    res.insert(0,'listing_id',X['listing_id'])\n",
    "    res.to_csv('submission.csv', index = None)\n",
    "    return res"
   ]
  },
  {
   "cell_type": "code",
   "execution_count": 27,
   "metadata": {},
   "outputs": [],
   "source": [
    "X_test_df = pd.DataFrame(X_test).join([Listing_id_test])\n",
    "res = to_result_format(X_test_df)"
   ]
  },
  {
   "cell_type": "code",
   "execution_count": 28,
   "metadata": {
    "scrolled": false
   },
   "outputs": [
    {
     "data": {
      "text/html": [
       "<div>\n",
       "<style scoped>\n",
       "    .dataframe tbody tr th:only-of-type {\n",
       "        vertical-align: middle;\n",
       "    }\n",
       "\n",
       "    .dataframe tbody tr th {\n",
       "        vertical-align: top;\n",
       "    }\n",
       "\n",
       "    .dataframe thead th {\n",
       "        text-align: right;\n",
       "    }\n",
       "</style>\n",
       "<table border=\"1\" class=\"dataframe\">\n",
       "  <thead>\n",
       "    <tr style=\"text-align: right;\">\n",
       "      <th></th>\n",
       "      <th>listing_id</th>\n",
       "      <th>high</th>\n",
       "      <th>medium</th>\n",
       "      <th>low</th>\n",
       "    </tr>\n",
       "  </thead>\n",
       "  <tbody>\n",
       "    <tr>\n",
       "      <th>0</th>\n",
       "      <td>7142618</td>\n",
       "      <td>0.075255</td>\n",
       "      <td>0.227774</td>\n",
       "      <td>0.696971</td>\n",
       "    </tr>\n",
       "    <tr>\n",
       "      <th>1</th>\n",
       "      <td>7210040</td>\n",
       "      <td>0.078775</td>\n",
       "      <td>0.221689</td>\n",
       "      <td>0.699536</td>\n",
       "    </tr>\n",
       "    <tr>\n",
       "      <th>2</th>\n",
       "      <td>7174566</td>\n",
       "      <td>0.078451</td>\n",
       "      <td>0.215194</td>\n",
       "      <td>0.706356</td>\n",
       "    </tr>\n",
       "    <tr>\n",
       "      <th>3</th>\n",
       "      <td>7191391</td>\n",
       "      <td>0.069244</td>\n",
       "      <td>0.214827</td>\n",
       "      <td>0.715928</td>\n",
       "    </tr>\n",
       "    <tr>\n",
       "      <th>4</th>\n",
       "      <td>7171695</td>\n",
       "      <td>0.083647</td>\n",
       "      <td>0.219448</td>\n",
       "      <td>0.696905</td>\n",
       "    </tr>\n",
       "    <tr>\n",
       "      <th>...</th>\n",
       "      <td>...</td>\n",
       "      <td>...</td>\n",
       "      <td>...</td>\n",
       "      <td>...</td>\n",
       "    </tr>\n",
       "    <tr>\n",
       "      <th>74654</th>\n",
       "      <td>6928108</td>\n",
       "      <td>0.133472</td>\n",
       "      <td>0.282680</td>\n",
       "      <td>0.583848</td>\n",
       "    </tr>\n",
       "    <tr>\n",
       "      <th>74655</th>\n",
       "      <td>6906674</td>\n",
       "      <td>0.071335</td>\n",
       "      <td>0.223896</td>\n",
       "      <td>0.704770</td>\n",
       "    </tr>\n",
       "    <tr>\n",
       "      <th>74656</th>\n",
       "      <td>6897967</td>\n",
       "      <td>0.043876</td>\n",
       "      <td>0.219808</td>\n",
       "      <td>0.736315</td>\n",
       "    </tr>\n",
       "    <tr>\n",
       "      <th>74657</th>\n",
       "      <td>6842183</td>\n",
       "      <td>0.110366</td>\n",
       "      <td>0.219891</td>\n",
       "      <td>0.669743</td>\n",
       "    </tr>\n",
       "    <tr>\n",
       "      <th>74658</th>\n",
       "      <td>6889319</td>\n",
       "      <td>0.085855</td>\n",
       "      <td>0.220634</td>\n",
       "      <td>0.693512</td>\n",
       "    </tr>\n",
       "  </tbody>\n",
       "</table>\n",
       "<p>74659 rows × 4 columns</p>\n",
       "</div>"
      ],
      "text/plain": [
       "       listing_id      high    medium       low\n",
       "0         7142618  0.075255  0.227774  0.696971\n",
       "1         7210040  0.078775  0.221689  0.699536\n",
       "2         7174566  0.078451  0.215194  0.706356\n",
       "3         7191391  0.069244  0.214827  0.715928\n",
       "4         7171695  0.083647  0.219448  0.696905\n",
       "...           ...       ...       ...       ...\n",
       "74654     6928108  0.133472  0.282680  0.583848\n",
       "74655     6906674  0.071335  0.223896  0.704770\n",
       "74656     6897967  0.043876  0.219808  0.736315\n",
       "74657     6842183  0.110366  0.219891  0.669743\n",
       "74658     6889319  0.085855  0.220634  0.693512\n",
       "\n",
       "[74659 rows x 4 columns]"
      ]
     },
     "execution_count": 28,
     "metadata": {},
     "output_type": "execute_result"
    }
   ],
   "source": [
    "res"
   ]
  },
  {
   "cell_type": "markdown",
   "metadata": {},
   "source": [
    "#### Logloss = 0.76775"
   ]
  },
  {
   "cell_type": "code",
   "execution_count": 29,
   "metadata": {},
   "outputs": [
    {
     "name": "stdout",
     "output_type": "stream",
     "text": [
      "# Tuning hyper-parameters for accuracy\n",
      "\n",
      "Best parameters set found on development set:\n",
      "\n",
      "{'C': 50, 'gamma': 1, 'kernel': 'rbf'}\n",
      "\n",
      "Grid scores on development set:\n",
      "\n",
      "0.694 (+/-0.000) for {'C': 10, 'gamma': 1, 'kernel': 'rbf'}\n",
      "0.695 (+/-0.001) for {'C': 50, 'gamma': 1, 'kernel': 'rbf'}\n",
      "0.694 (+/-0.003) for {'C': 100, 'gamma': 1, 'kernel': 'rbf'}\n",
      "\n"
     ]
    }
   ],
   "source": [
    "tuned_parameters =  [{'kernel': ['rbf'], 'gamma': [1], 'C': [10, 50, 100]}]\n",
    "proba = tuneParameters(X_train_scaled, y_train, tuned_parameters, X_test_scaled)"
   ]
  },
  {
   "cell_type": "code",
   "execution_count": 30,
   "metadata": {
    "scrolled": true
   },
   "outputs": [
    {
     "data": {
      "text/html": [
       "<div>\n",
       "<style scoped>\n",
       "    .dataframe tbody tr th:only-of-type {\n",
       "        vertical-align: middle;\n",
       "    }\n",
       "\n",
       "    .dataframe tbody tr th {\n",
       "        vertical-align: top;\n",
       "    }\n",
       "\n",
       "    .dataframe thead th {\n",
       "        text-align: right;\n",
       "    }\n",
       "</style>\n",
       "<table border=\"1\" class=\"dataframe\">\n",
       "  <thead>\n",
       "    <tr style=\"text-align: right;\">\n",
       "      <th></th>\n",
       "      <th>listing_id</th>\n",
       "      <th>high</th>\n",
       "      <th>medium</th>\n",
       "      <th>low</th>\n",
       "    </tr>\n",
       "  </thead>\n",
       "  <tbody>\n",
       "    <tr>\n",
       "      <th>0</th>\n",
       "      <td>7142618</td>\n",
       "      <td>0.078605</td>\n",
       "      <td>0.230955</td>\n",
       "      <td>0.690441</td>\n",
       "    </tr>\n",
       "    <tr>\n",
       "      <th>1</th>\n",
       "      <td>7210040</td>\n",
       "      <td>0.075080</td>\n",
       "      <td>0.216752</td>\n",
       "      <td>0.708168</td>\n",
       "    </tr>\n",
       "    <tr>\n",
       "      <th>2</th>\n",
       "      <td>7174566</td>\n",
       "      <td>0.072677</td>\n",
       "      <td>0.194027</td>\n",
       "      <td>0.733296</td>\n",
       "    </tr>\n",
       "    <tr>\n",
       "      <th>3</th>\n",
       "      <td>7191391</td>\n",
       "      <td>0.064677</td>\n",
       "      <td>0.199866</td>\n",
       "      <td>0.735457</td>\n",
       "    </tr>\n",
       "    <tr>\n",
       "      <th>4</th>\n",
       "      <td>7171695</td>\n",
       "      <td>0.085349</td>\n",
       "      <td>0.212966</td>\n",
       "      <td>0.701685</td>\n",
       "    </tr>\n",
       "    <tr>\n",
       "      <th>...</th>\n",
       "      <td>...</td>\n",
       "      <td>...</td>\n",
       "      <td>...</td>\n",
       "      <td>...</td>\n",
       "    </tr>\n",
       "    <tr>\n",
       "      <th>74654</th>\n",
       "      <td>6928108</td>\n",
       "      <td>0.156722</td>\n",
       "      <td>0.416880</td>\n",
       "      <td>0.426398</td>\n",
       "    </tr>\n",
       "    <tr>\n",
       "      <th>74655</th>\n",
       "      <td>6906674</td>\n",
       "      <td>0.075915</td>\n",
       "      <td>0.222619</td>\n",
       "      <td>0.701466</td>\n",
       "    </tr>\n",
       "    <tr>\n",
       "      <th>74656</th>\n",
       "      <td>6897967</td>\n",
       "      <td>0.030176</td>\n",
       "      <td>0.205846</td>\n",
       "      <td>0.763977</td>\n",
       "    </tr>\n",
       "    <tr>\n",
       "      <th>74657</th>\n",
       "      <td>6842183</td>\n",
       "      <td>0.148303</td>\n",
       "      <td>0.215532</td>\n",
       "      <td>0.636165</td>\n",
       "    </tr>\n",
       "    <tr>\n",
       "      <th>74658</th>\n",
       "      <td>6889319</td>\n",
       "      <td>0.085858</td>\n",
       "      <td>0.217337</td>\n",
       "      <td>0.696806</td>\n",
       "    </tr>\n",
       "  </tbody>\n",
       "</table>\n",
       "<p>74659 rows × 4 columns</p>\n",
       "</div>"
      ],
      "text/plain": [
       "       listing_id      high    medium       low\n",
       "0         7142618  0.078605  0.230955  0.690441\n",
       "1         7210040  0.075080  0.216752  0.708168\n",
       "2         7174566  0.072677  0.194027  0.733296\n",
       "3         7191391  0.064677  0.199866  0.735457\n",
       "4         7171695  0.085349  0.212966  0.701685\n",
       "...           ...       ...       ...       ...\n",
       "74654     6928108  0.156722  0.416880  0.426398\n",
       "74655     6906674  0.075915  0.222619  0.701466\n",
       "74656     6897967  0.030176  0.205846  0.763977\n",
       "74657     6842183  0.148303  0.215532  0.636165\n",
       "74658     6889319  0.085858  0.217337  0.696806\n",
       "\n",
       "[74659 rows x 4 columns]"
      ]
     },
     "execution_count": 30,
     "metadata": {},
     "output_type": "execute_result"
    }
   ],
   "source": [
    "y_test = proba\n",
    "\n",
    "# change the order of columns in result\n",
    "y_test_df = pd.DataFrame(y_test)\n",
    "cols = y_test_df.columns.tolist()\n",
    "cols = cols[-1:] + cols[:-1]\n",
    "y_test = y_test_df[cols].to_numpy()\n",
    "\n",
    "X_test_df = pd.DataFrame(X_test).join([Listing_id_test])\n",
    "res = to_result_format(X_test_df)\n",
    "res"
   ]
  },
  {
   "cell_type": "markdown",
   "metadata": {},
   "source": [
    "### Logloss = 0.75157"
   ]
  },
  {
   "cell_type": "markdown",
   "metadata": {},
   "source": [
    "### 6. Visualization of parameter tuning"
   ]
  },
  {
   "cell_type": "code",
   "execution_count": 34,
   "metadata": {},
   "outputs": [],
   "source": [
    "import numpy as np\n",
    "import matplotlib.pyplot as plt\n",
    "%matplotlib inline"
   ]
  },
  {
   "cell_type": "code",
   "execution_count": 32,
   "metadata": {},
   "outputs": [],
   "source": [
    "def plotSVC(X, y, clfs, titles):\n",
    "    # create a mesh to plot in\n",
    "    x_min, x_max = X[:, 0].min() -1, X[:, 0].max() + 1\n",
    "    y_min, y_max = X[:, 1].min() - 1, X[:, 1].max() + 1\n",
    "    h = (x_max - x_min)/100\n",
    "    xx, yy = np.meshgrid(np.arange(x_min, x_max, h),np.arange(y_min, y_max, h))\n",
    "    for i, clf in enumerate(clfs):\n",
    "        plt.subplot(2, 2, i + 1)\n",
    "        #print(np.c_[xx.ravel(), yy.ravel()])\n",
    "        Z = clf.predict(np.c_[xx.ravel(), yy.ravel()])\n",
    "        Z = Z.reshape(xx.shape)\n",
    "        plt.contourf(xx, yy, Z, cmap=plt.cm.Paired, alpha=0.8)\n",
    "        plt.scatter(X[:, 0], X[:, 1], c=y, cmap=plt.cm.Paired)\n",
    "        plt.xlabel('Sepal length')\n",
    "        plt.ylabel('Sepal width')\n",
    "        plt.xlim(xx.min(), xx.max())\n",
    "        plt.ylim(yy.min(), yy.max())\n",
    "        plt.xticks(())\n",
    "        plt.yticks(())\n",
    "        plt.title(titles[i])\n",
    "        \n",
    "    plt.show()"
   ]
  },
  {
   "cell_type": "code",
   "execution_count": 30,
   "metadata": {
    "scrolled": false
   },
   "outputs": [
    {
     "data": {
      "image/png": "[encoded data removed]",
      "text/plain": [
       "<Figure size 432x288 with 1 Axes>"
      ]
     },
     "metadata": {},
     "output_type": "display_data"
    }
   ],
   "source": [
    "clfs = [clf]\n",
    "plotSVC(X_test_scaled, y_test, clfs, [\"kernel=rbf\"])"
   ]
  }
 ],
 "metadata": {
  "kernelspec": {
   "display_name": "Python 3",
   "language": "python",
   "name": "python3"
  },
  "language_info": {
   "codemirror_mode": {
    "name": "ipython",
    "version": 3
   },
   "file_extension": ".py",
   "mimetype": "text/x-python",
   "name": "python",
   "nbconvert_exporter": "python",
   "pygments_lexer": "ipython3",
   "version": "3.8.1"
  }
 },
 "nbformat": 4,
 "nbformat_minor": 4
}
