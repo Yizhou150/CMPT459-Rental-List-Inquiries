{
 "cells": [
  {
   "cell_type": "markdown",
   "metadata": {},
   "source": [
    "# Improvement & Evaluation"
   ]
  },
  {
   "cell_type": "markdown",
   "metadata": {},
   "source": [
    "## 0. Preparation"
   ]
  },
  {
   "cell_type": "code",
   "execution_count": 1,
   "metadata": {},
   "outputs": [],
   "source": [
    "import pandas as pd\n",
    "import numpy as np\n",
    "from sklearn.model_selection import KFold\n",
    "from sklearn.preprocessing import MinMaxScaler\n",
    "from sklearn.svm import SVR,SVC\n",
    "from sklearn.model_selection import KFold\n",
    "from sklearn.preprocessing import MinMaxScaler\n",
    "from sklearn.svm import SVR,SVC\n",
    "from sklearn.decomposition import PCA\n",
    "from sklearn.cross_decomposition import CCA\n",
    "from sklearn.model_selection import cross_val_score\n",
    "import statsmodels.api as sm\n",
    "from sklearn.feature_extraction.text import  TfidfVectorizer, CountVectorizer\n",
    "\n",
    "import re"
   ]
  },
  {
   "cell_type": "markdown",
   "metadata": {},
   "source": [
    "### 0.1 Loading Datasets (tfidf)"
   ]
  },
  {
   "cell_type": "code",
   "execution_count": 2,
   "metadata": {},
   "outputs": [],
   "source": [
    "def word_to_phrase(flist):\n",
    "    plist = []\n",
    "    if len(flist) > 0:\n",
    "        for feature in flist:\n",
    "            feature = re.sub('[_]',' ',feature)\n",
    "            feature = feature.strip()\n",
    "            feature_p = ''.join(feature.split(' '))\n",
    "            plist.append(feature_p)\n",
    "    return plist\n",
    "\n",
    "def list_to_string(flist):\n",
    "    string = ' '.join(flist)\n",
    "    return string"
   ]
  },
  {
   "cell_type": "code",
   "execution_count": 3,
   "metadata": {},
   "outputs": [],
   "source": [
    "ori_train = pd.read_json('train.json.zip', orient='columns', convert_dates=['created'], compression='zip')\n",
    "ori_train = ori_train.reset_index()\n",
    "ori_train.rename(columns={'index':'rec_id'}, inplace=True) \n",
    "train = ori_train\n",
    "test =  pd.read_json('test.json.zip', orient='columns', convert_dates=['created'], compression='zip')\n",
    "test = test.reset_index()\n",
    "test.rename(columns={'index':'rec_id'}, inplace=True)\n",
    "\n",
    "# remove outliers with ridiculously high prices\n",
    "train = train[train['price']<=20000]\n",
    "# remove outliers which the houses locate far away from most of the houses and missing values\n",
    "train = train[(train['latitude'] <= 41.5) & (train['latitude'] >= 40) & (train['longitude'] >= -80) & (train['longitude'] <= -70)]\n",
    "# remove outliers which have bathrooms more than bedrooms\n",
    "train['diff_rooms'] = train['bedrooms'] - train['bathrooms']\n",
    "train = train[train['diff_rooms']>=-1.5]\n",
    "\n",
    "train_text = train[['description', 'features']]\n",
    "test_text = test[['description', 'features']]\n",
    "data_text = pd.concat([train_text, test_text], axis=0)\n",
    "\n",
    "# tfidf\n",
    "desc_tfidf = TfidfVectorizer(min_df=20, max_features=40, strip_accents='unicode',lowercase =True,\n",
    "                        analyzer='word', token_pattern=r'\\w{5,}', ngram_range=(1, 3),  sublinear_tf=True, stop_words = 'english')  \n",
    "desc_tfidf_fit =desc_tfidf.fit_transform(data_text['description'])\n",
    "desc_name = [x for x in desc_tfidf.get_feature_names()]\n",
    "# standardize \"feature\"\n",
    "data_text['features_phr'] = data_text['features'].apply(word_to_phrase)\n",
    "data_text['features_phr_str'] = data_text['features_phr'].apply(list_to_string)\n",
    "# tfidf 'feature'\n",
    "phr_tfidf = TfidfVectorizer(min_df=2, max_features=40, strip_accents='unicode', lowercase=True, token_pattern=r'\\w{3,}', stop_words='english')  \n",
    "phr_tfidf_fit =phr_tfidf.fit_transform(data_text['features_phr_str'])\n",
    "phr_names = [x for x in phr_tfidf.get_feature_names()]\n",
    "data_text['features_phr_vec'] = pd.Series(phr_tfidf_fit.toarray().tolist())"
   ]
  },
  {
   "cell_type": "code",
   "execution_count": 4,
   "metadata": {},
   "outputs": [],
   "source": [
    "phr_list = phr_tfidf_fit.toarray().tolist()\n",
    "p_array=np.asarray(phr_list).reshape(123824, 40)\n",
    "phr = pd.DataFrame(p_array, columns=[\"p_%d\" % i for i in range(0, 40)])\n",
    "\n",
    "desc_list = desc_tfidf_fit.toarray().tolist()\n",
    "d_array=np.asarray(desc_list).reshape(123824, 40)\n",
    "desc = pd.DataFrame(d_array, columns=[\"d_%d\" % i for i in range(0, 40)])"
   ]
  },
  {
   "cell_type": "code",
   "execution_count": 5,
   "metadata": {
    "scrolled": true
   },
   "outputs": [
    {
     "data": {
      "text/html": [
       "<div>\n",
       "<style scoped>\n",
       "    .dataframe tbody tr th:only-of-type {\n",
       "        vertical-align: middle;\n",
       "    }\n",
       "\n",
       "    .dataframe tbody tr th {\n",
       "        vertical-align: top;\n",
       "    }\n",
       "\n",
       "    .dataframe thead th {\n",
       "        text-align: right;\n",
       "    }\n",
       "</style>\n",
       "<table border=\"1\" class=\"dataframe\">\n",
       "  <thead>\n",
       "    <tr style=\"text-align: right;\">\n",
       "      <th></th>\n",
       "      <th>p_0</th>\n",
       "      <th>p_1</th>\n",
       "      <th>p_2</th>\n",
       "      <th>p_3</th>\n",
       "      <th>p_4</th>\n",
       "      <th>p_5</th>\n",
       "      <th>p_6</th>\n",
       "      <th>p_7</th>\n",
       "      <th>p_8</th>\n",
       "      <th>p_9</th>\n",
       "      <th>...</th>\n",
       "      <th>d_30</th>\n",
       "      <th>d_31</th>\n",
       "      <th>d_32</th>\n",
       "      <th>d_33</th>\n",
       "      <th>d_34</th>\n",
       "      <th>d_35</th>\n",
       "      <th>d_36</th>\n",
       "      <th>d_37</th>\n",
       "      <th>d_38</th>\n",
       "      <th>d_39</th>\n",
       "    </tr>\n",
       "  </thead>\n",
       "  <tbody>\n",
       "    <tr>\n",
       "      <th>0</th>\n",
       "      <td>0.0</td>\n",
       "      <td>0.269246</td>\n",
       "      <td>0.0</td>\n",
       "      <td>0.505923</td>\n",
       "      <td>0.288970</td>\n",
       "      <td>0.280043</td>\n",
       "      <td>0.000000</td>\n",
       "      <td>0.000000</td>\n",
       "      <td>0.0</td>\n",
       "      <td>0.0</td>\n",
       "      <td>...</td>\n",
       "      <td>0.000000</td>\n",
       "      <td>0.194602</td>\n",
       "      <td>0.228802</td>\n",
       "      <td>0.000000</td>\n",
       "      <td>0.000000</td>\n",
       "      <td>0.000000</td>\n",
       "      <td>0.000000</td>\n",
       "      <td>0.000000</td>\n",
       "      <td>0.131750</td>\n",
       "      <td>0.0</td>\n",
       "    </tr>\n",
       "    <tr>\n",
       "      <th>1</th>\n",
       "      <td>0.0</td>\n",
       "      <td>0.000000</td>\n",
       "      <td>0.0</td>\n",
       "      <td>0.000000</td>\n",
       "      <td>0.411748</td>\n",
       "      <td>0.000000</td>\n",
       "      <td>0.410219</td>\n",
       "      <td>0.360214</td>\n",
       "      <td>0.0</td>\n",
       "      <td>0.0</td>\n",
       "      <td>...</td>\n",
       "      <td>0.000000</td>\n",
       "      <td>0.000000</td>\n",
       "      <td>0.000000</td>\n",
       "      <td>0.000000</td>\n",
       "      <td>0.000000</td>\n",
       "      <td>0.000000</td>\n",
       "      <td>0.000000</td>\n",
       "      <td>0.000000</td>\n",
       "      <td>0.186830</td>\n",
       "      <td>0.0</td>\n",
       "    </tr>\n",
       "    <tr>\n",
       "      <th>2</th>\n",
       "      <td>0.0</td>\n",
       "      <td>0.000000</td>\n",
       "      <td>0.0</td>\n",
       "      <td>0.000000</td>\n",
       "      <td>0.383966</td>\n",
       "      <td>0.000000</td>\n",
       "      <td>0.382540</td>\n",
       "      <td>0.335909</td>\n",
       "      <td>0.0</td>\n",
       "      <td>0.0</td>\n",
       "      <td>...</td>\n",
       "      <td>0.182340</td>\n",
       "      <td>0.340825</td>\n",
       "      <td>0.000000</td>\n",
       "      <td>0.155577</td>\n",
       "      <td>0.161545</td>\n",
       "      <td>0.173477</td>\n",
       "      <td>0.159496</td>\n",
       "      <td>0.172502</td>\n",
       "      <td>0.109952</td>\n",
       "      <td>0.0</td>\n",
       "    </tr>\n",
       "    <tr>\n",
       "      <th>3</th>\n",
       "      <td>0.0</td>\n",
       "      <td>0.000000</td>\n",
       "      <td>0.0</td>\n",
       "      <td>0.000000</td>\n",
       "      <td>0.000000</td>\n",
       "      <td>0.000000</td>\n",
       "      <td>0.000000</td>\n",
       "      <td>0.000000</td>\n",
       "      <td>0.0</td>\n",
       "      <td>0.0</td>\n",
       "      <td>...</td>\n",
       "      <td>0.000000</td>\n",
       "      <td>0.000000</td>\n",
       "      <td>0.000000</td>\n",
       "      <td>0.000000</td>\n",
       "      <td>0.000000</td>\n",
       "      <td>0.000000</td>\n",
       "      <td>0.277344</td>\n",
       "      <td>0.299960</td>\n",
       "      <td>0.191192</td>\n",
       "      <td>0.0</td>\n",
       "    </tr>\n",
       "    <tr>\n",
       "      <th>4</th>\n",
       "      <td>0.0</td>\n",
       "      <td>0.000000</td>\n",
       "      <td>0.0</td>\n",
       "      <td>0.000000</td>\n",
       "      <td>0.000000</td>\n",
       "      <td>0.000000</td>\n",
       "      <td>0.474337</td>\n",
       "      <td>0.416516</td>\n",
       "      <td>0.0</td>\n",
       "      <td>0.0</td>\n",
       "      <td>...</td>\n",
       "      <td>0.000000</td>\n",
       "      <td>0.000000</td>\n",
       "      <td>0.000000</td>\n",
       "      <td>0.000000</td>\n",
       "      <td>0.000000</td>\n",
       "      <td>0.000000</td>\n",
       "      <td>0.000000</td>\n",
       "      <td>0.000000</td>\n",
       "      <td>0.382024</td>\n",
       "      <td>0.0</td>\n",
       "    </tr>\n",
       "    <tr>\n",
       "      <th>...</th>\n",
       "      <td>...</td>\n",
       "      <td>...</td>\n",
       "      <td>...</td>\n",
       "      <td>...</td>\n",
       "      <td>...</td>\n",
       "      <td>...</td>\n",
       "      <td>...</td>\n",
       "      <td>...</td>\n",
       "      <td>...</td>\n",
       "      <td>...</td>\n",
       "      <td>...</td>\n",
       "      <td>...</td>\n",
       "      <td>...</td>\n",
       "      <td>...</td>\n",
       "      <td>...</td>\n",
       "      <td>...</td>\n",
       "      <td>...</td>\n",
       "      <td>...</td>\n",
       "      <td>...</td>\n",
       "      <td>...</td>\n",
       "      <td>...</td>\n",
       "    </tr>\n",
       "    <tr>\n",
       "      <th>123819</th>\n",
       "      <td>0.0</td>\n",
       "      <td>0.000000</td>\n",
       "      <td>0.0</td>\n",
       "      <td>0.000000</td>\n",
       "      <td>0.000000</td>\n",
       "      <td>0.000000</td>\n",
       "      <td>0.000000</td>\n",
       "      <td>0.000000</td>\n",
       "      <td>0.0</td>\n",
       "      <td>0.0</td>\n",
       "      <td>...</td>\n",
       "      <td>0.000000</td>\n",
       "      <td>0.000000</td>\n",
       "      <td>0.000000</td>\n",
       "      <td>0.000000</td>\n",
       "      <td>0.000000</td>\n",
       "      <td>0.000000</td>\n",
       "      <td>0.000000</td>\n",
       "      <td>0.000000</td>\n",
       "      <td>0.000000</td>\n",
       "      <td>0.0</td>\n",
       "    </tr>\n",
       "    <tr>\n",
       "      <th>123820</th>\n",
       "      <td>0.0</td>\n",
       "      <td>0.335651</td>\n",
       "      <td>0.0</td>\n",
       "      <td>0.000000</td>\n",
       "      <td>0.360240</td>\n",
       "      <td>0.349111</td>\n",
       "      <td>0.358902</td>\n",
       "      <td>0.315153</td>\n",
       "      <td>0.0</td>\n",
       "      <td>0.0</td>\n",
       "      <td>...</td>\n",
       "      <td>0.245978</td>\n",
       "      <td>0.219085</td>\n",
       "      <td>0.000000</td>\n",
       "      <td>0.000000</td>\n",
       "      <td>0.000000</td>\n",
       "      <td>0.000000</td>\n",
       "      <td>0.000000</td>\n",
       "      <td>0.000000</td>\n",
       "      <td>0.148325</td>\n",
       "      <td>0.0</td>\n",
       "    </tr>\n",
       "    <tr>\n",
       "      <th>123821</th>\n",
       "      <td>0.0</td>\n",
       "      <td>0.693074</td>\n",
       "      <td>0.0</td>\n",
       "      <td>0.000000</td>\n",
       "      <td>0.000000</td>\n",
       "      <td>0.720867</td>\n",
       "      <td>0.000000</td>\n",
       "      <td>0.000000</td>\n",
       "      <td>0.0</td>\n",
       "      <td>0.0</td>\n",
       "      <td>...</td>\n",
       "      <td>0.000000</td>\n",
       "      <td>0.191186</td>\n",
       "      <td>0.224785</td>\n",
       "      <td>0.183148</td>\n",
       "      <td>0.190173</td>\n",
       "      <td>0.204220</td>\n",
       "      <td>0.187761</td>\n",
       "      <td>0.203073</td>\n",
       "      <td>0.000000</td>\n",
       "      <td>0.0</td>\n",
       "    </tr>\n",
       "    <tr>\n",
       "      <th>123822</th>\n",
       "      <td>0.0</td>\n",
       "      <td>0.493459</td>\n",
       "      <td>0.0</td>\n",
       "      <td>0.000000</td>\n",
       "      <td>0.000000</td>\n",
       "      <td>0.513247</td>\n",
       "      <td>0.527642</td>\n",
       "      <td>0.463324</td>\n",
       "      <td>0.0</td>\n",
       "      <td>0.0</td>\n",
       "      <td>...</td>\n",
       "      <td>0.000000</td>\n",
       "      <td>0.000000</td>\n",
       "      <td>0.000000</td>\n",
       "      <td>0.000000</td>\n",
       "      <td>0.000000</td>\n",
       "      <td>0.000000</td>\n",
       "      <td>0.000000</td>\n",
       "      <td>0.000000</td>\n",
       "      <td>0.000000</td>\n",
       "      <td>0.0</td>\n",
       "    </tr>\n",
       "    <tr>\n",
       "      <th>123823</th>\n",
       "      <td>0.0</td>\n",
       "      <td>0.235107</td>\n",
       "      <td>0.0</td>\n",
       "      <td>0.000000</td>\n",
       "      <td>0.252330</td>\n",
       "      <td>0.244535</td>\n",
       "      <td>0.000000</td>\n",
       "      <td>0.000000</td>\n",
       "      <td>0.0</td>\n",
       "      <td>0.0</td>\n",
       "      <td>...</td>\n",
       "      <td>0.000000</td>\n",
       "      <td>0.000000</td>\n",
       "      <td>0.000000</td>\n",
       "      <td>0.000000</td>\n",
       "      <td>0.000000</td>\n",
       "      <td>0.000000</td>\n",
       "      <td>0.000000</td>\n",
       "      <td>0.000000</td>\n",
       "      <td>0.207759</td>\n",
       "      <td>0.0</td>\n",
       "    </tr>\n",
       "  </tbody>\n",
       "</table>\n",
       "<p>123824 rows × 80 columns</p>\n",
       "</div>"
      ],
      "text/plain": [
       "        p_0       p_1  p_2       p_3       p_4       p_5       p_6       p_7  \\\n",
       "0       0.0  0.269246  0.0  0.505923  0.288970  0.280043  0.000000  0.000000   \n",
       "1       0.0  0.000000  0.0  0.000000  0.411748  0.000000  0.410219  0.360214   \n",
       "2       0.0  0.000000  0.0  0.000000  0.383966  0.000000  0.382540  0.335909   \n",
       "3       0.0  0.000000  0.0  0.000000  0.000000  0.000000  0.000000  0.000000   \n",
       "4       0.0  0.000000  0.0  0.000000  0.000000  0.000000  0.474337  0.416516   \n",
       "...     ...       ...  ...       ...       ...       ...       ...       ...   \n",
       "123819  0.0  0.000000  0.0  0.000000  0.000000  0.000000  0.000000  0.000000   \n",
       "123820  0.0  0.335651  0.0  0.000000  0.360240  0.349111  0.358902  0.315153   \n",
       "123821  0.0  0.693074  0.0  0.000000  0.000000  0.720867  0.000000  0.000000   \n",
       "123822  0.0  0.493459  0.0  0.000000  0.000000  0.513247  0.527642  0.463324   \n",
       "123823  0.0  0.235107  0.0  0.000000  0.252330  0.244535  0.000000  0.000000   \n",
       "\n",
       "        p_8  p_9  ...      d_30      d_31      d_32      d_33      d_34  \\\n",
       "0       0.0  0.0  ...  0.000000  0.194602  0.228802  0.000000  0.000000   \n",
       "1       0.0  0.0  ...  0.000000  0.000000  0.000000  0.000000  0.000000   \n",
       "2       0.0  0.0  ...  0.182340  0.340825  0.000000  0.155577  0.161545   \n",
       "3       0.0  0.0  ...  0.000000  0.000000  0.000000  0.000000  0.000000   \n",
       "4       0.0  0.0  ...  0.000000  0.000000  0.000000  0.000000  0.000000   \n",
       "...     ...  ...  ...       ...       ...       ...       ...       ...   \n",
       "123819  0.0  0.0  ...  0.000000  0.000000  0.000000  0.000000  0.000000   \n",
       "123820  0.0  0.0  ...  0.245978  0.219085  0.000000  0.000000  0.000000   \n",
       "123821  0.0  0.0  ...  0.000000  0.191186  0.224785  0.183148  0.190173   \n",
       "123822  0.0  0.0  ...  0.000000  0.000000  0.000000  0.000000  0.000000   \n",
       "123823  0.0  0.0  ...  0.000000  0.000000  0.000000  0.000000  0.000000   \n",
       "\n",
       "            d_35      d_36      d_37      d_38  d_39  \n",
       "0       0.000000  0.000000  0.000000  0.131750   0.0  \n",
       "1       0.000000  0.000000  0.000000  0.186830   0.0  \n",
       "2       0.173477  0.159496  0.172502  0.109952   0.0  \n",
       "3       0.000000  0.277344  0.299960  0.191192   0.0  \n",
       "4       0.000000  0.000000  0.000000  0.382024   0.0  \n",
       "...          ...       ...       ...       ...   ...  \n",
       "123819  0.000000  0.000000  0.000000  0.000000   0.0  \n",
       "123820  0.000000  0.000000  0.000000  0.148325   0.0  \n",
       "123821  0.204220  0.187761  0.203073  0.000000   0.0  \n",
       "123822  0.000000  0.000000  0.000000  0.000000   0.0  \n",
       "123823  0.000000  0.000000  0.000000  0.207759   0.0  \n",
       "\n",
       "[123824 rows x 80 columns]"
      ]
     },
     "execution_count": 5,
     "metadata": {},
     "output_type": "execute_result"
    }
   ],
   "source": [
    "text = phr.join([desc])\n",
    "text"
   ]
  },
  {
   "cell_type": "markdown",
   "metadata": {},
   "source": [
    "### 0.2 Drop correlated columns and less significant columns"
   ]
  },
  {
   "cell_type": "code",
   "execution_count": 6,
   "metadata": {},
   "outputs": [],
   "source": [
    "def remove_correlated_features(X):\n",
    "    corr_threshold = 0.9\n",
    "    corr = X.corr()\n",
    "    drop_columns = np.full(corr.shape[0], False, dtype=bool)\n",
    "    for i in range(corr.shape[0]):\n",
    "        for j in range(i + 1, corr.shape[0]):\n",
    "            if corr.iloc[i, j] >= corr_threshold:\n",
    "                drop_columns[j] = True\n",
    "    columns_dropped = X.columns[drop_columns]\n",
    "    X.drop(columns_dropped, axis=1, inplace=True)\n",
    "    return columns_dropped"
   ]
  },
  {
   "cell_type": "code",
   "execution_count": 7,
   "metadata": {},
   "outputs": [],
   "source": [
    "def remove_less_significant_features(X, Y):\n",
    "    sl = 0.05\n",
    "    regression_ols = None\n",
    "    columns_dropped = np.array([])\n",
    "    for itr in range(0, len(X.columns)):\n",
    "        regression_ols = sm.OLS(Y, X).fit()\n",
    "        max_col = regression_ols.pvalues.idxmax()\n",
    "        max_val = regression_ols.pvalues.max()\n",
    "        if max_val > sl:\n",
    "            X.drop(max_col, axis='columns', inplace=True)\n",
    "            columns_dropped = np.append(columns_dropped, [max_col])\n",
    "        else:\n",
    "            break\n",
    "    regression_ols.summary()\n",
    "    return columns_dropped"
   ]
  },
  {
   "cell_type": "code",
   "execution_count": 8,
   "metadata": {},
   "outputs": [],
   "source": [
    "columns_dropped_corr = remove_correlated_features(text)"
   ]
  },
  {
   "cell_type": "code",
   "execution_count": 9,
   "metadata": {},
   "outputs": [
    {
     "data": {
      "text/plain": [
       "Index(['p_24', 'p_29', 'p_35', 'p_38', 'd_19', 'd_29', 'd_34', 'd_36', 'd_37'], dtype='object')"
      ]
     },
     "execution_count": 9,
     "metadata": {},
     "output_type": "execute_result"
    }
   ],
   "source": [
    "columns_dropped_corr"
   ]
  },
  {
   "cell_type": "code",
   "execution_count": 10,
   "metadata": {},
   "outputs": [],
   "source": [
    "ori_train=pd.read_json(\"modified_data/modified_train.json\")\n",
    "ori_test = pd.read_json(\"modified_data/modified_test.json\")\n",
    "\n",
    "ori_train = ori_train.drop(columns=['rec_id', 'building_id','description','display_address','manager_id','features','photos','street_address','features_phr_vec','description_vec','text_vec'])\n",
    "ori_train = ori_train.reset_index()\n",
    "train = ori_train.join(text)\n",
    "\n",
    "ori_test = ori_test.drop(columns=['rec_id', 'building_id','description','display_address','manager_id','features','photos','street_address','features_phr_vec','description_vec','text_vec'])\n",
    "ori_test = ori_test.reset_index()\n",
    "test = ori_test.join(text)\n",
    "\n",
    "Listing_id_train = train['listing_id']\n",
    "y_train = train['interest_level']\n",
    "X_train = train.drop(columns=['index','listing_id', 'interest_level', 'diff_rooms'])\n",
    "\n",
    "Listing_id_test = test['listing_id']\n",
    "X_test = test.drop(columns=['index', 'listing_id'])\n",
    "\n",
    "y_train_map = {\"low\":0, \"medium\": 1, \"high\": 2}\n",
    "y_train = y_train.map(y_train_map)"
   ]
  },
  {
   "cell_type": "code",
   "execution_count": 11,
   "metadata": {},
   "outputs": [],
   "source": [
    "X = pd.concat([X_train, X_test])"
   ]
  },
  {
   "cell_type": "code",
   "execution_count": 12,
   "metadata": {},
   "outputs": [],
   "source": [
    "X_train = X[:49165]\n",
    "X_test = X[49165:]"
   ]
  },
  {
   "cell_type": "code",
   "execution_count": 13,
   "metadata": {
    "scrolled": true
   },
   "outputs": [
    {
     "name": "stderr",
     "output_type": "stream",
     "text": [
      "c:\\users\\xixi6\\appdata\\local\\programs\\python\\python38\\lib\\site-packages\\pandas\\core\\frame.py:3987: SettingWithCopyWarning: \n",
      "A value is trying to be set on a copy of a slice from a DataFrame\n",
      "\n",
      "See the caveats in the documentation: https://pandas.pydata.org/pandas-docs/stable/user_guide/indexing.html#returning-a-view-versus-a-copy\n",
      "  return super().drop(\n"
     ]
    },
    {
     "data": {
      "text/plain": [
       "array(['d_1', 'p_21', 'd_4', 'p_20', 'd_9', 'p_25', 'p_1', 'p_0', 'd_26',\n",
       "       'd_5', 'd_10', 'd_27', 'd_15', 'd_2', 'created', 'd_11', 'd_33',\n",
       "       'd_35', 'p_13', 'd_17', 'd_16', 'p_12', 'manager_id_num'],\n",
       "      dtype='<U32')"
      ]
     },
     "execution_count": 13,
     "metadata": {},
     "output_type": "execute_result"
    }
   ],
   "source": [
    "columns_dropped_insig = remove_less_significant_features(X_train, y_train)\n",
    "X_sig = X.drop(columns=columns_dropped_insig)\n",
    "columns_dropped_insig"
   ]
  },
  {
   "cell_type": "markdown",
   "metadata": {},
   "source": [
    "### 0.3 Data Reduction - PCA & Scaler"
   ]
  },
  {
   "cell_type": "code",
   "execution_count": 13,
   "metadata": {
    "scrolled": true
   },
   "outputs": [],
   "source": [
    "# apply PCA\n",
    "X_pca = PCA(n_components=6).fit_transform(X)\n",
    "X_train_pca = X_pca[:49165]\n",
    "X_test_pca = X_pca[49165:]"
   ]
  },
  {
   "cell_type": "code",
   "execution_count": 14,
   "metadata": {
    "scrolled": false
   },
   "outputs": [],
   "source": [
    "from sklearn.preprocessing import StandardScaler\n",
    "\n",
    "scaler = StandardScaler()\n",
    "X_scaled = scaler.fit_transform(X_pca)\n",
    "X_train_scaled = X_scaled[:49165]\n",
    "X_test_scaled = X_scaled[49165:]"
   ]
  },
  {
   "cell_type": "markdown",
   "metadata": {},
   "source": [
    "## 1. Cross-validation Functions"
   ]
  },
  {
   "cell_type": "markdown",
   "metadata": {},
   "source": [
    "### 1.1 KFold"
   ]
  },
  {
   "cell_type": "code",
   "execution_count": 55,
   "metadata": {},
   "outputs": [],
   "source": [
    "scores = []"
   ]
  },
  {
   "cell_type": "code",
   "execution_count": 56,
   "metadata": {},
   "outputs": [],
   "source": [
    "from sklearn.svm import SVC\n",
    "from sklearn.model_selection import KFold, cross_val_score\n",
    "def crossValidation(clf, X, y, n):\n",
    "    cv = KFold(n_splits=n)\n",
    "    y_pred = []\n",
    "    i=0\n",
    "    # split the training data to training and validation data\n",
    "    for train_index, valid_index in cv.split(X):\n",
    "        print(\"loop %d\" % i)\n",
    "        i += 1\n",
    "        X_tr, X_va, y_tr, y_va = X[train_index], X[valid_index], y.iloc[train_index], y.iloc[valid_index]\n",
    "        clf.fit(X_tr, y_tr)\n",
    "        y_pred.append(clf.predict(X_va))\n",
    "        newScore = clf.score(X_va, y_va)\n",
    "        scores.append(newScore)\n",
    "    return y_pred\n",
    "    "
   ]
  },
  {
   "cell_type": "code",
   "execution_count": 57,
   "metadata": {},
   "outputs": [],
   "source": [
    "import time\n",
    "from sklearn.ensemble import BaggingClassifier, RandomForestClassifier\n",
    "from sklearn.multiclass import OneVsRestClassifier\n",
    "n_estimators = 10\n",
    "clf = OneVsRestClassifier(BaggingClassifier(SVC(kernel='sigmoid',C=1, gamma='auto', probability=True, class_weight='balanced'), max_samples=1.0/ n_estimators, n_estimators=n_estimators))"
   ]
  },
  {
   "cell_type": "code",
   "execution_count": 58,
   "metadata": {
    "scrolled": true
   },
   "outputs": [
    {
     "name": "stdout",
     "output_type": "stream",
     "text": [
      "loop 0\n",
      "loop 1\n",
      "loop 2\n",
      "loop 3\n",
      "loop 4\n"
     ]
    }
   ],
   "source": [
    "y_pred = crossValidation(clf, X_train_scaled, y_train, 5)"
   ]
  },
  {
   "cell_type": "code",
   "execution_count": 61,
   "metadata": {},
   "outputs": [],
   "source": [
    "scores_array = np.asarray(scores)"
   ]
  },
  {
   "cell_type": "code",
   "execution_count": 64,
   "metadata": {
    "scrolled": false
   },
   "outputs": [
    {
     "name": "stdout",
     "output_type": "stream",
     "text": [
      "Accuracy: 0.468606 (+/- 0.035354)\n"
     ]
    }
   ],
   "source": [
    "print(\"Accuracy: %0.6f (+/- %0.6f)\" % (scores_array.mean(), scores_array.std() * 2))"
   ]
  },
  {
   "cell_type": "markdown",
   "metadata": {},
   "source": [
    "### 1.2 GridSearchCV"
   ]
  },
  {
   "cell_type": "code",
   "execution_count": 16,
   "metadata": {},
   "outputs": [],
   "source": [
    "from sklearn.model_selection import GridSearchCV\n",
    "from sklearn.model_selection import StratifiedShuffleSplit\n",
    "import time\n",
    "from sklearn.ensemble import BaggingClassifier, RandomForestClassifier\n",
    "from sklearn.multiclass import OneVsRestClassifier\n",
    "\n",
    "def tuneParameters(X, y, tuned_parameters, X_test):\n",
    "    score = 'accuracy'\n",
    "    \n",
    "    print('# Tuning hyper-parameters for %s' % score)\n",
    "    print()\n",
    "    n_estimators=10\n",
    "    cv = StratifiedShuffleSplit(n_splits=5, test_size=0.2, random_state=42)\n",
    "    grid = GridSearchCV(SVC(probability=True, class_weight='balanced', cache_size=10000), param_grid=tuned_parameters,scoring='accuracy', cv=cv)\n",
    "    \n",
    "    grid.fit(X, y)\n",
    "\n",
    "    print(\"Best parameters set found on development set:\")\n",
    "    print()\n",
    "    print(grid.best_params_)\n",
    "    print()\n",
    "    print(\"Grid scores on development set:\")\n",
    "    print()\n",
    "    means = grid.cv_results_['mean_test_score']\n",
    "    stds = grid.cv_results_['std_test_score']\n",
    "    for mean, std, params in zip(means, stds, grid.cv_results_['params']):\n",
    "        print(\"%0.3f (+/-%0.03f) for %r\"\n",
    "              % (mean, std * 2, params))\n",
    "    print()\n",
    "\n",
    "\n",
    "    return grid.predict_proba(X_test)"
   ]
  },
  {
   "cell_type": "code",
   "execution_count": null,
   "metadata": {
    "scrolled": true
   },
   "outputs": [
    {
     "name": "stdout",
     "output_type": "stream",
     "text": [
      "# Tuning hyper-parameters for accuracy\n",
      "\n"
     ]
    }
   ],
   "source": [
    "tuned_parameters = [{'kernel': ['linear'], 'C': [1,100]}]\n",
    "\n",
    "y_test = tuneParameters(X_train_scaled, y_train, tuned_parameters, X_test_scaled)"
   ]
  },
  {
   "cell_type": "markdown",
   "metadata": {},
   "source": [
    "## 3 Further improvements"
   ]
  },
  {
   "cell_type": "markdown",
   "metadata": {},
   "source": [
    "### 3.1 Bagging in SVC"
   ]
  },
  {
   "cell_type": "code",
   "execution_count": 27,
   "metadata": {},
   "outputs": [],
   "source": [
    "import time\n",
    "from sklearn.ensemble import BaggingClassifier, RandomForestClassifier\n",
    "from sklearn.multiclass import OneVsRestClassifier\n",
    "\n",
    "def bagging(X, y, X_test):\n",
    "    n_estimators = 10\n",
    "    start = time.time()\n",
    "    clf = OneVsRestClassifier(BaggingClassifier(SVC(kernel='linear',C=10, probability=True, class_weight='balanced'), max_samples=1.0/ n_estimators, n_estimators=n_estimators))\n",
    "    clf.fit(X, y)\n",
    "    end = time.time()\n",
    "    print(\"Bagging SVC:\", end - start, clf.score(X,y))\n",
    "    return clf.predict_proba(X_test)\n"
   ]
  },
  {
   "cell_type": "markdown",
   "metadata": {},
   "source": [
    "#### Bagging here helps improve the efficiency "
   ]
  },
  {
   "cell_type": "markdown",
   "metadata": {},
   "source": [
    "#### Linear kernel with C=10"
   ]
  },
  {
   "cell_type": "code",
   "execution_count": 28,
   "metadata": {
    "scrolled": true
   },
   "outputs": [
    {
     "name": "stdout",
     "output_type": "stream",
     "text": [
      "Bagging SVC: 59.25253129005432 0.6937455506966338\n"
     ]
    }
   ],
   "source": [
    "y_test = bagging(X_train_scaled, y_train, X_test_scaled, 'linear', 10)"
   ]
  },
  {
   "cell_type": "code",
   "execution_count": 29,
   "metadata": {},
   "outputs": [],
   "source": [
    "# change the order of columns in result\n",
    "y_test_df = pd.DataFrame(y_test)\n",
    "cols = y_test_df.columns.tolist()\n",
    "cols = cols[-1:] + cols[:-1]\n",
    "y_test = y_test_df[cols].to_numpy()"
   ]
  },
  {
   "cell_type": "code",
   "execution_count": 30,
   "metadata": {},
   "outputs": [],
   "source": [
    "def to_result_format(X):\n",
    "    res = pd.DataFrame(y_test,columns=['high', 'low', 'medium'])\n",
    "    temp = res['low']\n",
    "    res = res.drop(columns = {'low'})\n",
    "    res.insert(2,'low',temp)\n",
    "    res.insert\n",
    "    res.insert(0,'listing_id',X['listing_id'])\n",
    "    res.to_csv('submission.csv', index = None)\n",
    "    return res"
   ]
  },
  {
   "cell_type": "code",
   "execution_count": 31,
   "metadata": {},
   "outputs": [],
   "source": [
    "X_test_df = pd.DataFrame(X_test).join([Listing_id_test])\n",
    "res = to_result_format(X_test_df)"
   ]
  },
  {
   "cell_type": "code",
   "execution_count": 32,
   "metadata": {},
   "outputs": [
    {
     "data": {
      "text/html": [
       "<div>\n",
       "<style scoped>\n",
       "    .dataframe tbody tr th:only-of-type {\n",
       "        vertical-align: middle;\n",
       "    }\n",
       "\n",
       "    .dataframe tbody tr th {\n",
       "        vertical-align: top;\n",
       "    }\n",
       "\n",
       "    .dataframe thead th {\n",
       "        text-align: right;\n",
       "    }\n",
       "</style>\n",
       "<table border=\"1\" class=\"dataframe\">\n",
       "  <thead>\n",
       "    <tr style=\"text-align: right;\">\n",
       "      <th></th>\n",
       "      <th>listing_id</th>\n",
       "      <th>high</th>\n",
       "      <th>medium</th>\n",
       "      <th>low</th>\n",
       "    </tr>\n",
       "  </thead>\n",
       "  <tbody>\n",
       "    <tr>\n",
       "      <th>0</th>\n",
       "      <td>7142618</td>\n",
       "      <td>0.081533</td>\n",
       "      <td>0.227132</td>\n",
       "      <td>0.691335</td>\n",
       "    </tr>\n",
       "    <tr>\n",
       "      <th>1</th>\n",
       "      <td>7210040</td>\n",
       "      <td>0.083058</td>\n",
       "      <td>0.226309</td>\n",
       "      <td>0.690633</td>\n",
       "    </tr>\n",
       "    <tr>\n",
       "      <th>2</th>\n",
       "      <td>7174566</td>\n",
       "      <td>0.082346</td>\n",
       "      <td>0.227387</td>\n",
       "      <td>0.690267</td>\n",
       "    </tr>\n",
       "    <tr>\n",
       "      <th>3</th>\n",
       "      <td>7191391</td>\n",
       "      <td>0.082670</td>\n",
       "      <td>0.226395</td>\n",
       "      <td>0.690935</td>\n",
       "    </tr>\n",
       "    <tr>\n",
       "      <th>4</th>\n",
       "      <td>7171695</td>\n",
       "      <td>0.082036</td>\n",
       "      <td>0.226435</td>\n",
       "      <td>0.691529</td>\n",
       "    </tr>\n",
       "    <tr>\n",
       "      <th>...</th>\n",
       "      <td>...</td>\n",
       "      <td>...</td>\n",
       "      <td>...</td>\n",
       "      <td>...</td>\n",
       "    </tr>\n",
       "    <tr>\n",
       "      <th>74654</th>\n",
       "      <td>6928108</td>\n",
       "      <td>0.077813</td>\n",
       "      <td>0.234572</td>\n",
       "      <td>0.687615</td>\n",
       "    </tr>\n",
       "    <tr>\n",
       "      <th>74655</th>\n",
       "      <td>6906674</td>\n",
       "      <td>0.076642</td>\n",
       "      <td>0.232124</td>\n",
       "      <td>0.691233</td>\n",
       "    </tr>\n",
       "    <tr>\n",
       "      <th>74656</th>\n",
       "      <td>6897967</td>\n",
       "      <td>0.077122</td>\n",
       "      <td>0.234780</td>\n",
       "      <td>0.688098</td>\n",
       "    </tr>\n",
       "    <tr>\n",
       "      <th>74657</th>\n",
       "      <td>6842183</td>\n",
       "      <td>0.075041</td>\n",
       "      <td>0.231113</td>\n",
       "      <td>0.693846</td>\n",
       "    </tr>\n",
       "    <tr>\n",
       "      <th>74658</th>\n",
       "      <td>6889319</td>\n",
       "      <td>0.076290</td>\n",
       "      <td>0.232049</td>\n",
       "      <td>0.691661</td>\n",
       "    </tr>\n",
       "  </tbody>\n",
       "</table>\n",
       "<p>74659 rows × 4 columns</p>\n",
       "</div>"
      ],
      "text/plain": [
       "       listing_id      high    medium       low\n",
       "0         7142618  0.081533  0.227132  0.691335\n",
       "1         7210040  0.083058  0.226309  0.690633\n",
       "2         7174566  0.082346  0.227387  0.690267\n",
       "3         7191391  0.082670  0.226395  0.690935\n",
       "4         7171695  0.082036  0.226435  0.691529\n",
       "...           ...       ...       ...       ...\n",
       "74654     6928108  0.077813  0.234572  0.687615\n",
       "74655     6906674  0.076642  0.232124  0.691233\n",
       "74656     6897967  0.077122  0.234780  0.688098\n",
       "74657     6842183  0.075041  0.231113  0.693846\n",
       "74658     6889319  0.076290  0.232049  0.691661\n",
       "\n",
       "[74659 rows x 4 columns]"
      ]
     },
     "execution_count": 32,
     "metadata": {},
     "output_type": "execute_result"
    }
   ],
   "source": [
    "res"
   ]
  },
  {
   "cell_type": "markdown",
   "metadata": {},
   "source": [
    "#### Logloss=0.79002"
   ]
  },
  {
   "cell_type": "markdown",
   "metadata": {},
   "source": [
    "### Visualization of parameter tuning"
   ]
  },
  {
   "cell_type": "code",
   "execution_count": 65,
   "metadata": {},
   "outputs": [],
   "source": [
    "import numpy as np\n",
    "import matplotlib.pyplot as plt\n",
    "%matplotlib inline"
   ]
  },
  {
   "cell_type": "code",
   "execution_count": 66,
   "metadata": {},
   "outputs": [],
   "source": [
    "def plotSVC(X, y, clfs, titles):\n",
    "    # create a mesh to plot in\n",
    "    x_min, x_max = X[:, 0].min() -1, X[:, 0].max() + 1\n",
    "    y_min, y_max = X[:, 1].min() - 1, X[:, 1].max() + 1\n",
    "    h = (x_max - x_min)/100\n",
    "    xx, yy = np.meshgrid(np.arange(x_min, x_max, h),np.arange(y_min, y_max, h))\n",
    "    for i, clf in enumerate(clfs):\n",
    "        plt.subplot(2, 2, i + 1)\n",
    "        #print(np.c_[xx.ravel(), yy.ravel()])\n",
    "        Z = clf.predict(np.c_[xx.ravel(), yy.ravel()])\n",
    "        Z = Z.reshape(xx.shape)\n",
    "        plt.contourf(xx, yy, Z, cmap=plt.cm.Paired, alpha=0.8)\n",
    "        plt.scatter(X[:, 0], X[:, 1], c=y, cmap=plt.cm.Paired)\n",
    "        plt.xlabel('Sepal length')\n",
    "        plt.ylabel('Sepal width')\n",
    "        plt.xlim(xx.min(), xx.max())\n",
    "        plt.ylim(yy.min(), yy.max())\n",
    "        plt.xticks(())\n",
    "        plt.yticks(())\n",
    "        plt.title(titles[i])\n",
    "        \n",
    "    plt.show()"
   ]
  },
  {
   "cell_type": "markdown",
   "metadata": {},
   "source": [
    "### Confusion Matrix"
   ]
  },
  {
   "cell_type": "code",
   "execution_count": 25,
   "metadata": {},
   "outputs": [],
   "source": [
    "y_valid = y_train"
   ]
  },
  {
   "cell_type": "code",
   "execution_count": 45,
   "metadata": {},
   "outputs": [],
   "source": [
    "y_p = np.asarray(y_pred).reshape(49165,1)"
   ]
  },
  {
   "cell_type": "code",
   "execution_count": 50,
   "metadata": {},
   "outputs": [],
   "source": [
    "import matplotlib.pyplot as plt\n",
    "from sklearn.metrics import confusion_matrix\n",
    "import seaborn as sns\n",
    "def cm_plot(y_valid,y_pred):\n",
    "    cm = confusion_matrix(y_valid, y_pred, labels = [0,1,2])\n",
    "    cm = pd.DataFrame(cm,columns=['low','medium','high'],index = ['low','medium','high'])\n",
    "    plt.title('Confusion Matrix',fontsize=18)\n",
    "    ax = sns.heatmap(cm,annot=True,cmap='YlGn_r',fmt='.20g',linewidths = 0)\n",
    "    bottom, top = ax.get_ylim()\n",
    "    ax.set_ylim(bottom + 0.5, top - 0.5)\n",
    "    plt.xlabel('Predicted Label',fontsize=12)\n",
    "    plt.ylabel('True Label',fontsize=12)\n",
    "    plt.savefig('cm.png',dpi=800)"
   ]
  },
  {
   "cell_type": "code",
   "execution_count": 51,
   "metadata": {},
   "outputs": [
    {
     "data": {
      "image/png": "[encoded data removed]",
      "text/plain": [
       "<Figure size 432x288 with 2 Axes>"
      ]
     },
     "metadata": {
      "needs_background": "light"
     },
     "output_type": "display_data"
    }
   ],
   "source": [
    "cm_plot(y_valid, y_p)"
   ]
  }
 ],
 "metadata": {
  "kernelspec": {
   "display_name": "Python 3",
   "language": "python",
   "name": "python3"
  },
  "language_info": {
   "codemirror_mode": {
    "name": "ipython",
    "version": 3
   },
   "file_extension": ".py",
   "mimetype": "text/x-python",
   "name": "python",
   "nbconvert_exporter": "python",
   "pygments_lexer": "ipython3",
   "version": "3.8.1"
  }
 },
 "nbformat": 4,
 "nbformat_minor": 4
}
